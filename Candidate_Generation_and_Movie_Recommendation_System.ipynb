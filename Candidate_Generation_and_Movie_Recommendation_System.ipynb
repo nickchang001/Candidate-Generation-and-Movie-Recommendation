{
  "nbformat": 4,
  "nbformat_minor": 0,
  "metadata": {
    "colab": {
      "name": "Candidate Generation and Movie Recommendation System.ipynb",
      "provenance": [],
      "collapsed_sections": [],
      "toc_visible": true,
      "mount_file_id": "1QkFJ7K79pizTSQyu7CkeDRPcOoaZIkSf",
      "authorship_tag": "ABX9TyOuO6vFiuhA8Uh0yBCHDVpi",
      "include_colab_link": true
    },
    "kernelspec": {
      "display_name": "Python 3",
      "name": "python3"
    }
  },
  "cells": [
    {
      "cell_type": "markdown",
      "metadata": {
        "id": "view-in-github",
        "colab_type": "text"
      },
      "source": [
        "<a href=\"https://colab.research.google.com/github/nickchang001/Candidate-Generation-and-Movie-Recommendation/blob/main/Candidate_Generation_and_Movie_Recommendation_System.ipynb\" target=\"_parent\"><img src=\"https://colab.research.google.com/assets/colab-badge.svg\" alt=\"Open In Colab\"/></a>"
      ]
    },
    {
      "cell_type": "markdown",
      "metadata": {
        "id": "NgsYlhVJWX8E"
      },
      "source": [
        "#Movie Recommendation System\n",
        "####Motivation and Business Impact:\n",
        "\n",
        "*    Increase users engagement\n",
        " 1. Increase time spent on website.\n",
        " 2. Increase number of movie wathched.\n",
        "\n",
        "*   Increase website Revenue.\n",
        "\n",
        "####Outline\n",
        "\n",
        "\n",
        "*   Data ETL: Build an data  pipeline using Pyspark.\n",
        "*   Exploration: Preprocess and visullize data with Spark DataFrame and seaborn.\n",
        "*   Model: \n",
        "  1. Train an ALS model and use Spark ML cross-validatoin to fine tune hyper parameters.\n",
        "  2. Word2Vec embedding.\n",
        "  3. User Tag embedding\n",
        "*   Serving: \n",
        "  1. Provide personalized movie recommendations without user has been watched before\n",
        "  2. handel cold start issues with recommend top rating movies.\n",
        "\n",
        "\n",
        "\n"
      ]
    },
    {
      "cell_type": "markdown",
      "metadata": {
        "id": "19jmfCVOVIsA"
      },
      "source": [
        "##Part 1: Environment Setup and Load Data"
      ]
    },
    {
      "cell_type": "markdown",
      "metadata": {
        "id": "rIwyZdouVPo5"
      },
      "source": [
        "###Part 1.1: Set up Pyspark in colab"
      ]
    },
    {
      "cell_type": "code",
      "metadata": {
        "colab": {
          "base_uri": "https://localhost:8080/"
        },
        "id": "aRX43_GtU-Oc",
        "outputId": "3207eadc-5259-4bd6-b6e5-51eb0f37e02c"
      },
      "source": [
        "#import nessary packages\n",
        "import seaborn as sns\n",
        "import matplotlib.pyplot as plt\n",
        "import pandas as pd\n",
        "import numpy as np\n",
        "\n",
        "#install Pyspark\n",
        "!apt-get update\n",
        "!apt-get install openjdk-8-jdk-headless -qq > /dev/null\n",
        "#check the last version https://downloads.apache.org/spark/\n",
        "!wget -q http://apache.forsale.plus/spark/spark-3.0.2/spark-3.0.2-bin-hadoop2.7.tgz\n",
        "\n",
        "!tar xf spark-3.0.2-bin-hadoop2.7.tgz\n",
        "!wget -q http://apache.mirrors.pair.com/spark/spark-3.0.2/spark-3.0.2-bin-hadoop2.7.tgz"
      ],
      "execution_count": null,
      "outputs": [
        {
          "output_type": "stream",
          "text": [
            "\r0% [Working]\r            \rIgn:1 https://developer.download.nvidia.com/compute/cuda/repos/ubuntu1804/x86_64  InRelease\n",
            "Get:2 https://cloud.r-project.org/bin/linux/ubuntu bionic-cran40/ InRelease [3,626 B]\n",
            "Hit:3 http://archive.ubuntu.com/ubuntu bionic InRelease\n",
            "Get:4 http://ppa.launchpad.net/c2d4u.team/c2d4u4.0+/ubuntu bionic InRelease [15.9 kB]\n",
            "Get:5 http://security.ubuntu.com/ubuntu bionic-security InRelease [88.7 kB]\n",
            "Ign:6 https://developer.download.nvidia.com/compute/machine-learning/repos/ubuntu1804/x86_64  InRelease\n",
            "Hit:7 https://developer.download.nvidia.com/compute/cuda/repos/ubuntu1804/x86_64  Release\n",
            "Hit:8 https://developer.download.nvidia.com/compute/machine-learning/repos/ubuntu1804/x86_64  Release\n",
            "Get:9 http://archive.ubuntu.com/ubuntu bionic-updates InRelease [88.7 kB]\n",
            "Hit:10 http://ppa.launchpad.net/cran/libgit2/ubuntu bionic InRelease\n",
            "Get:11 http://archive.ubuntu.com/ubuntu bionic-backports InRelease [74.6 kB]\n",
            "Hit:12 http://ppa.launchpad.net/deadsnakes/ppa/ubuntu bionic InRelease\n",
            "Hit:13 http://ppa.launchpad.net/graphics-drivers/ppa/ubuntu bionic InRelease\n",
            "Get:16 http://ppa.launchpad.net/c2d4u.team/c2d4u4.0+/ubuntu bionic/main Sources [1,738 kB]\n",
            "Get:17 http://security.ubuntu.com/ubuntu bionic-security/universe amd64 Packages [1,392 kB]\n",
            "Get:18 http://archive.ubuntu.com/ubuntu bionic-updates/main amd64 Packages [2,394 kB]\n",
            "Get:19 http://security.ubuntu.com/ubuntu bionic-security/main amd64 Packages [1,964 kB]\n",
            "Get:20 http://ppa.launchpad.net/c2d4u.team/c2d4u4.0+/ubuntu bionic/main amd64 Packages [889 kB]\n",
            "Get:21 http://archive.ubuntu.com/ubuntu bionic-updates/universe amd64 Packages [2,163 kB]\n",
            "Fetched 10.8 MB in 3s (3,347 kB/s)\n",
            "Reading package lists... Done\n"
          ],
          "name": "stdout"
        }
      ]
    },
    {
      "cell_type": "code",
      "metadata": {
        "colab": {
          "base_uri": "https://localhost:8080/"
        },
        "id": "VcttrHsjVxRw",
        "outputId": "8802a8b1-95bc-49ef-feec-7e8f0c9961ac"
      },
      "source": [
        "# Set up Spark\n",
        "!pip install -q findspark\n",
        "!pip install py4j\n",
        "\n",
        "!export JAVA_HOME=$(/usr/lib/jvm/java-8-openjdk-amd64 -v 1.8)\n",
        "! echo $JAVA_HOME\n",
        "import os\n",
        "os.environ[\"JAVA_HOME\"] = \"/usr/lib/jvm/java-8-openjdk-amd64\"\n",
        "os.environ[\"SPARK_HOME\"] = \"/content/spark-3.0.2-bin-hadoop2.7\"\n",
        "import findspark\n",
        "findspark.init(\"spark-3.0.2-bin-hadoop2.7\")\n",
        "\n",
        "from pyspark.sql import SparkSession\n",
        "spark = SparkSession.builder.master(\"local[*]\").getOrCreate()"
      ],
      "execution_count": null,
      "outputs": [
        {
          "output_type": "stream",
          "text": [
            "Collecting py4j\n",
            "\u001b[?25l  Downloading https://files.pythonhosted.org/packages/30/42/25ad191f311fcdb38b750d49de167abd535e37a144e730a80d7c439d1751/py4j-0.10.9.1-py2.py3-none-any.whl (198kB)\n",
            "\r\u001b[K     |█▋                              | 10kB 11.5MB/s eta 0:00:01\r\u001b[K     |███▎                            | 20kB 12.7MB/s eta 0:00:01\r\u001b[K     |█████                           | 30kB 8.6MB/s eta 0:00:01\r\u001b[K     |██████▋                         | 40kB 7.1MB/s eta 0:00:01\r\u001b[K     |████████▎                       | 51kB 4.4MB/s eta 0:00:01\r\u001b[K     |██████████                      | 61kB 4.8MB/s eta 0:00:01\r\u001b[K     |███████████▌                    | 71kB 5.1MB/s eta 0:00:01\r\u001b[K     |█████████████▏                  | 81kB 5.2MB/s eta 0:00:01\r\u001b[K     |██████████████▉                 | 92kB 4.9MB/s eta 0:00:01\r\u001b[K     |████████████████▌               | 102kB 5.4MB/s eta 0:00:01\r\u001b[K     |██████████████████▏             | 112kB 5.4MB/s eta 0:00:01\r\u001b[K     |███████████████████▉            | 122kB 5.4MB/s eta 0:00:01\r\u001b[K     |█████████████████████▌          | 133kB 5.4MB/s eta 0:00:01\r\u001b[K     |███████████████████████         | 143kB 5.4MB/s eta 0:00:01\r\u001b[K     |████████████████████████▊       | 153kB 5.4MB/s eta 0:00:01\r\u001b[K     |██████████████████████████▍     | 163kB 5.4MB/s eta 0:00:01\r\u001b[K     |████████████████████████████    | 174kB 5.4MB/s eta 0:00:01\r\u001b[K     |█████████████████████████████▊  | 184kB 5.4MB/s eta 0:00:01\r\u001b[K     |███████████████████████████████▍| 194kB 5.4MB/s eta 0:00:01\r\u001b[K     |████████████████████████████████| 204kB 5.4MB/s \n",
            "\u001b[?25hInstalling collected packages: py4j\n",
            "Successfully installed py4j-0.10.9.1\n",
            "/bin/bash: /usr/lib/jvm/java-8-openjdk-amd64: Is a directory\n",
            "\n"
          ],
          "name": "stdout"
        }
      ]
    },
    {
      "cell_type": "markdown",
      "metadata": {
        "id": "BrCX7eEcWAhK"
      },
      "source": [
        "### Part1.2: Built ETL Pipeline"
      ]
    },
    {
      "cell_type": "markdown",
      "metadata": {
        "id": "-0_9R9Kb95W9"
      },
      "source": [
        "**Load and Cache**\n",
        "\n",
        "Rather than read it over and over again from DBFS, we'll cache both the movies DataFrame and the ratings DataFrame in memory."
      ]
    },
    {
      "cell_type": "code",
      "metadata": {
        "id": "liUsgUDhWOmi",
        "colab": {
          "resources": {
            "http://localhost:8080/nbextensions/google.colab/files.js": {
              "data": "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",
              "ok": true,
              "headers": [
                [
                  "content-type",
                  "application/javascript"
                ]
              ],
              "status": 200,
              "status_text": ""
            }
          },
          "base_uri": "https://localhost:8080/",
          "height": 296
        },
        "outputId": "07e00609-4c9a-47c0-8eb2-d39a391b69e4"
      },
      "source": [
        "#load data from machine to colab\n",
        "from google.colab import files\n",
        "\n",
        "uploaded = files.upload()\n",
        "\n",
        "for fn in uploaded.keys():\n",
        "  print('User uploaded file \"{name}\" with length {length} bytes'.format(\n",
        "      name=fn, length=len(uploaded[fn])))"
      ],
      "execution_count": null,
      "outputs": [
        {
          "output_type": "display_data",
          "data": {
            "text/html": [
              "\n",
              "     <input type=\"file\" id=\"files-4c98f1b0-6210-4af6-a138-f44f6e56c9fd\" name=\"files[]\" multiple disabled\n",
              "        style=\"border:none\" />\n",
              "     <output id=\"result-4c98f1b0-6210-4af6-a138-f44f6e56c9fd\">\n",
              "      Upload widget is only available when the cell has been executed in the\n",
              "      current browser session. Please rerun this cell to enable.\n",
              "      </output>\n",
              "      <script src=\"/nbextensions/google.colab/files.js\"></script> "
            ],
            "text/plain": [
              "<IPython.core.display.HTML object>"
            ]
          },
          "metadata": {
            "tags": []
          }
        },
        {
          "output_type": "stream",
          "text": [
            "Saving links.csv to links.csv\n",
            "Saving movies.csv to movies.csv\n",
            "Saving ratings.csv to ratings.csv\n",
            "Saving README.txt to README.txt\n",
            "Saving tags.csv to tags.csv\n",
            "User uploaded file \"links.csv\" with length 197979 bytes\n",
            "User uploaded file \"movies.csv\" with length 494431 bytes\n",
            "User uploaded file \"ratings.csv\" with length 2483723 bytes\n",
            "User uploaded file \"README.txt\" with length 8342 bytes\n",
            "User uploaded file \"tags.csv\" with length 118660 bytes\n"
          ],
          "name": "stdout"
        }
      ]
    },
    {
      "cell_type": "code",
      "metadata": {
        "id": "p7o1tjYhWaq8",
        "colab": {
          "base_uri": "https://localhost:8080/"
        },
        "outputId": "2f56377b-10a5-4ed9-cc4d-999395269a8a"
      },
      "source": [
        "#checking for loading\n",
        "!ls"
      ],
      "execution_count": null,
      "outputs": [
        {
          "output_type": "stream",
          "text": [
            "drive\t    ratings.csv  spark-3.0.2-bin-hadoop2.7\t  tags.csv\n",
            "links.csv   README.txt\t spark-3.0.2-bin-hadoop2.7.tgz\n",
            "movies.csv  sample_data  spark-3.0.2-bin-hadoop2.7.tgz.1\n"
          ],
          "name": "stdout"
        }
      ]
    },
    {
      "cell_type": "code",
      "metadata": {
        "id": "RvtDbdLjWh_Q",
        "colab": {
          "base_uri": "https://localhost:8080/"
        },
        "outputId": "b3842219-0b21-4748-a3bb-884935975426"
      },
      "source": [
        "#Load data into spark cluster as spark Dadaframe\n",
        "movies_df = spark.read.load(\"movies.csv\", format='csv', header = True)\n",
        "ratings_df = spark.read.load(\"ratings.csv\", format='csv', header = True)\n",
        "tags_df = spark.read.load(\"tags.csv\", format='csv', header=True)\n",
        "links_df = spark.read.load(\"links.csv\", format='csv', header=True)\n",
        "\n",
        "#cache movie datafram and rating datafram in memory\n",
        "movies_df.cache()\n",
        "ratings_df.cache()"
      ],
      "execution_count": null,
      "outputs": [
        {
          "output_type": "execute_result",
          "data": {
            "text/plain": [
              "DataFrame[userId: string, movieId: string, rating: string, timestamp: string]"
            ]
          },
          "metadata": {
            "tags": []
          },
          "execution_count": 5
        }
      ]
    },
    {
      "cell_type": "code",
      "metadata": {
        "id": "NhG5GVZRVzfZ",
        "colab": {
          "base_uri": "https://localhost:8080/"
        },
        "outputId": "6aa5c053-f556-4df1-a241-5499a634fb5e"
      },
      "source": [
        "#uninstall pyarrow and install it latter inorder to fix the issue of importing koalas\n",
        "!pip uninstall pyarrow"
      ],
      "execution_count": null,
      "outputs": [
        {
          "output_type": "stream",
          "text": [
            "Uninstalling pyarrow-3.0.0:\n",
            "  Would remove:\n",
            "    /usr/local/bin/plasma_store\n",
            "    /usr/local/lib/python3.7/dist-packages/pyarrow-3.0.0.dist-info/*\n",
            "    /usr/local/lib/python3.7/dist-packages/pyarrow/*\n",
            "Proceed (y/n)? y\n",
            "  Successfully uninstalled pyarrow-3.0.0\n"
          ],
          "name": "stdout"
        }
      ]
    },
    {
      "cell_type": "code",
      "metadata": {
        "id": "j0yA5K6ZWzM5",
        "colab": {
          "base_uri": "https://localhost:8080/"
        },
        "outputId": "49e16f0a-d3bc-4c41-d371-3be8a17646e6"
      },
      "source": [
        "#install Koalas\n",
        "!pip install koalas\n",
        "\n",
        "# Install compatible version of pyarrow\n",
        "!pip install pyarrow\n",
        "\n",
        "#import koalas package\n",
        "import databricks.koalas as ks\n",
        "\n",
        "#load data as Koalas Dataframe, instead of convert from spark data frame b/c the columns are missing if we covert.\n",
        "movies_kdf = ks.read_csv('movies.csv')\n",
        "ratings_kdf = ks.read_csv('ratings.csv')\n",
        "tags_kdf = ks.read_csv('tags.csv')\n",
        "links_kdf = ks.read_csv('links.csv')"
      ],
      "execution_count": null,
      "outputs": [
        {
          "output_type": "stream",
          "text": [
            "Collecting koalas\n",
            "\u001b[?25l  Downloading https://files.pythonhosted.org/packages/1d/91/58c88fc3221d7c21d854d7d9c0fe081bf1ac244c1e4496bb2b56e1f31e25/koalas-1.6.0-py3-none-any.whl (668kB)\n",
            "\r\u001b[K     |▌                               | 10kB 12.0MB/s eta 0:00:01\r\u001b[K     |█                               | 20kB 10.9MB/s eta 0:00:01\r\u001b[K     |█▌                              | 30kB 8.2MB/s eta 0:00:01\r\u001b[K     |██                              | 40kB 7.1MB/s eta 0:00:01\r\u001b[K     |██▌                             | 51kB 4.4MB/s eta 0:00:01\r\u001b[K     |███                             | 61kB 4.1MB/s eta 0:00:01\r\u001b[K     |███▍                            | 71kB 4.7MB/s eta 0:00:01\r\u001b[K     |████                            | 81kB 4.9MB/s eta 0:00:01\r\u001b[K     |████▍                           | 92kB 4.9MB/s eta 0:00:01\r\u001b[K     |█████                           | 102kB 4.2MB/s eta 0:00:01\r\u001b[K     |█████▍                          | 112kB 4.2MB/s eta 0:00:01\r\u001b[K     |█████▉                          | 122kB 4.2MB/s eta 0:00:01\r\u001b[K     |██████▍                         | 133kB 4.2MB/s eta 0:00:01\r\u001b[K     |██████▉                         | 143kB 4.2MB/s eta 0:00:01\r\u001b[K     |███████▍                        | 153kB 4.2MB/s eta 0:00:01\r\u001b[K     |███████▉                        | 163kB 4.2MB/s eta 0:00:01\r\u001b[K     |████████▍                       | 174kB 4.2MB/s eta 0:00:01\r\u001b[K     |████████▉                       | 184kB 4.2MB/s eta 0:00:01\r\u001b[K     |█████████▎                      | 194kB 4.2MB/s eta 0:00:01\r\u001b[K     |█████████▉                      | 204kB 4.2MB/s eta 0:00:01\r\u001b[K     |██████████▎                     | 215kB 4.2MB/s eta 0:00:01\r\u001b[K     |██████████▉                     | 225kB 4.2MB/s eta 0:00:01\r\u001b[K     |███████████▎                    | 235kB 4.2MB/s eta 0:00:01\r\u001b[K     |███████████▊                    | 245kB 4.2MB/s eta 0:00:01\r\u001b[K     |████████████▎                   | 256kB 4.2MB/s eta 0:00:01\r\u001b[K     |████████████▊                   | 266kB 4.2MB/s eta 0:00:01\r\u001b[K     |█████████████▎                  | 276kB 4.2MB/s eta 0:00:01\r\u001b[K     |█████████████▊                  | 286kB 4.2MB/s eta 0:00:01\r\u001b[K     |██████████████▏                 | 296kB 4.2MB/s eta 0:00:01\r\u001b[K     |██████████████▊                 | 307kB 4.2MB/s eta 0:00:01\r\u001b[K     |███████████████▏                | 317kB 4.2MB/s eta 0:00:01\r\u001b[K     |███████████████▊                | 327kB 4.2MB/s eta 0:00:01\r\u001b[K     |████████████████▏               | 337kB 4.2MB/s eta 0:00:01\r\u001b[K     |████████████████▊               | 348kB 4.2MB/s eta 0:00:01\r\u001b[K     |█████████████████▏              | 358kB 4.2MB/s eta 0:00:01\r\u001b[K     |█████████████████▋              | 368kB 4.2MB/s eta 0:00:01\r\u001b[K     |██████████████████▏             | 378kB 4.2MB/s eta 0:00:01\r\u001b[K     |██████████████████▋             | 389kB 4.2MB/s eta 0:00:01\r\u001b[K     |███████████████████▏            | 399kB 4.2MB/s eta 0:00:01\r\u001b[K     |███████████████████▋            | 409kB 4.2MB/s eta 0:00:01\r\u001b[K     |████████████████████            | 419kB 4.2MB/s eta 0:00:01\r\u001b[K     |████████████████████▋           | 430kB 4.2MB/s eta 0:00:01\r\u001b[K     |█████████████████████           | 440kB 4.2MB/s eta 0:00:01\r\u001b[K     |█████████████████████▋          | 450kB 4.2MB/s eta 0:00:01\r\u001b[K     |██████████████████████          | 460kB 4.2MB/s eta 0:00:01\r\u001b[K     |██████████████████████▋         | 471kB 4.2MB/s eta 0:00:01\r\u001b[K     |███████████████████████         | 481kB 4.2MB/s eta 0:00:01\r\u001b[K     |███████████████████████▌        | 491kB 4.2MB/s eta 0:00:01\r\u001b[K     |████████████████████████        | 501kB 4.2MB/s eta 0:00:01\r\u001b[K     |████████████████████████▌       | 512kB 4.2MB/s eta 0:00:01\r\u001b[K     |█████████████████████████       | 522kB 4.2MB/s eta 0:00:01\r\u001b[K     |█████████████████████████▌      | 532kB 4.2MB/s eta 0:00:01\r\u001b[K     |██████████████████████████      | 542kB 4.2MB/s eta 0:00:01\r\u001b[K     |██████████████████████████▌     | 552kB 4.2MB/s eta 0:00:01\r\u001b[K     |███████████████████████████     | 563kB 4.2MB/s eta 0:00:01\r\u001b[K     |███████████████████████████▌    | 573kB 4.2MB/s eta 0:00:01\r\u001b[K     |████████████████████████████    | 583kB 4.2MB/s eta 0:00:01\r\u001b[K     |████████████████████████████▍   | 593kB 4.2MB/s eta 0:00:01\r\u001b[K     |█████████████████████████████   | 604kB 4.2MB/s eta 0:00:01\r\u001b[K     |█████████████████████████████▍  | 614kB 4.2MB/s eta 0:00:01\r\u001b[K     |██████████████████████████████  | 624kB 4.2MB/s eta 0:00:01\r\u001b[K     |██████████████████████████████▍ | 634kB 4.2MB/s eta 0:00:01\r\u001b[K     |███████████████████████████████ | 645kB 4.2MB/s eta 0:00:01\r\u001b[K     |███████████████████████████████▍| 655kB 4.2MB/s eta 0:00:01\r\u001b[K     |███████████████████████████████▉| 665kB 4.2MB/s eta 0:00:01\r\u001b[K     |████████████████████████████████| 675kB 4.2MB/s \n",
            "\u001b[?25hRequirement already satisfied: pandas<1.2.0,>=0.23.2 in /usr/local/lib/python3.7/dist-packages (from koalas) (1.1.5)\n",
            "Collecting pyarrow>=0.10\n",
            "\u001b[?25l  Downloading https://files.pythonhosted.org/packages/fc/61/814f4c8d2cd4d51dfd80a9c4ea14b8fd09e37cb0f6962c1f04d504a02e03/pyarrow-3.0.0-cp37-cp37m-manylinux2014_x86_64.whl (20.7MB)\n",
            "\u001b[K     |████████████████████████████████| 20.7MB 1.3MB/s \n",
            "\u001b[?25hRequirement already satisfied: numpy>=1.14 in /usr/local/lib/python3.7/dist-packages (from koalas) (1.19.5)\n",
            "Requirement already satisfied: matplotlib<3.3.0,>=3.0.0 in /usr/local/lib/python3.7/dist-packages (from koalas) (3.2.2)\n",
            "Requirement already satisfied: pytz>=2017.2 in /usr/local/lib/python3.7/dist-packages (from pandas<1.2.0,>=0.23.2->koalas) (2018.9)\n",
            "Requirement already satisfied: python-dateutil>=2.7.3 in /usr/local/lib/python3.7/dist-packages (from pandas<1.2.0,>=0.23.2->koalas) (2.8.1)\n",
            "Requirement already satisfied: cycler>=0.10 in /usr/local/lib/python3.7/dist-packages (from matplotlib<3.3.0,>=3.0.0->koalas) (0.10.0)\n",
            "Requirement already satisfied: kiwisolver>=1.0.1 in /usr/local/lib/python3.7/dist-packages (from matplotlib<3.3.0,>=3.0.0->koalas) (1.3.1)\n",
            "Requirement already satisfied: pyparsing!=2.0.4,!=2.1.2,!=2.1.6,>=2.0.1 in /usr/local/lib/python3.7/dist-packages (from matplotlib<3.3.0,>=3.0.0->koalas) (2.4.7)\n",
            "Requirement already satisfied: six>=1.5 in /usr/local/lib/python3.7/dist-packages (from python-dateutil>=2.7.3->pandas<1.2.0,>=0.23.2->koalas) (1.15.0)\n",
            "Installing collected packages: pyarrow, koalas\n",
            "Successfully installed koalas-1.6.0 pyarrow-3.0.0\n",
            "Requirement already satisfied: pyarrow in /usr/local/lib/python3.7/dist-packages (3.0.0)\n",
            "Requirement already satisfied: numpy>=1.16.6 in /usr/local/lib/python3.7/dist-packages (from pyarrow) (1.19.5)\n"
          ],
          "name": "stdout"
        },
        {
          "output_type": "stream",
          "text": [
            "WARNING:root:'PYARROW_IGNORE_TIMEZONE' environment variable was not set. It is required to set this environment variable to '1' in both driver and executor sides if you use pyarrow>=2.0.0. Koalas will set it for you but it does not work if there is a Spark context already launched.\n"
          ],
          "name": "stderr"
        }
      ]
    },
    {
      "cell_type": "markdown",
      "metadata": {
        "id": "0PFWi9YXOgH3"
      },
      "source": [
        "#Part2: Exploratory Data Analysis (EDA)"
      ]
    },
    {
      "cell_type": "markdown",
      "metadata": {
        "id": "w_9FBvRUNmIe"
      },
      "source": [
        "##Part2_1:Take a glance at data"
      ]
    },
    {
      "cell_type": "code",
      "metadata": {
        "colab": {
          "base_uri": "https://localhost:8080/",
          "height": 198
        },
        "id": "YQdL9lZkNpmx",
        "outputId": "ce612562-32a5-4218-d13c-401cf3cf2d70"
      },
      "source": [
        "movies_kdf.head()"
      ],
      "execution_count": null,
      "outputs": [
        {
          "output_type": "execute_result",
          "data": {
            "text/html": [
              "<div>\n",
              "<style scoped>\n",
              "    .dataframe tbody tr th:only-of-type {\n",
              "        vertical-align: middle;\n",
              "    }\n",
              "\n",
              "    .dataframe tbody tr th {\n",
              "        vertical-align: top;\n",
              "    }\n",
              "\n",
              "    .dataframe thead th {\n",
              "        text-align: right;\n",
              "    }\n",
              "</style>\n",
              "<table border=\"1\" class=\"dataframe\">\n",
              "  <thead>\n",
              "    <tr style=\"text-align: right;\">\n",
              "      <th></th>\n",
              "      <th>movieId</th>\n",
              "      <th>title</th>\n",
              "      <th>genres</th>\n",
              "    </tr>\n",
              "  </thead>\n",
              "  <tbody>\n",
              "    <tr>\n",
              "      <th>0</th>\n",
              "      <td>1</td>\n",
              "      <td>Toy Story (1995)</td>\n",
              "      <td>Adventure|Animation|Children|Comedy|Fantasy</td>\n",
              "    </tr>\n",
              "    <tr>\n",
              "      <th>1</th>\n",
              "      <td>2</td>\n",
              "      <td>Jumanji (1995)</td>\n",
              "      <td>Adventure|Children|Fantasy</td>\n",
              "    </tr>\n",
              "    <tr>\n",
              "      <th>2</th>\n",
              "      <td>3</td>\n",
              "      <td>Grumpier Old Men (1995)</td>\n",
              "      <td>Comedy|Romance</td>\n",
              "    </tr>\n",
              "    <tr>\n",
              "      <th>3</th>\n",
              "      <td>4</td>\n",
              "      <td>Waiting to Exhale (1995)</td>\n",
              "      <td>Comedy|Drama|Romance</td>\n",
              "    </tr>\n",
              "    <tr>\n",
              "      <th>4</th>\n",
              "      <td>5</td>\n",
              "      <td>Father of the Bride Part II (1995)</td>\n",
              "      <td>Comedy</td>\n",
              "    </tr>\n",
              "  </tbody>\n",
              "</table>\n",
              "</div>"
            ],
            "text/plain": [
              "   movieId                               title                                       genres\n",
              "0        1                    Toy Story (1995)  Adventure|Animation|Children|Comedy|Fantasy\n",
              "1        2                      Jumanji (1995)                   Adventure|Children|Fantasy\n",
              "2        3             Grumpier Old Men (1995)                               Comedy|Romance\n",
              "3        4            Waiting to Exhale (1995)                         Comedy|Drama|Romance\n",
              "4        5  Father of the Bride Part II (1995)                                       Comedy"
            ]
          },
          "metadata": {
            "tags": []
          },
          "execution_count": 27
        }
      ]
    },
    {
      "cell_type": "code",
      "metadata": {
        "colab": {
          "base_uri": "https://localhost:8080/",
          "height": 204
        },
        "id": "d6o_iPwFsRi0",
        "outputId": "4725c900-417d-465b-92dd-5273fb35c9e6"
      },
      "source": [
        "ratings_kdf.head()"
      ],
      "execution_count": null,
      "outputs": [
        {
          "output_type": "execute_result",
          "data": {
            "text/html": [
              "<div>\n",
              "<style scoped>\n",
              "    .dataframe tbody tr th:only-of-type {\n",
              "        vertical-align: middle;\n",
              "    }\n",
              "\n",
              "    .dataframe tbody tr th {\n",
              "        vertical-align: top;\n",
              "    }\n",
              "\n",
              "    .dataframe thead th {\n",
              "        text-align: right;\n",
              "    }\n",
              "</style>\n",
              "<table border=\"1\" class=\"dataframe\">\n",
              "  <thead>\n",
              "    <tr style=\"text-align: right;\">\n",
              "      <th></th>\n",
              "      <th>userId</th>\n",
              "      <th>movieId</th>\n",
              "      <th>rating</th>\n",
              "      <th>timestamp</th>\n",
              "    </tr>\n",
              "  </thead>\n",
              "  <tbody>\n",
              "    <tr>\n",
              "      <th>0</th>\n",
              "      <td>1</td>\n",
              "      <td>1</td>\n",
              "      <td>4.0</td>\n",
              "      <td>964982703</td>\n",
              "    </tr>\n",
              "    <tr>\n",
              "      <th>1</th>\n",
              "      <td>1</td>\n",
              "      <td>3</td>\n",
              "      <td>4.0</td>\n",
              "      <td>964981247</td>\n",
              "    </tr>\n",
              "    <tr>\n",
              "      <th>2</th>\n",
              "      <td>1</td>\n",
              "      <td>6</td>\n",
              "      <td>4.0</td>\n",
              "      <td>964982224</td>\n",
              "    </tr>\n",
              "    <tr>\n",
              "      <th>3</th>\n",
              "      <td>1</td>\n",
              "      <td>47</td>\n",
              "      <td>5.0</td>\n",
              "      <td>964983815</td>\n",
              "    </tr>\n",
              "    <tr>\n",
              "      <th>4</th>\n",
              "      <td>1</td>\n",
              "      <td>50</td>\n",
              "      <td>5.0</td>\n",
              "      <td>964982931</td>\n",
              "    </tr>\n",
              "  </tbody>\n",
              "</table>\n",
              "</div>"
            ],
            "text/plain": [
              "   userId  movieId  rating  timestamp\n",
              "0       1        1     4.0  964982703\n",
              "1       1        3     4.0  964981247\n",
              "2       1        6     4.0  964982224\n",
              "3       1       47     5.0  964983815\n",
              "4       1       50     5.0  964982931"
            ]
          },
          "metadata": {
            "tags": []
          },
          "execution_count": 9
        }
      ]
    },
    {
      "cell_type": "code",
      "metadata": {
        "colab": {
          "base_uri": "https://localhost:8080/",
          "height": 204
        },
        "id": "l2D2sKNMsOo2",
        "outputId": "391c95ac-ce29-4b1e-cd9f-2fdeb8a83c00"
      },
      "source": [
        "tags_kdf.head()"
      ],
      "execution_count": null,
      "outputs": [
        {
          "output_type": "execute_result",
          "data": {
            "text/html": [
              "<div>\n",
              "<style scoped>\n",
              "    .dataframe tbody tr th:only-of-type {\n",
              "        vertical-align: middle;\n",
              "    }\n",
              "\n",
              "    .dataframe tbody tr th {\n",
              "        vertical-align: top;\n",
              "    }\n",
              "\n",
              "    .dataframe thead th {\n",
              "        text-align: right;\n",
              "    }\n",
              "</style>\n",
              "<table border=\"1\" class=\"dataframe\">\n",
              "  <thead>\n",
              "    <tr style=\"text-align: right;\">\n",
              "      <th></th>\n",
              "      <th>userId</th>\n",
              "      <th>movieId</th>\n",
              "      <th>tag</th>\n",
              "      <th>timestamp</th>\n",
              "    </tr>\n",
              "  </thead>\n",
              "  <tbody>\n",
              "    <tr>\n",
              "      <th>0</th>\n",
              "      <td>2</td>\n",
              "      <td>60756</td>\n",
              "      <td>funny</td>\n",
              "      <td>1445714994</td>\n",
              "    </tr>\n",
              "    <tr>\n",
              "      <th>1</th>\n",
              "      <td>2</td>\n",
              "      <td>60756</td>\n",
              "      <td>Highly quotable</td>\n",
              "      <td>1445714996</td>\n",
              "    </tr>\n",
              "    <tr>\n",
              "      <th>2</th>\n",
              "      <td>2</td>\n",
              "      <td>60756</td>\n",
              "      <td>will ferrell</td>\n",
              "      <td>1445714992</td>\n",
              "    </tr>\n",
              "    <tr>\n",
              "      <th>3</th>\n",
              "      <td>2</td>\n",
              "      <td>89774</td>\n",
              "      <td>Boxing story</td>\n",
              "      <td>1445715207</td>\n",
              "    </tr>\n",
              "    <tr>\n",
              "      <th>4</th>\n",
              "      <td>2</td>\n",
              "      <td>89774</td>\n",
              "      <td>MMA</td>\n",
              "      <td>1445715200</td>\n",
              "    </tr>\n",
              "  </tbody>\n",
              "</table>\n",
              "</div>"
            ],
            "text/plain": [
              "   userId  movieId              tag   timestamp\n",
              "0       2    60756            funny  1445714994\n",
              "1       2    60756  Highly quotable  1445714996\n",
              "2       2    60756     will ferrell  1445714992\n",
              "3       2    89774     Boxing story  1445715207\n",
              "4       2    89774              MMA  1445715200"
            ]
          },
          "metadata": {
            "tags": []
          },
          "execution_count": 10
        }
      ]
    },
    {
      "cell_type": "markdown",
      "metadata": {
        "id": "9zYg2XUZN3HF"
      },
      "source": [
        "##Part2_2:Get some information about numerical features"
      ]
    },
    {
      "cell_type": "code",
      "metadata": {
        "colab": {
          "base_uri": "https://localhost:8080/",
          "height": 297
        },
        "id": "b0eV2xyENyH-",
        "outputId": "dff9a3e3-6148-4271-b86a-0ac37219c90b"
      },
      "source": [
        "ratings_kdf.describe()"
      ],
      "execution_count": null,
      "outputs": [
        {
          "output_type": "execute_result",
          "data": {
            "text/html": [
              "<div>\n",
              "<style scoped>\n",
              "    .dataframe tbody tr th:only-of-type {\n",
              "        vertical-align: middle;\n",
              "    }\n",
              "\n",
              "    .dataframe tbody tr th {\n",
              "        vertical-align: top;\n",
              "    }\n",
              "\n",
              "    .dataframe thead th {\n",
              "        text-align: right;\n",
              "    }\n",
              "</style>\n",
              "<table border=\"1\" class=\"dataframe\">\n",
              "  <thead>\n",
              "    <tr style=\"text-align: right;\">\n",
              "      <th></th>\n",
              "      <th>userId</th>\n",
              "      <th>movieId</th>\n",
              "      <th>rating</th>\n",
              "      <th>timestamp</th>\n",
              "    </tr>\n",
              "  </thead>\n",
              "  <tbody>\n",
              "    <tr>\n",
              "      <th>count</th>\n",
              "      <td>100836.000000</td>\n",
              "      <td>100836.000000</td>\n",
              "      <td>100836.000000</td>\n",
              "      <td>1.008360e+05</td>\n",
              "    </tr>\n",
              "    <tr>\n",
              "      <th>mean</th>\n",
              "      <td>326.127564</td>\n",
              "      <td>19435.295718</td>\n",
              "      <td>3.501557</td>\n",
              "      <td>1.205946e+09</td>\n",
              "    </tr>\n",
              "    <tr>\n",
              "      <th>std</th>\n",
              "      <td>182.618491</td>\n",
              "      <td>35530.987199</td>\n",
              "      <td>1.042529</td>\n",
              "      <td>2.162610e+08</td>\n",
              "    </tr>\n",
              "    <tr>\n",
              "      <th>min</th>\n",
              "      <td>1.000000</td>\n",
              "      <td>1.000000</td>\n",
              "      <td>0.500000</td>\n",
              "      <td>8.281246e+08</td>\n",
              "    </tr>\n",
              "    <tr>\n",
              "      <th>25%</th>\n",
              "      <td>177.000000</td>\n",
              "      <td>1199.000000</td>\n",
              "      <td>3.000000</td>\n",
              "      <td>1.018535e+09</td>\n",
              "    </tr>\n",
              "    <tr>\n",
              "      <th>50%</th>\n",
              "      <td>325.000000</td>\n",
              "      <td>2991.000000</td>\n",
              "      <td>3.500000</td>\n",
              "      <td>1.186087e+09</td>\n",
              "    </tr>\n",
              "    <tr>\n",
              "      <th>75%</th>\n",
              "      <td>477.000000</td>\n",
              "      <td>8092.000000</td>\n",
              "      <td>4.000000</td>\n",
              "      <td>1.435994e+09</td>\n",
              "    </tr>\n",
              "    <tr>\n",
              "      <th>max</th>\n",
              "      <td>610.000000</td>\n",
              "      <td>193609.000000</td>\n",
              "      <td>5.000000</td>\n",
              "      <td>1.537799e+09</td>\n",
              "    </tr>\n",
              "  </tbody>\n",
              "</table>\n",
              "</div>"
            ],
            "text/plain": [
              "              userId        movieId         rating     timestamp\n",
              "count  100836.000000  100836.000000  100836.000000  1.008360e+05\n",
              "mean      326.127564   19435.295718       3.501557  1.205946e+09\n",
              "std       182.618491   35530.987199       1.042529  2.162610e+08\n",
              "min         1.000000       1.000000       0.500000  8.281246e+08\n",
              "25%       177.000000    1199.000000       3.000000  1.018535e+09\n",
              "50%       325.000000    2991.000000       3.500000  1.186087e+09\n",
              "75%       477.000000    8092.000000       4.000000  1.435994e+09\n",
              "max       610.000000  193609.000000       5.000000  1.537799e+09"
            ]
          },
          "metadata": {
            "tags": []
          },
          "execution_count": 11
        }
      ]
    },
    {
      "cell_type": "markdown",
      "metadata": {
        "id": "p0TPsUKWsepj"
      },
      "source": [
        "**Notes: Minimun rating score is 0.5 and about 3/4 of users gave 3 or above rating score."
      ]
    },
    {
      "cell_type": "markdown",
      "metadata": {
        "id": "JxxNq3vLOJ5P"
      },
      "source": [
        "##Part2_3:Check missing values, size and data type"
      ]
    },
    {
      "cell_type": "code",
      "metadata": {
        "colab": {
          "base_uri": "https://localhost:8080/"
        },
        "id": "StGBxb5MOROv",
        "outputId": "69f1a5a5-a561-40a0-dc9f-cccc3bc50caf"
      },
      "source": [
        "movies_kdf.info()\n",
        "#ratings_kdf.info()\n",
        "#tags_kdf.info()"
      ],
      "execution_count": null,
      "outputs": [
        {
          "output_type": "stream",
          "text": [
            "databricks.koalas.frame.DataFrame\n",
            "Index: 9742 entries, 0 to 9741\n",
            "Data columns (total 3 columns):\n",
            " #   Column   Non-Null Count  Dtype \n",
            "---  ------   --------------  ----- \n",
            " 0   movieId  9742 non-null   int32 \n",
            " 1   title    9742 non-null   object\n",
            " 2   genres   9742 non-null   object\n",
            "dtypes: int32(1), object(2)"
          ],
          "name": "stdout"
        }
      ]
    },
    {
      "cell_type": "markdown",
      "metadata": {
        "id": "9h1VU4AHkr9O"
      },
      "source": [
        "##Part2_4:Checking distinct users, movies and tag"
      ]
    },
    {
      "cell_type": "code",
      "metadata": {
        "colab": {
          "base_uri": "https://localhost:8080/"
        },
        "id": "56jqA4lpZSNX",
        "outputId": "5e18c897-73f0-4abb-b7c0-028728b6859a"
      },
      "source": [
        "print('Total number of distinct users:{} (out of totoal users:{}).'.format(ratings_kdf['userId'].unique().count(),ratings_kdf.shape[0]))\n",
        "print('Total number of distinct movies:{} (out of total movies:{}).'.format(movies_kdf['title'].unique().count(),movies_kdf.shape[0]))\n",
        "print('Total number of distinct tag:{} (out of total tags:{}).'.format(tags_kdf['tag'].unique().count(),tags_kdf.shape[0]))\n",
        "print('Total number of ratings:{}'.format(ratings_kdf.shape[0]))"
      ],
      "execution_count": null,
      "outputs": [
        {
          "output_type": "stream",
          "text": [
            "Total number of distinct users:610 (out of totoal users:100836).\n",
            "Total number of distinct movies:9737 (out of total movies:9742).\n",
            "Total number of distinct tag:1589 (out of total tags:3683).\n",
            "Total number of ratings:100836\n"
          ],
          "name": "stdout"
        }
      ]
    },
    {
      "cell_type": "code",
      "metadata": {
        "colab": {
          "base_uri": "https://localhost:8080/"
        },
        "id": "ggOy1q10ZsMQ",
        "outputId": "6fdb81f4-f496-453b-95f6-173fa2c796d6"
      },
      "source": [
        "print('For the users that rated movies and the movies that were rated:')\n",
        "print('Minimum number of ratings per user: {}'.format(ratings_kdf.groupby('userId').count()['rating'].min()))\n",
        "print('Minimum number of ratings per movie: {}'.format(ratings_kdf.groupby('movieId').count()['rating'].min()))"
      ],
      "execution_count": null,
      "outputs": [
        {
          "output_type": "stream",
          "text": [
            "For the users that rated movies and the movies that were rated:\n",
            "Minimum number of ratings per user: 20\n",
            "Minimum number of ratings per movie: 1\n"
          ],
          "name": "stdout"
        }
      ]
    },
    {
      "cell_type": "code",
      "metadata": {
        "colab": {
          "base_uri": "https://localhost:8080/"
        },
        "id": "Ji1IgdRQZ1mu",
        "outputId": "52df0bdd-3cf6-45a8-b670-2a2ab44cdf38"
      },
      "source": [
        "tmp1 = ratings_kdf.groupby('movieId').count()['rating']==1\n",
        "tmp1_1 = tmp1.sum()\n",
        "tmp2 = ratings_kdf['movieId'].unique().count()\n",
        "print('There are {} out of {} movies ({:.2f}%) are rated by only one user.'.format(tmp1_1, tmp2, tmp1_1/tmp2*100) )"
      ],
      "execution_count": null,
      "outputs": [
        {
          "output_type": "stream",
          "text": [
            "There are 3446 out of 9724 movies (35.44%) are rated by only one user.\n"
          ],
          "name": "stdout"
        }
      ]
    },
    {
      "cell_type": "markdown",
      "metadata": {
        "id": "nLp-zxdZ-xx6"
      },
      "source": [
        "**Notes: About 1/3 of movies has only one rating and each user rated at lease 20 mivies."
      ]
    },
    {
      "cell_type": "markdown",
      "metadata": {
        "id": "8_XyzaRpmSsf"
      },
      "source": [
        "##Part2_5: Movie Genres"
      ]
    },
    {
      "cell_type": "code",
      "metadata": {
        "colab": {
          "base_uri": "https://localhost:8080/"
        },
        "id": "CrbulRsoZ--o",
        "outputId": "fb65ab60-42f2-481e-a4f7-79d15da368ab"
      },
      "source": [
        "#list all genres\n",
        "genres_list = movies_df.select('genres').rdd.flatMap(lambda x: x['genres'].split('|')).distinct().collect()\n",
        "print('List of genres:')\n",
        "genres_list"
      ],
      "execution_count": null,
      "outputs": [
        {
          "output_type": "stream",
          "text": [
            "List of genres:\n"
          ],
          "name": "stdout"
        },
        {
          "output_type": "execute_result",
          "data": {
            "text/plain": [
              "['Adventure',\n",
              " 'Animation',\n",
              " 'Children',\n",
              " 'Comedy',\n",
              " 'Fantasy',\n",
              " 'Romance',\n",
              " 'Drama',\n",
              " 'Action',\n",
              " 'Crime',\n",
              " 'Thriller',\n",
              " 'Horror',\n",
              " 'Mystery',\n",
              " 'Sci-Fi',\n",
              " 'War',\n",
              " 'Musical',\n",
              " 'Documentary',\n",
              " 'IMAX',\n",
              " 'Western',\n",
              " 'Film-Noir',\n",
              " '(no genres listed)']"
            ]
          },
          "metadata": {
            "tags": []
          },
          "execution_count": 16
        }
      ]
    },
    {
      "cell_type": "code",
      "metadata": {
        "colab": {
          "base_uri": "https://localhost:8080/"
        },
        "id": "diqOAJzyDUBN",
        "outputId": "49927d1d-1ee4-4e50-8a30-c3c7d7baa244"
      },
      "source": [
        "from pyspark.sql.functions import *\n",
        "from pyspark.sql import Row\n",
        "\n",
        "#replace missing value of genres with Nan\n",
        "movies_df = movies_df.withColumn('genres', regexp_replace('genres', '(no genres listed)', 'Nan'))\n",
        "genres_df = movies_df.select('genres').rdd.flatMap(lambda x: x['genres'].split('|')).map(lambda x: Row(genres=x)).toDF()\n",
        "genres_cnt = genres_df.groupBy('genres').count().orderBy('count', ascending=False)\n",
        "print('Number of movies in each genre:')\n",
        "genres_cnt.show()"
      ],
      "execution_count": null,
      "outputs": [
        {
          "output_type": "stream",
          "text": [
            "Number of movies in each genre:\n",
            "+-----------+-----+\n",
            "|     genres|count|\n",
            "+-----------+-----+\n",
            "|      Drama| 4361|\n",
            "|     Comedy| 3756|\n",
            "|   Thriller| 1894|\n",
            "|     Action| 1828|\n",
            "|    Romance| 1596|\n",
            "|  Adventure| 1263|\n",
            "|      Crime| 1199|\n",
            "|     Sci-Fi|  980|\n",
            "|     Horror|  978|\n",
            "|    Fantasy|  779|\n",
            "|   Children|  664|\n",
            "|  Animation|  611|\n",
            "|    Mystery|  573|\n",
            "|Documentary|  440|\n",
            "|        War|  382|\n",
            "|    Musical|  334|\n",
            "|    Western|  167|\n",
            "|       IMAX|  158|\n",
            "|  Film-Noir|   87|\n",
            "|      (Nan)|   34|\n",
            "+-----------+-----+\n",
            "\n"
          ],
          "name": "stdout"
        }
      ]
    },
    {
      "cell_type": "markdown",
      "metadata": {
        "id": "ICtnDOAK_NVv"
      },
      "source": [
        "**Note: There are 19 of genres and few movies' genre is missing. Drama and Comdedy are most common genres."
      ]
    },
    {
      "cell_type": "markdown",
      "metadata": {
        "id": "MmPskAXMngEy"
      },
      "source": [
        "##Part2_6: Ratings"
      ]
    },
    {
      "cell_type": "markdown",
      "metadata": {
        "id": "qk16wu1pN8iw"
      },
      "source": [
        "**Ratings per User**"
      ]
    },
    {
      "cell_type": "code",
      "metadata": {
        "colab": {
          "base_uri": "https://localhost:8080/",
          "height": 359
        },
        "id": "ItAt-1v7ndbc",
        "outputId": "10d9c11c-0123-4d30-b9a1-176105ac749a"
      },
      "source": [
        "#count number of ratings that each user gave\n",
        "rating_user_pdf = ratings_df.groupBy('userid').count().orderBy('count', ascending=True).select('userid', col('count').alias('num_ratings')).toPandas()\n",
        "rating_user_pdf.head(10)"
      ],
      "execution_count": null,
      "outputs": [
        {
          "output_type": "execute_result",
          "data": {
            "text/html": [
              "<div>\n",
              "<style scoped>\n",
              "    .dataframe tbody tr th:only-of-type {\n",
              "        vertical-align: middle;\n",
              "    }\n",
              "\n",
              "    .dataframe tbody tr th {\n",
              "        vertical-align: top;\n",
              "    }\n",
              "\n",
              "    .dataframe thead th {\n",
              "        text-align: right;\n",
              "    }\n",
              "</style>\n",
              "<table border=\"1\" class=\"dataframe\">\n",
              "  <thead>\n",
              "    <tr style=\"text-align: right;\">\n",
              "      <th></th>\n",
              "      <th>userid</th>\n",
              "      <th>num_ratings</th>\n",
              "    </tr>\n",
              "  </thead>\n",
              "  <tbody>\n",
              "    <tr>\n",
              "      <th>0</th>\n",
              "      <td>442</td>\n",
              "      <td>20</td>\n",
              "    </tr>\n",
              "    <tr>\n",
              "      <th>1</th>\n",
              "      <td>595</td>\n",
              "      <td>20</td>\n",
              "    </tr>\n",
              "    <tr>\n",
              "      <th>2</th>\n",
              "      <td>406</td>\n",
              "      <td>20</td>\n",
              "    </tr>\n",
              "    <tr>\n",
              "      <th>3</th>\n",
              "      <td>320</td>\n",
              "      <td>20</td>\n",
              "    </tr>\n",
              "    <tr>\n",
              "      <th>4</th>\n",
              "      <td>147</td>\n",
              "      <td>20</td>\n",
              "    </tr>\n",
              "    <tr>\n",
              "      <th>5</th>\n",
              "      <td>207</td>\n",
              "      <td>20</td>\n",
              "    </tr>\n",
              "    <tr>\n",
              "      <th>6</th>\n",
              "      <td>257</td>\n",
              "      <td>20</td>\n",
              "    </tr>\n",
              "    <tr>\n",
              "      <th>7</th>\n",
              "      <td>194</td>\n",
              "      <td>20</td>\n",
              "    </tr>\n",
              "    <tr>\n",
              "      <th>8</th>\n",
              "      <td>189</td>\n",
              "      <td>20</td>\n",
              "    </tr>\n",
              "    <tr>\n",
              "      <th>9</th>\n",
              "      <td>53</td>\n",
              "      <td>20</td>\n",
              "    </tr>\n",
              "  </tbody>\n",
              "</table>\n",
              "</div>"
            ],
            "text/plain": [
              "  userid  num_ratings\n",
              "0    442           20\n",
              "1    595           20\n",
              "2    406           20\n",
              "3    320           20\n",
              "4    147           20\n",
              "5    207           20\n",
              "6    257           20\n",
              "7    194           20\n",
              "8    189           20\n",
              "9     53           20"
            ]
          },
          "metadata": {
            "tags": []
          },
          "execution_count": 18
        }
      ]
    },
    {
      "cell_type": "markdown",
      "metadata": {
        "id": "lb_K2Ot-Xzs-"
      },
      "source": [
        "**Distribution of number of Ratings each movie**"
      ]
    },
    {
      "cell_type": "code",
      "metadata": {
        "colab": {
          "base_uri": "https://localhost:8080/",
          "height": 359
        },
        "id": "EQDEu5zCX1oA",
        "outputId": "9fb9a086-09d6-4171-b6f9-21887214bad5"
      },
      "source": [
        "dist_raings_pdf = rating_user_pdf.groupby(by='num_ratings').count().reset_index().rename(columns={'userid': 'num_users'}).sort_values(by=['num_ratings'], ascending=False)\n",
        "dist_raings_pdf.head(10) "
      ],
      "execution_count": null,
      "outputs": [
        {
          "output_type": "execute_result",
          "data": {
            "text/html": [
              "<div>\n",
              "<style scoped>\n",
              "    .dataframe tbody tr th:only-of-type {\n",
              "        vertical-align: middle;\n",
              "    }\n",
              "\n",
              "    .dataframe tbody tr th {\n",
              "        vertical-align: top;\n",
              "    }\n",
              "\n",
              "    .dataframe thead th {\n",
              "        text-align: right;\n",
              "    }\n",
              "</style>\n",
              "<table border=\"1\" class=\"dataframe\">\n",
              "  <thead>\n",
              "    <tr style=\"text-align: right;\">\n",
              "      <th></th>\n",
              "      <th>num_ratings</th>\n",
              "      <th>num_users</th>\n",
              "    </tr>\n",
              "  </thead>\n",
              "  <tbody>\n",
              "    <tr>\n",
              "      <th>260</th>\n",
              "      <td>2698</td>\n",
              "      <td>1</td>\n",
              "    </tr>\n",
              "    <tr>\n",
              "      <th>259</th>\n",
              "      <td>2478</td>\n",
              "      <td>1</td>\n",
              "    </tr>\n",
              "    <tr>\n",
              "      <th>258</th>\n",
              "      <td>2108</td>\n",
              "      <td>1</td>\n",
              "    </tr>\n",
              "    <tr>\n",
              "      <th>257</th>\n",
              "      <td>1864</td>\n",
              "      <td>1</td>\n",
              "    </tr>\n",
              "    <tr>\n",
              "      <th>256</th>\n",
              "      <td>1346</td>\n",
              "      <td>1</td>\n",
              "    </tr>\n",
              "    <tr>\n",
              "      <th>255</th>\n",
              "      <td>1302</td>\n",
              "      <td>1</td>\n",
              "    </tr>\n",
              "    <tr>\n",
              "      <th>254</th>\n",
              "      <td>1260</td>\n",
              "      <td>1</td>\n",
              "    </tr>\n",
              "    <tr>\n",
              "      <th>253</th>\n",
              "      <td>1218</td>\n",
              "      <td>1</td>\n",
              "    </tr>\n",
              "    <tr>\n",
              "      <th>252</th>\n",
              "      <td>1115</td>\n",
              "      <td>1</td>\n",
              "    </tr>\n",
              "    <tr>\n",
              "      <th>251</th>\n",
              "      <td>1055</td>\n",
              "      <td>1</td>\n",
              "    </tr>\n",
              "  </tbody>\n",
              "</table>\n",
              "</div>"
            ],
            "text/plain": [
              "     num_ratings  num_users\n",
              "260         2698          1\n",
              "259         2478          1\n",
              "258         2108          1\n",
              "257         1864          1\n",
              "256         1346          1\n",
              "255         1302          1\n",
              "254         1260          1\n",
              "253         1218          1\n",
              "252         1115          1\n",
              "251         1055          1"
            ]
          },
          "metadata": {
            "tags": []
          },
          "execution_count": 19
        }
      ]
    },
    {
      "cell_type": "code",
      "metadata": {
        "colab": {
          "base_uri": "https://localhost:8080/",
          "height": 440
        },
        "id": "KaYTU2oNOTKj",
        "outputId": "2068c4f7-818e-4378-8030-0d85b9232792"
      },
      "source": [
        "#Visualize the distribution of ratings per user\n",
        "fig = plt.figure(figsize=(30,7))\n",
        "ax = fig.add_subplot(111)\n",
        "sns.histplot(dist_raings_pdf, x='num_ratings')\n",
        "ax.set_xlabel('Number of ratings per user', fontsize=20)\n",
        "ax.set_ylabel('Number of Users', fontsize=20)\n",
        "ax.set_title('Distribution of Ratings per User', fontsize=30)\n",
        "ax.tick_params(labelsize=15)"
      ],
      "execution_count": null,
      "outputs": [
        {
          "output_type": "display_data",
          "data": {
            "image/png": "[encoded data removed]",
            "text/plain": [
              "<Figure size 2160x504 with 1 Axes>"
            ]
          },
          "metadata": {
            "tags": []
          }
        }
      ]
    },
    {
      "cell_type": "markdown",
      "metadata": {
        "id": "njfrrhdFbAEc"
      },
      "source": [
        "**Notes: Most of user gave about ratings. A few user gave more than 1000 of ratings."
      ]
    },
    {
      "cell_type": "markdown",
      "metadata": {
        "id": "uD7kNjqkPeRA"
      },
      "source": [
        "**Number of movies each rating score**"
      ]
    },
    {
      "cell_type": "code",
      "metadata": {
        "colab": {
          "base_uri": "https://localhost:8080/"
        },
        "id": "RMlMcgW1ilf2",
        "outputId": "88e42c98-59b1-4ed3-aa44-9fb26b7c8b38"
      },
      "source": [
        "#Join movie dataframe and rating dataframe \n",
        "movies_ratings_df = movies_df.join(ratings_df, on='movieId', how='left')\n",
        "movies_ratings_df.show()"
      ],
      "execution_count": null,
      "outputs": [
        {
          "output_type": "stream",
          "text": [
            "+-------+----------------+--------------------+------+------+----------+\n",
            "|movieId|           title|              genres|userId|rating| timestamp|\n",
            "+-------+----------------+--------------------+------+------+----------+\n",
            "|      1|Toy Story (1995)|Adventure|Animati...|   610|   5.0|1479542900|\n",
            "|      1|Toy Story (1995)|Adventure|Animati...|   609|   3.0| 847221025|\n",
            "|      1|Toy Story (1995)|Adventure|Animati...|   608|   2.5|1117408267|\n",
            "|      1|Toy Story (1995)|Adventure|Animati...|   607|   4.0| 964744033|\n",
            "|      1|Toy Story (1995)|Adventure|Animati...|   606|   2.5|1349082950|\n",
            "|      1|Toy Story (1995)|Adventure|Animati...|   605|   4.0|1277097561|\n",
            "|      1|Toy Story (1995)|Adventure|Animati...|   604|   3.0| 832079851|\n",
            "|      1|Toy Story (1995)|Adventure|Animati...|   603|   4.0| 963178147|\n",
            "|      1|Toy Story (1995)|Adventure|Animati...|   601|   4.0|1521467801|\n",
            "|      1|Toy Story (1995)|Adventure|Animati...|   600|   2.5|1237764347|\n",
            "|      1|Toy Story (1995)|Adventure|Animati...|   599|   3.0|1498524204|\n",
            "|      1|Toy Story (1995)|Adventure|Animati...|   597|   4.0| 941557863|\n",
            "|      1|Toy Story (1995)|Adventure|Animati...|   596|   4.0|1535709666|\n",
            "|      1|Toy Story (1995)|Adventure|Animati...|   590|   4.0|1258420408|\n",
            "|      1|Toy Story (1995)|Adventure|Animati...|   587|   5.0| 953137847|\n",
            "|      1|Toy Story (1995)|Adventure|Animati...|   584|   5.0| 834987643|\n",
            "|      1|Toy Story (1995)|Adventure|Animati...|   580|   3.0|1167792349|\n",
            "|      1|Toy Story (1995)|Adventure|Animati...|   579|   4.0| 958881146|\n",
            "|      1|Toy Story (1995)|Adventure|Animati...|   573|   5.0|1186722182|\n",
            "|      1|Toy Story (1995)|Adventure|Animati...|   572|   4.0| 945892484|\n",
            "+-------+----------------+--------------------+------+------+----------+\n",
            "only showing top 20 rows\n",
            "\n"
          ],
          "name": "stdout"
        }
      ]
    },
    {
      "cell_type": "code",
      "metadata": {
        "colab": {
          "base_uri": "https://localhost:8080/",
          "height": 204
        },
        "id": "B0Fg00-hl4PY",
        "outputId": "ffb60221-957e-4e88-91b2-363ac533c6d4"
      },
      "source": [
        "#count different rating score\n",
        "num_ratings_movie_df = movies_ratings_df.groupBy('rating').count().orderBy('rating', acsending=True).toPandas()\n",
        "num_ratings_movie_df.head()"
      ],
      "execution_count": null,
      "outputs": [
        {
          "output_type": "execute_result",
          "data": {
            "text/html": [
              "<div>\n",
              "<style scoped>\n",
              "    .dataframe tbody tr th:only-of-type {\n",
              "        vertical-align: middle;\n",
              "    }\n",
              "\n",
              "    .dataframe tbody tr th {\n",
              "        vertical-align: top;\n",
              "    }\n",
              "\n",
              "    .dataframe thead th {\n",
              "        text-align: right;\n",
              "    }\n",
              "</style>\n",
              "<table border=\"1\" class=\"dataframe\">\n",
              "  <thead>\n",
              "    <tr style=\"text-align: right;\">\n",
              "      <th></th>\n",
              "      <th>rating</th>\n",
              "      <th>count</th>\n",
              "    </tr>\n",
              "  </thead>\n",
              "  <tbody>\n",
              "    <tr>\n",
              "      <th>0</th>\n",
              "      <td>None</td>\n",
              "      <td>18</td>\n",
              "    </tr>\n",
              "    <tr>\n",
              "      <th>1</th>\n",
              "      <td>0.5</td>\n",
              "      <td>1370</td>\n",
              "    </tr>\n",
              "    <tr>\n",
              "      <th>2</th>\n",
              "      <td>1.0</td>\n",
              "      <td>2811</td>\n",
              "    </tr>\n",
              "    <tr>\n",
              "      <th>3</th>\n",
              "      <td>1.5</td>\n",
              "      <td>1791</td>\n",
              "    </tr>\n",
              "    <tr>\n",
              "      <th>4</th>\n",
              "      <td>2.0</td>\n",
              "      <td>7551</td>\n",
              "    </tr>\n",
              "  </tbody>\n",
              "</table>\n",
              "</div>"
            ],
            "text/plain": [
              "  rating  count\n",
              "0   None     18\n",
              "1    0.5   1370\n",
              "2    1.0   2811\n",
              "3    1.5   1791\n",
              "4    2.0   7551"
            ]
          },
          "metadata": {
            "tags": []
          },
          "execution_count": 22
        }
      ]
    },
    {
      "cell_type": "code",
      "metadata": {
        "colab": {
          "base_uri": "https://localhost:8080/",
          "height": 434
        },
        "id": "yn36INk_3FsE",
        "outputId": "cc2b285a-b007-4302-a6d6-3b7379dfb75d"
      },
      "source": [
        "#convert ratings from spar DF to pandas DF\n",
        "ratings_pdf = ratings_df.toPandas()\n",
        "\n",
        "#create a graph\n",
        "fig = plt.figure(figsize=(8,6))\n",
        "ax = fig.add_subplot(111)\n",
        "sns.countplot(data = ratings_pdf, x='rating', palette='PuBuGn', order=ratings_pdf['rating'].value_counts().sort_index().index )\n",
        "ax.set_xlabel('rating', fontsize=17)\n",
        "ax.set_ylabel('Number of ratings', fontsize=17)\n",
        "ax.set_title('Distribution of Ratings', fontsize=20)"
      ],
      "execution_count": null,
      "outputs": [
        {
          "output_type": "execute_result",
          "data": {
            "text/plain": [
              "Text(0.5, 1.0, 'Distribution of Ratings')"
            ]
          },
          "metadata": {
            "tags": []
          },
          "execution_count": 23
        },
        {
          "output_type": "display_data",
          "data": {
            "image/png": "[encoded data removed]",
            "text/plain": [
              "<Figure size 576x432 with 1 Axes>"
            ]
          },
          "metadata": {
            "tags": []
          }
        }
      ]
    },
    {
      "cell_type": "markdown",
      "metadata": {
        "id": "7VAWAQ5tBL27"
      },
      "source": [
        "**Notes: Most of users gave 3 to 4 ratins score."
      ]
    },
    {
      "cell_type": "markdown",
      "metadata": {
        "id": "Cl2zqA-Lp5TP"
      },
      "source": [
        "**Number of ratings each movie**"
      ]
    },
    {
      "cell_type": "code",
      "metadata": {
        "colab": {
          "base_uri": "https://localhost:8080/"
        },
        "id": "PZxaSkio0WhK",
        "outputId": "63082192-d609-4bff-8285-2de3c756930c"
      },
      "source": [
        "rating_per_movie_pdf = ratings_kdf.groupby(by='movieId').count().sort_values(by='rating').sort_values(by='rating', ascending=True).toPandas()\n",
        "rating_per_movie_pdf['rating'].head()"
      ],
      "execution_count": null,
      "outputs": [
        {
          "output_type": "stream",
          "text": [
            "/usr/local/lib/python3.6/dist-packages/databricks/koalas/frame.py:4583: FutureWarning: DataFrame.toPandas is deprecated as of DataFrame.to_pandas. Please use the API instead.\n",
            "  FutureWarning,\n"
          ],
          "name": "stderr"
        },
        {
          "output_type": "execute_result",
          "data": {
            "text/plain": [
              "movieId\n",
              "5300      1\n",
              "2659      1\n",
              "76143     1\n",
              "140541    1\n",
              "148       1\n",
              "Name: rating, dtype: int64"
            ]
          },
          "metadata": {
            "tags": []
          },
          "execution_count": 24
        }
      ]
    },
    {
      "cell_type": "code",
      "metadata": {
        "colab": {
          "base_uri": "https://localhost:8080/",
          "height": 493
        },
        "id": "-2sVHLjY7uu9",
        "outputId": "7119c381-fa6d-483f-f61e-b87d708fe0cc"
      },
      "source": [
        "#visualize the distribution of ratings each movie\n",
        "fig = plt.figure(figsize=(10,7))\n",
        "ax = fig.add_subplot(111)\n",
        "sns.histplot(data=rating_per_movie_pdf, x='rating')\n",
        "ax.set_xlabel('Number of ratings per movie', fontsize=20)\n",
        "ax.set_ylabel('Number of movies', fontsize=20)\n",
        "ax.set_title('Distribution of Rating per Movies', fontsize=25)"
      ],
      "execution_count": null,
      "outputs": [
        {
          "output_type": "execute_result",
          "data": {
            "text/plain": [
              "Text(0.5, 1.0, 'Distribution of Rating per Movies')"
            ]
          },
          "metadata": {
            "tags": []
          },
          "execution_count": 25
        },
        {
          "output_type": "display_data",
          "data": {
            "image/png": "[encoded data removed]",
            "text/plain": [
              "<Figure size 720x504 with 1 Axes>"
            ]
          },
          "metadata": {
            "tags": []
          }
        }
      ]
    },
    {
      "cell_type": "markdown",
      "metadata": {
        "id": "HI-KUaZtBgF6"
      },
      "source": [
        "**Notes: Most of movie has less than 50 ratings and 3446 movies only has 1 rating."
      ]
    },
    {
      "cell_type": "markdown",
      "metadata": {
        "id": "qGlgNdSabZTR"
      },
      "source": [
        "**Average rating of movies**"
      ]
    },
    {
      "cell_type": "code",
      "metadata": {
        "colab": {
          "base_uri": "https://localhost:8080/",
          "height": 198
        },
        "id": "ztzxXP1xbWgy",
        "outputId": "9b14fd97-73cd-46c6-ecbd-054e1a7b83cf"
      },
      "source": [
        "#average rating of movies\n",
        "avg_rating_pdf = ratings_df.groupBy('movieid').agg(round(mean('rating'), 2)).select(col('movieid').alias('movieId'),col('round(avg(rating), 2)')\\\n",
        "  .alias('avg_rating')).toPandas()\n",
        "avg_rating_pdf.head()"
      ],
      "execution_count": null,
      "outputs": [
        {
          "output_type": "execute_result",
          "data": {
            "text/html": [
              "<div>\n",
              "<style scoped>\n",
              "    .dataframe tbody tr th:only-of-type {\n",
              "        vertical-align: middle;\n",
              "    }\n",
              "\n",
              "    .dataframe tbody tr th {\n",
              "        vertical-align: top;\n",
              "    }\n",
              "\n",
              "    .dataframe thead th {\n",
              "        text-align: right;\n",
              "    }\n",
              "</style>\n",
              "<table border=\"1\" class=\"dataframe\">\n",
              "  <thead>\n",
              "    <tr style=\"text-align: right;\">\n",
              "      <th></th>\n",
              "      <th>movieId</th>\n",
              "      <th>avg_rating</th>\n",
              "    </tr>\n",
              "  </thead>\n",
              "  <tbody>\n",
              "    <tr>\n",
              "      <th>0</th>\n",
              "      <td>296</td>\n",
              "      <td>3.99</td>\n",
              "    </tr>\n",
              "    <tr>\n",
              "      <th>1</th>\n",
              "      <td>1090</td>\n",
              "      <td>3.98</td>\n",
              "    </tr>\n",
              "    <tr>\n",
              "      <th>2</th>\n",
              "      <td>115713</td>\n",
              "      <td>3.58</td>\n",
              "    </tr>\n",
              "    <tr>\n",
              "      <th>3</th>\n",
              "      <td>3210</td>\n",
              "      <td>3.37</td>\n",
              "    </tr>\n",
              "    <tr>\n",
              "      <th>4</th>\n",
              "      <td>88140</td>\n",
              "      <td>3.67</td>\n",
              "    </tr>\n",
              "  </tbody>\n",
              "</table>\n",
              "</div>"
            ],
            "text/plain": [
              "  movieId  avg_rating\n",
              "0     296        3.99\n",
              "1    1090        3.98\n",
              "2  115713        3.58\n",
              "3    3210        3.37\n",
              "4   88140        3.67"
            ]
          },
          "metadata": {
            "tags": []
          },
          "execution_count": 30
        }
      ]
    },
    {
      "cell_type": "code",
      "metadata": {
        "colab": {
          "base_uri": "https://localhost:8080/",
          "height": 434
        },
        "id": "-cyiUsNzeSrN",
        "outputId": "0c52fb0f-bbc7-4962-cfea-ef89e108d774"
      },
      "source": [
        "#Visualize the distribution of average raing \n",
        "fig = plt.figure(figsize=(8,6))\n",
        "ax = fig.add_subplot(111)\n",
        "sns.histplot(data = avg_rating_pdf, x='avg_rating')\n",
        "ax.set_xlabel('Average rating', fontsize=17)\n",
        "ax.set_ylabel('Number of movies', fontsize=17)\n",
        "ax.set_title('Distribution of Average Ratings', fontsize=20)"
      ],
      "execution_count": null,
      "outputs": [
        {
          "output_type": "execute_result",
          "data": {
            "text/plain": [
              "Text(0.5, 1.0, 'Distribution of Average Ratings')"
            ]
          },
          "metadata": {
            "tags": []
          },
          "execution_count": 27
        },
        {
          "output_type": "display_data",
          "data": {
            "image/png": "[encoded data removed]",
            "text/plain": [
              "<Figure size 576x432 with 1 Axes>"
            ]
          },
          "metadata": {
            "tags": []
          }
        }
      ]
    },
    {
      "cell_type": "markdown",
      "metadata": {
        "id": "nn4Z5IXNDYlo"
      },
      "source": [
        "**Distribution of movies in each year**"
      ]
    },
    {
      "cell_type": "markdown",
      "metadata": {
        "id": "qVNJ11qrD2Sk"
      },
      "source": [
        "First, extract year from movie's title."
      ]
    },
    {
      "cell_type": "code",
      "metadata": {
        "colab": {
          "base_uri": "https://localhost:8080/",
          "height": 204
        },
        "id": "ajQ2JVflC7L_",
        "outputId": "4ee3947b-4199-4dbd-853b-e0576f2baeab"
      },
      "source": [
        "#convert to pandas\n",
        "year_movies_pdf = movies_df.toPandas()\n",
        "\n",
        "#remove white space from right \n",
        "year_movies_pdf['title'] = year_movies_pdf['title'].str.rstrip()\n",
        "\n",
        "#extract year of movie from title, and creates new conlumn for year\n",
        "year_movies_pdf['year'] = year_movies_pdf['title'].str.slice(-5,-1)\n",
        "\n",
        "#replace Non year with median number of year\n",
        "#median_year = movies_pdf['year'].median()\n",
        "year_movies_pdf['year']= year_movies_pdf['year'].apply(lambda x: x if x.isnumeric() else '1999')\n",
        "\n",
        "#some movie has year but not formated corectly\n",
        "#replace with correct year\n",
        "year_movies_pdf.loc[5019,'year']='2002'\n",
        "year_movies_pdf.head()"
      ],
      "execution_count": null,
      "outputs": [
        {
          "output_type": "execute_result",
          "data": {
            "text/html": [
              "<div>\n",
              "<style scoped>\n",
              "    .dataframe tbody tr th:only-of-type {\n",
              "        vertical-align: middle;\n",
              "    }\n",
              "\n",
              "    .dataframe tbody tr th {\n",
              "        vertical-align: top;\n",
              "    }\n",
              "\n",
              "    .dataframe thead th {\n",
              "        text-align: right;\n",
              "    }\n",
              "</style>\n",
              "<table border=\"1\" class=\"dataframe\">\n",
              "  <thead>\n",
              "    <tr style=\"text-align: right;\">\n",
              "      <th></th>\n",
              "      <th>movieId</th>\n",
              "      <th>title</th>\n",
              "      <th>genres</th>\n",
              "      <th>year</th>\n",
              "    </tr>\n",
              "  </thead>\n",
              "  <tbody>\n",
              "    <tr>\n",
              "      <th>0</th>\n",
              "      <td>1</td>\n",
              "      <td>Toy Story (1995)</td>\n",
              "      <td>Adventure|Animation|Children|Comedy|Fantasy</td>\n",
              "      <td>1995</td>\n",
              "    </tr>\n",
              "    <tr>\n",
              "      <th>1</th>\n",
              "      <td>2</td>\n",
              "      <td>Jumanji (1995)</td>\n",
              "      <td>Adventure|Children|Fantasy</td>\n",
              "      <td>1995</td>\n",
              "    </tr>\n",
              "    <tr>\n",
              "      <th>2</th>\n",
              "      <td>3</td>\n",
              "      <td>Grumpier Old Men (1995)</td>\n",
              "      <td>Comedy|Romance</td>\n",
              "      <td>1995</td>\n",
              "    </tr>\n",
              "    <tr>\n",
              "      <th>3</th>\n",
              "      <td>4</td>\n",
              "      <td>Waiting to Exhale (1995)</td>\n",
              "      <td>Comedy|Drama|Romance</td>\n",
              "      <td>1995</td>\n",
              "    </tr>\n",
              "    <tr>\n",
              "      <th>4</th>\n",
              "      <td>5</td>\n",
              "      <td>Father of the Bride Part II (1995)</td>\n",
              "      <td>Comedy</td>\n",
              "      <td>1995</td>\n",
              "    </tr>\n",
              "  </tbody>\n",
              "</table>\n",
              "</div>"
            ],
            "text/plain": [
              "  movieId  ...  year\n",
              "0       1  ...  1995\n",
              "1       2  ...  1995\n",
              "2       3  ...  1995\n",
              "3       4  ...  1995\n",
              "4       5  ...  1995\n",
              "\n",
              "[5 rows x 4 columns]"
            ]
          },
          "metadata": {
            "tags": []
          },
          "execution_count": 28
        }
      ]
    },
    {
      "cell_type": "code",
      "metadata": {
        "colab": {
          "base_uri": "https://localhost:8080/",
          "height": 204
        },
        "id": "DZ-kLwqwEAKd",
        "outputId": "0337eed8-6d87-4c98-e7b6-abc2978e7655"
      },
      "source": [
        "#count number of movies in each year\n",
        "cnt_yr_movies = year_movies_pdf.groupby(by='year').count().rename(columns={'movieId':'num_movies'}).drop(columns=['title', 'genres']).reset_index()\n",
        "cnt_yr_movies.head(5)"
      ],
      "execution_count": null,
      "outputs": [
        {
          "output_type": "execute_result",
          "data": {
            "text/html": [
              "<div>\n",
              "<style scoped>\n",
              "    .dataframe tbody tr th:only-of-type {\n",
              "        vertical-align: middle;\n",
              "    }\n",
              "\n",
              "    .dataframe tbody tr th {\n",
              "        vertical-align: top;\n",
              "    }\n",
              "\n",
              "    .dataframe thead th {\n",
              "        text-align: right;\n",
              "    }\n",
              "</style>\n",
              "<table border=\"1\" class=\"dataframe\">\n",
              "  <thead>\n",
              "    <tr style=\"text-align: right;\">\n",
              "      <th></th>\n",
              "      <th>year</th>\n",
              "      <th>num_movies</th>\n",
              "    </tr>\n",
              "  </thead>\n",
              "  <tbody>\n",
              "    <tr>\n",
              "      <th>0</th>\n",
              "      <td>1902</td>\n",
              "      <td>1</td>\n",
              "    </tr>\n",
              "    <tr>\n",
              "      <th>1</th>\n",
              "      <td>1903</td>\n",
              "      <td>1</td>\n",
              "    </tr>\n",
              "    <tr>\n",
              "      <th>2</th>\n",
              "      <td>1908</td>\n",
              "      <td>1</td>\n",
              "    </tr>\n",
              "    <tr>\n",
              "      <th>3</th>\n",
              "      <td>1915</td>\n",
              "      <td>1</td>\n",
              "    </tr>\n",
              "    <tr>\n",
              "      <th>4</th>\n",
              "      <td>1916</td>\n",
              "      <td>4</td>\n",
              "    </tr>\n",
              "  </tbody>\n",
              "</table>\n",
              "</div>"
            ],
            "text/plain": [
              "   year  num_movies\n",
              "0  1902           1\n",
              "1  1903           1\n",
              "2  1908           1\n",
              "3  1915           1\n",
              "4  1916           4"
            ]
          },
          "metadata": {
            "tags": []
          },
          "execution_count": 29
        }
      ]
    },
    {
      "cell_type": "code",
      "metadata": {
        "colab": {
          "base_uri": "https://localhost:8080/",
          "height": 160
        },
        "id": "BhL8usL8FpW6",
        "outputId": "9415621f-d671-4f95-f09b-be84e7e9155a"
      },
      "source": [
        "#visualize the distribution of movie in year\n",
        "fig = plt.figure(figsize=(100,7))\n",
        "ax = fig.add_subplot(111)\n",
        "sns.barplot(data = cnt_yr_movies, x='year', y='num_movies')\n",
        "ax.set_xlabel('Year', fontsize=17)\n",
        "ax.set_ylabel('Number of movies', fontsize=17)\n",
        "ax.set_title('Distribution of Movies Each Year', fontsize=20)"
      ],
      "execution_count": null,
      "outputs": [
        {
          "output_type": "execute_result",
          "data": {
            "text/plain": [
              "Text(0.5, 1.0, 'Distribution of Movies Each Year')"
            ]
          },
          "metadata": {
            "tags": []
          },
          "execution_count": 30
        },
        {
          "output_type": "display_data",
          "data": {
            "image/png": "[encoded data removed]",
            "text/plain": [
              "<Figure size 7200x504 with 1 Axes>"
            ]
          },
          "metadata": {
            "tags": []
          }
        }
      ]
    },
    {
      "cell_type": "code",
      "metadata": {
        "colab": {
          "base_uri": "https://localhost:8080/",
          "height": 204
        },
        "id": "URwBiv57HcKo",
        "outputId": "4fa1bdf9-171e-4938-e98d-a007963c2dfc"
      },
      "source": [
        "new_movies_kdf = ks.from_pandas(cnt_yr_movies)\n",
        "#Bucketing continuous variable 'year' into discrete, to prevent overfitting in tree model.\n",
        "from pyspark.ml.feature import Bucketizer\n",
        "\n",
        "year_buckets = [-float('inf'), 1960, 1970,1980,1990,2000,2010, float('inf')]\n",
        "\n",
        "bucketizer = Bucketizer(splits=year_buckets, inputCol='year', outputCol='yearBins')\n",
        "\n",
        "#converts year from string to float.\n",
        "new_movies_kdf['year'] = new_movies_kdf['year'].astype('float')\n",
        "\n",
        "#transform original data into its bucket index.\n",
        "new_movies_kdf['year'] = new_movies_kdf['year'].astype('float')\n",
        "\n",
        "#converts from koalas to spark DataFrame\n",
        "tmp = new_movies_kdf.to_spark()\n",
        "\n",
        "bucketedYear_df = bucketizer.transform(tmp)\n",
        "\n",
        "bucketedYear_pdf = bucketedYear_df.toPandas()\n",
        "bucketedYear_pdf.head()"
      ],
      "execution_count": null,
      "outputs": [
        {
          "output_type": "execute_result",
          "data": {
            "text/html": [
              "<div>\n",
              "<style scoped>\n",
              "    .dataframe tbody tr th:only-of-type {\n",
              "        vertical-align: middle;\n",
              "    }\n",
              "\n",
              "    .dataframe tbody tr th {\n",
              "        vertical-align: top;\n",
              "    }\n",
              "\n",
              "    .dataframe thead th {\n",
              "        text-align: right;\n",
              "    }\n",
              "</style>\n",
              "<table border=\"1\" class=\"dataframe\">\n",
              "  <thead>\n",
              "    <tr style=\"text-align: right;\">\n",
              "      <th></th>\n",
              "      <th>year</th>\n",
              "      <th>num_movies</th>\n",
              "      <th>yearBins</th>\n",
              "    </tr>\n",
              "  </thead>\n",
              "  <tbody>\n",
              "    <tr>\n",
              "      <th>0</th>\n",
              "      <td>1902.0</td>\n",
              "      <td>1</td>\n",
              "      <td>0.0</td>\n",
              "    </tr>\n",
              "    <tr>\n",
              "      <th>1</th>\n",
              "      <td>1903.0</td>\n",
              "      <td>1</td>\n",
              "      <td>0.0</td>\n",
              "    </tr>\n",
              "    <tr>\n",
              "      <th>2</th>\n",
              "      <td>1908.0</td>\n",
              "      <td>1</td>\n",
              "      <td>0.0</td>\n",
              "    </tr>\n",
              "    <tr>\n",
              "      <th>3</th>\n",
              "      <td>1915.0</td>\n",
              "      <td>1</td>\n",
              "      <td>0.0</td>\n",
              "    </tr>\n",
              "    <tr>\n",
              "      <th>4</th>\n",
              "      <td>1916.0</td>\n",
              "      <td>4</td>\n",
              "      <td>0.0</td>\n",
              "    </tr>\n",
              "  </tbody>\n",
              "</table>\n",
              "</div>"
            ],
            "text/plain": [
              "     year  num_movies  yearBins\n",
              "0  1902.0           1       0.0\n",
              "1  1903.0           1       0.0\n",
              "2  1908.0           1       0.0\n",
              "3  1915.0           1       0.0\n",
              "4  1916.0           4       0.0"
            ]
          },
          "metadata": {
            "tags": []
          },
          "execution_count": 31
        }
      ]
    },
    {
      "cell_type": "code",
      "metadata": {
        "colab": {
          "base_uri": "https://localhost:8080/",
          "height": 488
        },
        "id": "A9EFMYc1Kdiq",
        "outputId": "ac727757-e886-4e39-8471-d770ad1f14cc"
      },
      "source": [
        "#visualize movie diatribution after bucketized\n",
        "fig = plt.figure(figsize=(20,7))\n",
        "ax = fig.add_subplot(111)\n",
        "sns.barplot(data = bucketedYear_pdf, x='yearBins', y='num_movies' )\n",
        "ax.set_xlabel('Year', fontsize=17)\n",
        "ax.set_ylabel('Number of movies', fontsize=17)\n",
        "ax.set_title('Distribution of Movies Each Year', fontsize=20)\n",
        "\n",
        "#locs, labels = xticks()\n",
        "#xticks(np.arange(0, 1, step=0.2), [-float('inf'), 1960, 1970,1980,1990,2000,2010, float('inf')] )\n"
      ],
      "execution_count": null,
      "outputs": [
        {
          "output_type": "execute_result",
          "data": {
            "text/plain": [
              "Text(0.5, 1.0, 'Distribution of Movies Each Year')"
            ]
          },
          "metadata": {
            "tags": []
          },
          "execution_count": 32
        },
        {
          "output_type": "display_data",
          "data": {
            "image/png": "[encoded data removed]",
            "text/plain": [
              "<Figure size 1440x504 with 1 Axes>"
            ]
          },
          "metadata": {
            "tags": []
          }
        }
      ]
    },
    {
      "cell_type": "markdown",
      "metadata": {
        "id": "EcvQM97c7kV_"
      },
      "source": [
        "#Part3: Model Training/Embedding"
      ]
    },
    {
      "cell_type": "markdown",
      "metadata": {
        "id": "vyHjCrB-CcJF"
      },
      "source": [
        "##Part 3_1: Spark ALS based approach for training model"
      ]
    },
    {
      "cell_type": "code",
      "metadata": {
        "id": "GZEOcCNBsuIc"
      },
      "source": [
        "#import ALS model, elvauator, cross validation packages\n",
        "from pyspark.ml.recommendation import ALS\n",
        "from pyspark.ml.evaluation import RegressionEvaluator\n",
        "from pyspark.ml.tuning import CrossValidator, ParamGridBuilder"
      ],
      "execution_count": null,
      "outputs": []
    },
    {
      "cell_type": "markdown",
      "metadata": {
        "id": "mT62xzt2IjwV"
      },
      "source": [
        "**Note: the original data types are string type. we need to convert to interger or float types to feed the model."
      ]
    },
    {
      "cell_type": "code",
      "metadata": {
        "colab": {
          "base_uri": "https://localhost:8080/"
        },
        "id": "GxBmdL2wJB5o",
        "outputId": "dc48a620-2727-486b-a1c9-2bae67ca0a35"
      },
      "source": [
        "from pyspark.sql.types import IntegerType\n",
        "from pyspark.sql.types import FloatType\n",
        "#drop redundant column\n",
        "movie_ratings_df = ratings_df.drop('timestamp')\n",
        "\n",
        "#converts data type for model training.\n",
        "movie_ratings_df = movie_ratings_df.withColumn('userId', ratings_df['userId'].cast(IntegerType()))\n",
        "movie_ratings_df = movie_ratings_df.withColumn('movieId', ratings_df['movieId'].cast(IntegerType()))\n",
        "movie_ratings_df = movie_ratings_df.withColumn('rating', ratings_df['rating'].cast(FloatType()))\n",
        "\n",
        "movie_ratings_df.cache()\n",
        "movie_ratings_df.printSchema()"
      ],
      "execution_count": null,
      "outputs": [
        {
          "output_type": "stream",
          "text": [
            "root\n",
            " |-- userId: integer (nullable = true)\n",
            " |-- movieId: integer (nullable = true)\n",
            " |-- rating: float (nullable = true)\n",
            "\n"
          ],
          "name": "stdout"
        }
      ]
    },
    {
      "cell_type": "markdown",
      "metadata": {
        "id": "mrIjxEMhsSiO"
      },
      "source": [
        "**Split the data into 80% traing and 20% test. Define RMSE as evaluation metircs.**"
      ]
    },
    {
      "cell_type": "code",
      "metadata": {
        "id": "P0W1BXKfS8pn"
      },
      "source": [
        "#split data set into training and test  data set\n",
        "(training, test) = movie_ratings_df.randomSplit([0.8,0.2], seed = 1)\n",
        "\n",
        "#Creates ALS model\n",
        "#coldStartStrategy:  “drop” : drop the unseen data in the validation.\n",
        "als = ALS(userCol='userId', itemCol='movieId', ratingCol='rating', coldStartStrategy='drop')\n",
        "\n",
        "#Define evaliator as RMSE\n",
        "RMSE_evaluator = RegressionEvaluator(metricName='rmse', labelCol='rating', predictionCol='prediction')\n",
        "\n",
        "#Tune model using ParamGridBuilder\n",
        "#regParam specifies the regularization parameter\n",
        "paramGrid = ParamGridBuilder()\\\n",
        "            .addGrid(als.regParam, [0.1])\\\n",
        "            .addGrid(als.maxIter, [9])\\\n",
        "            .addGrid(als.rank, [5])\\\n",
        "            .build()\n",
        "\n",
        "#Build Cross Validation\n",
        "crossval = CrossValidator(estimator = als,\n",
        "                          estimatorParamMaps = paramGrid,\n",
        "                          evaluator = RMSE_evaluator,\n",
        "                          numFolds = 5,\n",
        "                          collectSubModels = True,\n",
        "                          seed = 1)\n"
      ],
      "execution_count": null,
      "outputs": []
    },
    {
      "cell_type": "markdown",
      "metadata": {
        "id": "RPXdHZ2b1jw9"
      },
      "source": [
        "Note: When using simple random splits as in Spark’s CrossValidator or TrainValidationSplit, it is actually very common to encounter users and/or items in the evaluation set that are not in the training set. By default, Spark assigns NaN predictions during ALSModel.transform when a user and/or item factor is not present in the model.We set cold start strategy to ‘drop’ to ensure we don’t get NaN evaluation metrics"
      ]
    },
    {
      "cell_type": "code",
      "metadata": {
        "colab": {
          "base_uri": "https://localhost:8080/"
        },
        "id": "AUpihoqgtd2z",
        "outputId": "319f9c4f-85d3-406a-d92c-814360e541a0"
      },
      "source": [
        "import time\n",
        "start = time.time()\n",
        "\n",
        "#Fit ALS model to trainging data\n",
        "cv_model = crossval.fit(training)\n",
        "\n",
        "#Extracts best model form the tuning exercise using ParamGridBuilder\n",
        "best_model = cv_model.bestModel\n",
        "\n",
        "end = time.time()\n",
        "print('Training model costs %.3f second.' %(end-start))"
      ],
      "execution_count": null,
      "outputs": [
        {
          "output_type": "stream",
          "text": [
            "Training model costs 85.869 second.\n"
          ],
          "name": "stdout"
        }
      ]
    },
    {
      "cell_type": "code",
      "metadata": {
        "colab": {
          "base_uri": "https://localhost:8080/"
        },
        "id": "72NfQAKeQO4R",
        "outputId": "f890c20d-1253-43c1-c27f-115f53b27c14"
      },
      "source": [
        "start = time.time()\n",
        "#Calculate the training RMSE\n",
        "predictions = cv_model.transform(training)\n",
        "rmse_train = RMSE_evaluator.evaluate(predictions)\n",
        "#prit out parameters of the best model \n",
        "end = time.time()\n",
        "print('Predict training costs %.3f second.' %(end-start))\n",
        "print('**The Best Model**')\n",
        "print('rank: ', best_model._java_obj.parent().getRank())\n",
        "print('regParam: ',best_model._java_obj.parent().getRegParam())\n",
        "print('MaxIter: ', best_model._java_obj.parent().getMaxIter())\n",
        "print('Root-mean-suare-error for training data: ', rmse_train)"
      ],
      "execution_count": null,
      "outputs": [
        {
          "output_type": "stream",
          "text": [
            "Predict training costs 10.239 second.\n",
            "**The Best Model**\n",
            "rank:  5\n",
            "regParam:  0.1\n",
            "MaxIter:  9\n",
            "Root-mean-suare-error for training data:  0.6429172429020982\n"
          ],
          "name": "stdout"
        }
      ]
    },
    {
      "cell_type": "code",
      "metadata": {
        "colab": {
          "base_uri": "https://localhost:8080/"
        },
        "id": "JGaF_6-PujEd",
        "outputId": "d2b60ec2-dedc-4ef3-bd0e-4d5f6e27ffea"
      },
      "source": [
        "predictions.show()"
      ],
      "execution_count": null,
      "outputs": [
        {
          "output_type": "stream",
          "text": [
            "+------+-------+------+----------+\n",
            "|userId|movieId|rating|prediction|\n",
            "+------+-------+------+----------+\n",
            "|   191|    148|   5.0|  4.923914|\n",
            "|   133|    471|   4.0| 3.2005422|\n",
            "|   597|    471|   2.0| 3.6765919|\n",
            "|   385|    471|   4.0| 3.7811663|\n",
            "|   436|    471|   3.0|  3.649142|\n",
            "|   602|    471|   4.0| 3.3615584|\n",
            "|   409|    471|   3.0| 3.9699626|\n",
            "|   372|    471|   3.0| 3.3311334|\n",
            "|   599|    471|   2.5| 2.8966234|\n",
            "|   603|    471|   4.0|  3.101512|\n",
            "|   182|    471|   4.5|  4.015343|\n",
            "|   218|    471|   4.0| 3.6638455|\n",
            "|   474|    471|   3.0| 2.8979506|\n",
            "|   500|    471|   1.0|  2.250864|\n",
            "|    57|    471|   3.0| 3.7002244|\n",
            "|   387|    471|   3.0| 2.9757717|\n",
            "|   610|    471|   4.0|  3.801002|\n",
            "|   217|    471|   2.0|  2.392417|\n",
            "|   555|    471|   3.0| 2.6053698|\n",
            "|   176|    471|   5.0|  4.233411|\n",
            "+------+-------+------+----------+\n",
            "only showing top 20 rows\n",
            "\n"
          ],
          "name": "stdout"
        }
      ]
    },
    {
      "cell_type": "markdown",
      "metadata": {
        "id": "hCyEZThSnwBh"
      },
      "source": [
        "**Train model use whole data.**"
      ]
    },
    {
      "cell_type": "code",
      "metadata": {
        "colab": {
          "base_uri": "https://localhost:8080/"
        },
        "id": "W6STvGpfnuof",
        "outputId": "962c15d0-fea7-45ab-cda2-41b916ac327d"
      },
      "source": [
        "import time\n",
        "start = time.time()\n",
        "\n",
        "estimator = ALS(rank=5, maxIter=9, regParam=0.1, userCol='userId', itemCol='movieId', ratingCol='rating', coldStartStrategy='drop')\n",
        "model_with_whole = estimator.fit(movie_ratings_df)\n",
        "predictions = model_with_whole.transform(test)\n",
        "rmse_whole_data = RMSE_evaluator.evaluate(predictions)\n",
        "print('**The Best Model with whole data set**')\n",
        "print('Root-mean-suare-error for test data: ', rmse_whole_data)\n",
        "\n",
        "end = time.time()\n",
        "print('Training model costs %.3f second.' %(end-start))"
      ],
      "execution_count": null,
      "outputs": [
        {
          "output_type": "stream",
          "text": [
            "**The Best Model with whole data set**\n",
            "Root-mean-suare-error for test data:  0.6564829984296153\n",
            "Training model costs 16.071 second.\n"
          ],
          "name": "stdout"
        }
      ]
    },
    {
      "cell_type": "markdown",
      "metadata": {
        "id": "z-X_WTmXrGL6"
      },
      "source": [
        "**Note: The RMSE just about 1% higer with whole dataset than training data which is make sense and aceptable.\n",
        "\n",
        "\n"
      ]
    },
    {
      "cell_type": "markdown",
      "metadata": {
        "id": "bKwapHwwny7y"
      },
      "source": [
        "**User Embedding Vector**"
      ]
    },
    {
      "cell_type": "code",
      "metadata": {
        "id": "IUnpTsWeoQlf"
      },
      "source": [
        "#save user embedding vectors\n",
        "best_model.userFactors.toPandas().to_csv('/content/drive/MyDrive/Projects/MovieRecommendation/ALS_user_embedding.csv', index=False)"
      ],
      "execution_count": null,
      "outputs": []
    },
    {
      "cell_type": "code",
      "metadata": {
        "colab": {
          "base_uri": "https://localhost:8080/"
        },
        "id": "8fuXQony4t_P",
        "outputId": "7b6c2f1f-7844-48b0-f497-1f383382794a"
      },
      "source": [
        "als_user_embedding = spark.read.csv('/content/drive/MyDrive/Projects/MovieRecommendation/ALS_user_embedding.csv', header=True)\n",
        "als_user_embedding.show(truncate=False)"
      ],
      "execution_count": null,
      "outputs": [
        {
          "output_type": "stream",
          "text": [
            "+---+---------------------------------------------------------------------------------------------------------+\n",
            "|id |features                                                                                                 |\n",
            "+---+---------------------------------------------------------------------------------------------------------+\n",
            "|10 |[1.1817792654037476, -0.2940300703048706, 1.6403700113296509, -0.07358551770448685, 0.1320478767156601]  |\n",
            "|20 |[1.1260699033737183, -0.20444677770137787, 0.8952229022979736, -0.17196527123451233, -1.4942396879196167]|\n",
            "|30 |[0.6988054513931274, -0.23221157491207123, 1.255372405052185, -1.27004075050354, -0.7316378951072693]    |\n",
            "|40 |[0.6841102838516235, -0.6232526302337646, 1.1214433908462524, -0.5738973021507263, -1.3922480344772339]  |\n",
            "|50 |[0.3403725326061249, -0.2263503521680832, 0.3204931318759918, -0.5198656320571899, -1.2873259782791138]  |\n",
            "|60 |[0.9194726347923279, -0.27002981305122375, 0.9660966992378235, -0.9169602394104004, -0.6967278718948364] |\n",
            "|70 |[0.8872713446617126, -0.10236875712871552, 0.8356900811195374, -1.0148159265518188, -1.085465669631958]  |\n",
            "|80 |[0.8005096912384033, 0.11793582886457443, 1.2534337043762207, -1.2357144355773926, -0.6406376361846924]  |\n",
            "|90 |[0.5923047661781311, 0.18877610564231873, 0.3811846971511841, -0.8747150301933289, -1.7168701887130737]  |\n",
            "|100|[1.1021275520324707, -0.23100456595420837, 1.3265241384506226, -0.7510517239570618, -0.6075689792633057] |\n",
            "|110|[1.0258171558380127, 0.3243083655834198, 0.4256260097026825, -0.6803134679794312, -1.2413573265075684]   |\n",
            "|120|[0.24284325540065765, -0.4382253885269165, 1.116563081741333, -0.8406139016151428, -0.9992596507072449]  |\n",
            "|130|[0.7371440529823303, -0.43757346272468567, 0.941661536693573, -1.3824703693389893, -0.38083553314208984] |\n",
            "|140|[1.1032084226608276, 0.05331068113446236, 1.1370656490325928, -0.5806421637535095, -0.5967723727226257]  |\n",
            "|150|[0.8103247880935669, -0.5372951030731201, 0.9169513583183289, -0.9949585199356079, -0.7994035482406616]  |\n",
            "|160|[0.02167527750134468, 0.23415903747081757, 0.22515039145946503, -0.7488393187522888, -1.7901724576950073]|\n",
            "|170|[0.8722735643386841, -0.3093978464603424, 1.1888725757598877, -0.35945600271224976, -0.7456564903259277] |\n",
            "|180|[0.7293701171875, -0.435018926858902, 0.8155441880226135, -0.4003453254699707, -1.1204465627670288]      |\n",
            "|190|[0.7694324254989624, -0.11770687997341156, 1.0308960676193237, -0.551221489906311, -1.163830280303955]   |\n",
            "|200|[0.8758072257041931, -0.06284955143928528, 1.4659779071807861, -0.6691772937774658, -0.6396844983100891] |\n",
            "+---+---------------------------------------------------------------------------------------------------------+\n",
            "only showing top 20 rows\n",
            "\n"
          ],
          "name": "stdout"
        }
      ]
    },
    {
      "cell_type": "markdown",
      "metadata": {
        "id": "y888ESPEn002"
      },
      "source": [
        "**Movie Embedding Vector**"
      ]
    },
    {
      "cell_type": "code",
      "metadata": {
        "id": "SlXio3zDo_dq"
      },
      "source": [
        "#save user embedding vectors\n",
        "best_model.itemFactors.toPandas().to_csv('/content/drive/MyDrive/Projects/MovieRecommendation/ALS_movie_embedding.csv', index=False)"
      ],
      "execution_count": null,
      "outputs": []
    },
    {
      "cell_type": "code",
      "metadata": {
        "colab": {
          "base_uri": "https://localhost:8080/"
        },
        "id": "RILXI9RN4hDE",
        "outputId": "0a583b89-964d-444a-a091-0e713d912f33"
      },
      "source": [
        "als_movie_embedding = spark.read.csv('/content/drive/MyDrive/Projects/MovieRecommendation/ALS_movie_embedding.csv', header=True)\n",
        "als_movie_embedding.show(truncate=False)"
      ],
      "execution_count": null,
      "outputs": [
        {
          "output_type": "stream",
          "text": [
            "+---+---------------------------------------------------------------------------------------------------------+\n",
            "|id |features                                                                                                 |\n",
            "+---+---------------------------------------------------------------------------------------------------------+\n",
            "|10 |[0.7543582320213318, -0.43684113025665283, 1.1783419847488403, -1.244630217552185, -0.6357488632202148]  |\n",
            "|20 |[0.5292847156524658, 0.6717875599861145, 0.5208002924919128, -1.2557189464569092, -0.8527101874351501]   |\n",
            "|30 |[0.29009050130844116, 0.5124908685684204, -0.1266455203294754, 0.3089078962802887, -2.4219279289245605]  |\n",
            "|40 |[0.8130141496658325, -0.6409873962402344, 0.7687512636184692, -2.2855961322784424, -0.8852028250694275]  |\n",
            "|50 |[0.9116767048835754, -0.13672789931297302, 0.8309813141822815, -1.4305728673934937, -1.5520011186599731] |\n",
            "|60 |[1.038580060005188, -0.47373589873313904, 1.0702707767486572, -0.5647756457328796, -0.8667149543762207]  |\n",
            "|70 |[0.26851293444633484, -0.6242477297782898, 1.070370078086853, -1.5629199743270874, -0.8476001024246216]  |\n",
            "|80 |[0.8465093374252319, -0.1598796397447586, 0.8441383838653564, -0.7227721810340881, -1.6736689805984497]  |\n",
            "|100|[1.1181106567382812, -0.351722776889801, 0.8148859739303589, -0.4744887948036194, -0.7569461464881897]   |\n",
            "|110|[0.9473691582679749, -0.050550371408462524, 1.1110213994979858, -1.392408847808838, -1.1456708908081055] |\n",
            "|140|[1.0552881956100464, 0.2692843973636627, 0.9682173132896423, -0.8976523876190186, -0.8429849743843079]   |\n",
            "|150|[1.2544161081314087, -0.11344293504953384, 1.0831791162490845, -1.0776283740997314, -0.953171968460083]  |\n",
            "|160|[1.0342351198196411, -0.7112066149711609, 1.252339243888855, -0.5669218897819519, -0.236387699842453]    |\n",
            "|170|[0.9250396490097046, 0.3047359883785248, 1.2692381143569946, -0.6929017305374146, -0.9478256702423096]   |\n",
            "|180|[0.4133356213569641, -0.26934581995010376, 0.7954984903335571, -1.3639800548553467, -1.3367685079574585] |\n",
            "|190|[0.20974591374397278, -0.00960391666740179, -0.22886192798614502, 0.1649107038974762, -2.312657594680786]|\n",
            "|210|[1.1565054655075073, -0.4757123589515686, 0.9959473609924316, -0.574611485004425, -0.7212549448013306]   |\n",
            "|220|[0.31596165895462036, -0.5333989262580872, 1.0333380699157715, -0.6017885208129883, -0.6783742308616638] |\n",
            "|230|[1.3353317975997925, -0.562262773513794, 0.7375625371932983, -0.7628819346427917, -1.1017669439315796]   |\n",
            "|240|[1.1725620031356812, -0.585521399974823, 0.3118340075016022, -0.5174856781959534, -0.4407252073287964]   |\n",
            "+---+---------------------------------------------------------------------------------------------------------+\n",
            "only showing top 20 rows\n",
            "\n"
          ],
          "name": "stdout"
        }
      ]
    },
    {
      "cell_type": "markdown",
      "metadata": {
        "id": "EGA2Kbmk5pWA"
      },
      "source": [
        "##Part3_2: Item2vec Embedding"
      ]
    },
    {
      "cell_type": "markdown",
      "metadata": {
        "id": "KL_VKjCvOdww"
      },
      "source": [
        "Inorder to get the item embedding, we need to tranform datafram as (userid, itemids).\n",
        "\n",
        "Pro: embedding of item is base on the sequence of user interactions.\n",
        "\n",
        "Embedding the of movie := we predicts (embed) the movie base on sequence of user interations with movies where ratinge > 4.\n",
        "\n",
        "**Step1:** \n",
        "filter movie that each user like. We set a threshold if movie recieved rating > 4, otherwise remove the rating(consider the user don't like) we want to use the movie embeeding to search that user may also like\n",
        "\n",
        "**Step2:**\n",
        "movie embedding = groupby userid -> each userid -> list of movieid that user has whatched.\n",
        "\n",
        "**Step3:** using word2vec model. input = list of movieid, Output: embedding of movies\n",
        "\n",
        "**User Embedding:** Average of movie vectors that user has watched."
      ]
    },
    {
      "cell_type": "markdown",
      "metadata": {
        "id": "5O1j_WIcpa9b"
      },
      "source": [
        "####Movie Embedding"
      ]
    },
    {
      "cell_type": "code",
      "metadata": {
        "colab": {
          "base_uri": "https://localhost:8080/",
          "height": 253
        },
        "id": "04tGPvVVOdZL",
        "outputId": "ed06443c-45b4-422c-e518-7c6beefb348e"
      },
      "source": [
        "from pyspark.sql import functions as F\n",
        "#transform dataframe into (userid, itemids)\n",
        "\n",
        "#filter the movie only has rating score > mean score\n",
        "avg_rating = ratings_df.agg({'rating': 'mean'})\n",
        "positive_df = ratings_df.filter(ratings_df['rating'] > avg_rating.head()[0])\n",
        "\n",
        "#convert spark datafram to koalas dataframe for preprocessing\n",
        "positive_kdf = positive_df.to_koalas()\n",
        "\n",
        "#group by userId and merge all movieId into one list\n",
        "#首先groupby 'userId', 選擇每個group的movieId, lambda 的 x 是指一整個group, apply=>在每個group x 要join x裡面的每個elem,前提是要把每個elem m 轉換成string \n",
        "kdf_group = positive_kdf.groupby(['userId'])['movieId'].apply(lambda x: ' '.join([str(m) for m in x])).reset_index()\n",
        "kdf_group.head()"
      ],
      "execution_count": null,
      "outputs": [
        {
          "output_type": "stream",
          "text": [
            "spark-3.0.2-bin-hadoop2.7/python/pyspark/sql/pandas/group_ops.py:76: UserWarning: It is preferred to use 'applyInPandas' over this API. This API will be deprecated in the future releases. See SPARK-28264 for more details.\n",
            "  \"more details.\", UserWarning)\n"
          ],
          "name": "stderr"
        },
        {
          "output_type": "execute_result",
          "data": {
            "text/html": [
              "<div>\n",
              "<style scoped>\n",
              "    .dataframe tbody tr th:only-of-type {\n",
              "        vertical-align: middle;\n",
              "    }\n",
              "\n",
              "    .dataframe tbody tr th {\n",
              "        vertical-align: top;\n",
              "    }\n",
              "\n",
              "    .dataframe thead th {\n",
              "        text-align: right;\n",
              "    }\n",
              "</style>\n",
              "<table border=\"1\" class=\"dataframe\">\n",
              "  <thead>\n",
              "    <tr style=\"text-align: right;\">\n",
              "      <th></th>\n",
              "      <th>userId</th>\n",
              "      <th>movieId</th>\n",
              "    </tr>\n",
              "  </thead>\n",
              "  <tbody>\n",
              "    <tr>\n",
              "      <th>0</th>\n",
              "      <td>1</td>\n",
              "      <td>1 3 6 47 50 101 110 151 157 163 216 231 235 26...</td>\n",
              "    </tr>\n",
              "    <tr>\n",
              "      <th>1</th>\n",
              "      <td>10</td>\n",
              "      <td>588 912 1907 3578 4306 4447 4993 4995 5952 653...</td>\n",
              "    </tr>\n",
              "    <tr>\n",
              "      <th>2</th>\n",
              "      <td>100</td>\n",
              "      <td>11 16 17 28 62 74 89 95 168 222 234 237 261 26...</td>\n",
              "    </tr>\n",
              "    <tr>\n",
              "      <th>3</th>\n",
              "      <td>101</td>\n",
              "      <td>223 233 1093 1127 1210 1719 2318 2395 2396 256...</td>\n",
              "    </tr>\n",
              "    <tr>\n",
              "      <th>4</th>\n",
              "      <td>102</td>\n",
              "      <td>3 47 223 288 296 318 344 349 356 364 454 457 4...</td>\n",
              "    </tr>\n",
              "  </tbody>\n",
              "</table>\n",
              "</div>"
            ],
            "text/plain": [
              "  userId                                                                                                                                                                                                                                                                                                                                                                                                                                                                                                                                                                                                                                                                                                                                                                                                                                                                                                                                                                                   movieId\n",
              "0      1  1 3 6 47 50 101 110 151 157 163 216 231 235 260 333 349 356 362 367 441 457 480 527 543 552 553 590 592 593 596 608 661 733 804 919 923 940 943 954 1023 1024 1025 1029 1031 1032 1042 1049 1060 1073 1080 1089 1090 1092 1097 1127 1136 1196 1197 1198 1206 1208 1210 1213 1214 1220 1222 1224 1226 1240 1256 1265 1270 1275 1278 1282 1291 1298 1348 1473 1500 1517 1552 1573 1587 1617 1620 1625 1732 1777 1793 1804 1805 1920 1927 1954 1967 2000 2005 2012 2018 2028 2033 2046 2048 2054 2058 2078 2090 2094 2096 2099 2105 2115 2116 2137 2139 2141 2143 2161 2174 2193 2268 2273 2291 2329 2353 2366 2387 2395 2406 2427 2450 2459 2470 2478 2492 2502 2529 2542 2571 2580 2596 2616 2628 2640 2641 2644 2648 2654 2692 2700 2716 2761 2797 2826 2858 2872 2899 2916 2944 2947 2948 2949 2959 2985 2987 2991 2993 2997 3033 3034 3052 3053 3062 3147 3168 3253 3273 3386 3439 3440 3441 3448 3450 3479 3489 3527 3578 3617 3639 3671 3702 3703 3729 3740 3744 3793 3809 4006 5060\n",
              "1     10                                                                                                                                                                                                                                                                                                                                                                                                                                                                                                                                                                                                                                                                                         588 912 1907 3578 4306 4447 4993 4995 5952 6535 6942 7149 7153 7154 7169 7375 7458 8533 8869 31685 33794 40819 49272 49286 51705 58559 63992 68954 69406 71579 79091 81845 88163 91529 92259 94070 95167 95449 96079 103335 103339 104374 106696 109853 112006 113275 113394 136020 137595 140110\n",
              "2    100                                                                                                                                                                                                                                                                                                                                                                                                                                                                                     11 16 17 28 62 74 89 95 168 222 234 237 261 266 356 357 368 377 441 497 508 537 539 553 555 587 590 592 597 605 648 838 899 900 914 916 919 920 932 933 934 1028 1035 1059 1091 1101 1203 1246 1270 1277 1278 1290 1307 1380 1393 1407 1441 1500 1517 1580 1678 1680 1777 1912 1958 1968 2005 2028 2125 2245 2262 2291 2329 2396 2406 2423 2496 2502 2539 2671 3098 3244 3259 3261 3274 3512 3536 3717 3753 4041 4161 4246 4308 4621 4643 4995 5380 5620 5810 5989 6059 6183 6377 6785 6873 8529 8636\n",
              "3    101                                                                                                                                                                                                                                                                                                                                                                                                                                                                                                                                                                                                                                                                                                                                                                                          223 233 1093 1127 1210 1719 2318 2395 2396 2560 2580 2599 2600 2692 2700 2702 2706 2707 2712 2716 2762 2858 2908 2959 2997 3081 3159 3160 3174 3175 3203 3219 3285 3298 3578 3717 3751 3783 3793\n",
              "4    102                                                                                                                                                                                                                                                                                                                                                                                                                                                                                                                                                                                                                                                                                                                                                                                                                                                                                                              3 47 223 288 296 318 344 349 356 364 454 457 474 500 553 586 588 589 590 593"
            ]
          },
          "metadata": {
            "tags": []
          },
          "execution_count": 18
        }
      ]
    },
    {
      "cell_type": "code",
      "metadata": {
        "id": "70aJ6pnLl4z6"
      },
      "source": [
        "#Save the data \n",
        "kdf_group.toPandas().to_csv('/content/drive/MyDrive/Projects/MovieRecommendation/movielens_uid_movieids.csv', index=False)"
      ],
      "execution_count": null,
      "outputs": []
    },
    {
      "cell_type": "code",
      "metadata": {
        "id": "ZFB0oLrmPC1U"
      },
      "source": [
        "#Loand (userid, movieids) dataframe\n",
        "userid_movieids_df = spark.read.csv('/content/drive/MyDrive/Projects/MovieRecommendation/movielens_uid_movieids/uid_movieids.csv',header=True)\n",
        "userid_movieids_df.show(5)"
      ],
      "execution_count": null,
      "outputs": []
    },
    {
      "cell_type": "code",
      "metadata": {
        "id": "ZjcPVIA9VpFb"
      },
      "source": [
        "#word2vec input must be list of string type\n",
        "#convert series of movieId to list and split each elenm by space\n",
        "userid_movieids_df = userid_movieids_df.withColumn('movie_ids', F.split(userid_movieids_df.movieId, ' '))\n",
        "userid_movieids_df.show(5)"
      ],
      "execution_count": null,
      "outputs": []
    },
    {
      "cell_type": "code",
      "metadata": {
        "id": "JYUWPu-t5ozU"
      },
      "source": [
        "from pyspark.ml.feature import Word2Vec\n",
        "#build and train item2vec (word2vec)model\n",
        "Word2Vec = Word2Vec(\n",
        "              vectorSize=5,\n",
        "              minCount=0,\n",
        "              inputCol='movie_ids',\n",
        "              outputCol='movie_2vec')\n",
        "\n",
        "model = Word2Vec.fit(userid_movieids_df)"
      ],
      "execution_count": null,
      "outputs": []
    },
    {
      "cell_type": "code",
      "metadata": {
        "id": "kCpQMJ1HPAE8"
      },
      "source": [
        "#output each item(movieid) embedding\n",
        "#word := movieid\n",
        "movieid_2vec = model.getVectors()\n",
        "\n",
        "#rename column 'word' to 'movie_id'\n",
        "movieid_2vec=movieid_2vec.withColumnRenamed('word', 'movieId')\n",
        "movieid_2vec.show(3, truncate=False)"
      ],
      "execution_count": null,
      "outputs": []
    },
    {
      "cell_type": "code",
      "metadata": {
        "id": "CYEZ6o1KYbwL"
      },
      "source": [
        "#Save the movie embedding\n",
        "movieid_2vec.toPandas().to_csv('/content/drive/MyDrive/Projects/MovieRecommendation/movies_embedding.csv', index=False)"
      ],
      "execution_count": null,
      "outputs": []
    },
    {
      "cell_type": "code",
      "metadata": {
        "id": "VIkGJ_ZGZBLu",
        "colab": {
          "base_uri": "https://localhost:8080/"
        },
        "outputId": "0d9f470e-8419-4cb3-f776-4245360a8fff"
      },
      "source": [
        "#load movie embedding from drive\n",
        "movieid_2vec = spark.read.csv('/content/drive/MyDrive/Projects/MovieRecommendation/movies_embedding.csv', header=True)\n",
        "movieid_2vec.show(3) "
      ],
      "execution_count": null,
      "outputs": [
        {
          "output_type": "stream",
          "text": [
            "+-------+--------------------+\n",
            "|movieId|              vector|\n",
            "+-------+--------------------+\n",
            "|  26985|[-0.0056934589520...|\n",
            "|   5451|[-0.0513044968247...|\n",
            "|   4018|[-0.0867667347192...|\n",
            "+-------+--------------------+\n",
            "only showing top 3 rows\n",
            "\n"
          ],
          "name": "stdout"
        }
      ]
    },
    {
      "cell_type": "markdown",
      "metadata": {
        "id": "DcDs3gTjpSvK"
      },
      "source": [
        "####User Embedding"
      ]
    },
    {
      "cell_type": "code",
      "metadata": {
        "id": "Jd92uMmOo0zV"
      },
      "source": [
        "ratings_kdf.head()"
      ],
      "execution_count": null,
      "outputs": []
    },
    {
      "cell_type": "code",
      "metadata": {
        "id": "NzTbp9hbo6L-"
      },
      "source": [
        "#convert movieid_2vec to koalas format\n",
        "movieid_2vec = movieid_2vec.to_koalas()\n",
        "\n",
        "#joing rating dataframe with movie's embedding\n",
        "userid_2vec_kdf = ratings_kdf.set_index('movieId').join(movieid_2vec.set_index('movieId')).reset_index()\n",
        "\n",
        "#drop rating and timestamp\n",
        "userid_2vec_kdf = userid_2vec_kdf.drop(['rating', 'timestamp'], axis=1)\n",
        "userid_2vec_kdf.head(5)"
      ],
      "execution_count": null,
      "outputs": []
    },
    {
      "cell_type": "markdown",
      "metadata": {
        "id": "tr78UIEDngix"
      },
      "source": [
        "**Note: always use koalas formate to avoid formate error!!!!!**. spark dataframe formate error"
      ]
    },
    {
      "cell_type": "code",
      "metadata": {
        "id": "-g4zKe4lvM_V"
      },
      "source": [
        "#convert vector form object type to array and drop nan vector\n",
        "userid_2vec_kdf = userid_2vec_kdf.apply(lambda x: list(x)).dropna()"
      ],
      "execution_count": null,
      "outputs": []
    },
    {
      "cell_type": "code",
      "metadata": {
        "id": "_l4LEnqYrWAT"
      },
      "source": [
        "#using pandas dataframe to do numpy array operation\n",
        "userid_2vec_pdf = userid_2vec_kdf.toPandas()\n",
        "\n",
        "#preprocessing the string of movie embedding to numpy\n",
        "#remove '[' and ']' and split with ',' and putin list formate\n",
        "userid_2vec_pdf['vector'] = userid_2vec_pdf.vector.apply(lambda x: [float(m) for m in x[1:-2].split(',')])\n",
        "\n",
        "#convert list to numy array for array operation\n",
        "userid_2vec_pdf['vector'] = userid_2vec_pdf.vector.apply(lambda x: np.array(x))\n",
        "\n",
        "#drop movieId column\n",
        "userid_2vec_pdf.drop(['movieId'], axis=1, inplace=True)\n",
        "\n",
        "#group by userID and stack all movie embedding and then get mean of it.\n",
        "user_embedding = userid_2vec_pdf.groupby(['userId']).agg(mean=('vector', lambda x: np.vstack(x).mean(axis=0).tolist())).reset_index()\n",
        "\n",
        "#rename mean to user2vec\n",
        "user_embedding = user_embedding.rename(columns={'mean':'user2vec'})\n",
        "user_embedding.head(5)"
      ],
      "execution_count": null,
      "outputs": []
    },
    {
      "cell_type": "code",
      "metadata": {
        "id": "8Cf5xAjXhI5l"
      },
      "source": [
        "#Save user embedding\n",
        "user_embedding.to_csv('/content/drive/MyDrive/Projects/MovieRecommendation/user_embedding.csv', index=False)"
      ],
      "execution_count": null,
      "outputs": []
    },
    {
      "cell_type": "markdown",
      "metadata": {
        "id": "u8zKxM1vUvLC"
      },
      "source": [
        "Note: the optimal model would be regParam=0.3, rank=10, MaxIter=13 with 0.8714 rmse. "
      ]
    },
    {
      "cell_type": "markdown",
      "metadata": {
        "id": "mQ0sXiDl-J_P"
      },
      "source": [
        "##Part3_3: User Embedding With Tag and Most Popular Item in Each Genre"
      ]
    },
    {
      "cell_type": "markdown",
      "metadata": {
        "id": "1TWR7kOh-iDg"
      },
      "source": [
        "**Step1:** Build a user tag embedding. ( {userid1: {genre1:score, genre2:score}} ->nomalize each gen score)\n",
        "\n",
        "\n",
        "**Step2:** Build a dictionary store most popular item in each genre. ( {genre1:{movieid1:score, movieid2:score}} )"
      ]
    },
    {
      "cell_type": "markdown",
      "metadata": {
        "id": "g7Ln7AeJEvBM"
      },
      "source": [
        "###Part3_3_1:User's Tag Embedding"
      ]
    },
    {
      "cell_type": "code",
      "metadata": {
        "colab": {
          "base_uri": "https://localhost:8080/",
          "height": 198
        },
        "id": "15-27J5dFNa1",
        "outputId": "2960e4b1-1a5c-4477-855c-df22f7a44651"
      },
      "source": [
        "#merge rating and movie dataframe\n",
        "merge_kdf = ratings_kdf.merge(movies_kdf, left_on='movieId', right_on='movieId').drop('timestamp', axis=1)\n",
        "\n",
        "#drop all Nan rows\n",
        "clean_merge_kdf = merge_kdf.dropna()\n",
        "clean_merge_kdf.head()"
      ],
      "execution_count": null,
      "outputs": [
        {
          "output_type": "execute_result",
          "data": {
            "text/html": [
              "<div>\n",
              "<style scoped>\n",
              "    .dataframe tbody tr th:only-of-type {\n",
              "        vertical-align: middle;\n",
              "    }\n",
              "\n",
              "    .dataframe tbody tr th {\n",
              "        vertical-align: top;\n",
              "    }\n",
              "\n",
              "    .dataframe thead th {\n",
              "        text-align: right;\n",
              "    }\n",
              "</style>\n",
              "<table border=\"1\" class=\"dataframe\">\n",
              "  <thead>\n",
              "    <tr style=\"text-align: right;\">\n",
              "      <th></th>\n",
              "      <th>userId</th>\n",
              "      <th>movieId</th>\n",
              "      <th>rating</th>\n",
              "      <th>title</th>\n",
              "      <th>genres</th>\n",
              "    </tr>\n",
              "  </thead>\n",
              "  <tbody>\n",
              "    <tr>\n",
              "      <th>0</th>\n",
              "      <td>1</td>\n",
              "      <td>1</td>\n",
              "      <td>4.0</td>\n",
              "      <td>Toy Story (1995)</td>\n",
              "      <td>Adventure|Animation|Children|Comedy|Fantasy</td>\n",
              "    </tr>\n",
              "    <tr>\n",
              "      <th>1</th>\n",
              "      <td>1</td>\n",
              "      <td>3</td>\n",
              "      <td>4.0</td>\n",
              "      <td>Grumpier Old Men (1995)</td>\n",
              "      <td>Comedy|Romance</td>\n",
              "    </tr>\n",
              "    <tr>\n",
              "      <th>2</th>\n",
              "      <td>1</td>\n",
              "      <td>6</td>\n",
              "      <td>4.0</td>\n",
              "      <td>Heat (1995)</td>\n",
              "      <td>Action|Crime|Thriller</td>\n",
              "    </tr>\n",
              "    <tr>\n",
              "      <th>3</th>\n",
              "      <td>1</td>\n",
              "      <td>47</td>\n",
              "      <td>5.0</td>\n",
              "      <td>Seven (a.k.a. Se7en) (1995)</td>\n",
              "      <td>Mystery|Thriller</td>\n",
              "    </tr>\n",
              "    <tr>\n",
              "      <th>4</th>\n",
              "      <td>1</td>\n",
              "      <td>50</td>\n",
              "      <td>5.0</td>\n",
              "      <td>Usual Suspects, The (1995)</td>\n",
              "      <td>Crime|Mystery|Thriller</td>\n",
              "    </tr>\n",
              "  </tbody>\n",
              "</table>\n",
              "</div>"
            ],
            "text/plain": [
              "   userId  movieId  rating                        title                                       genres\n",
              "0       1        1     4.0             Toy Story (1995)  Adventure|Animation|Children|Comedy|Fantasy\n",
              "1       1        3     4.0      Grumpier Old Men (1995)                               Comedy|Romance\n",
              "2       1        6     4.0                  Heat (1995)                        Action|Crime|Thriller\n",
              "3       1       47     5.0  Seven (a.k.a. Se7en) (1995)                             Mystery|Thriller\n",
              "4       1       50     5.0   Usual Suspects, The (1995)                       Crime|Mystery|Thriller"
            ]
          },
          "metadata": {
            "tags": []
          },
          "execution_count": 9
        }
      ]
    },
    {
      "cell_type": "code",
      "metadata": {
        "id": "NsjUwAbpGn53"
      },
      "source": [
        "from collections import defaultdict\n",
        "#create dictionary to calculate tag score for each user\n",
        "user_genres = defaultdict(int)\n",
        "\n",
        "#linear scan each row of rating and accumulate the genres score for each user\n",
        "for index, row in clean_merge_kdf.iterrows():\n",
        "  user_id = row['userId']\n",
        "  for genre in row['genres'].split('|'):\n",
        "    if user_id not in user_genres.keys():\n",
        "      user_genres[user_id]=defaultdict(int)\n",
        "    user_genres[user_id][genre] += row['rating']"
      ],
      "execution_count": null,
      "outputs": []
    },
    {
      "cell_type": "code",
      "metadata": {
        "colab": {
          "base_uri": "https://localhost:8080/",
          "height": 445
        },
        "id": "DtDNo72WYJ_t",
        "outputId": "6e3f4aab-c035-461f-d2aa-c2993764f492"
      },
      "source": [
        "#Normalize each user tag's score\n",
        "\n",
        "#Convert dictionary to dataframe\n",
        "user_genres_pd = pd.DataFrame.from_dict(user_genres).transpose()\n",
        "\n",
        "#Drop no genres listed and fill Nan with 0\n",
        "clean_user_genres_pd = user_genres_pd.drop(columns=['(no genres listed)'])\n",
        "clean_user_genres_pd = clean_user_genres_pd.fillna(0)\n",
        "\n",
        "#Apply min-max normalization for each user's tag score\n",
        "norm_user_genres_pd=clean_user_genres_pd.apply(lambda x: round((x - np.min(x)) / (np.max(x) - np.min(x)), 3), axis=1)\n",
        "norm_user_genres_pd = norm_user_genres_pd.reset_index().rename(columns={'index':'userId'})\n",
        "norm_user_genres_pd"
      ],
      "execution_count": null,
      "outputs": [
        {
          "output_type": "execute_result",
          "data": {
            "text/html": [
              "<div>\n",
              "<style scoped>\n",
              "    .dataframe tbody tr th:only-of-type {\n",
              "        vertical-align: middle;\n",
              "    }\n",
              "\n",
              "    .dataframe tbody tr th {\n",
              "        vertical-align: top;\n",
              "    }\n",
              "\n",
              "    .dataframe thead th {\n",
              "        text-align: right;\n",
              "    }\n",
              "</style>\n",
              "<table border=\"1\" class=\"dataframe\">\n",
              "  <thead>\n",
              "    <tr style=\"text-align: right;\">\n",
              "      <th></th>\n",
              "      <th>userId</th>\n",
              "      <th>Adventure</th>\n",
              "      <th>Animation</th>\n",
              "      <th>Children</th>\n",
              "      <th>Comedy</th>\n",
              "      <th>Fantasy</th>\n",
              "      <th>Romance</th>\n",
              "      <th>Action</th>\n",
              "      <th>Crime</th>\n",
              "      <th>Thriller</th>\n",
              "      <th>Mystery</th>\n",
              "      <th>Horror</th>\n",
              "      <th>Drama</th>\n",
              "      <th>War</th>\n",
              "      <th>Western</th>\n",
              "      <th>Sci-Fi</th>\n",
              "      <th>Musical</th>\n",
              "      <th>Film-Noir</th>\n",
              "      <th>IMAX</th>\n",
              "      <th>Documentary</th>\n",
              "    </tr>\n",
              "  </thead>\n",
              "  <tbody>\n",
              "    <tr>\n",
              "      <th>0</th>\n",
              "      <td>1</td>\n",
              "      <td>0.959</td>\n",
              "      <td>0.350</td>\n",
              "      <td>0.491</td>\n",
              "      <td>0.913</td>\n",
              "      <td>0.519</td>\n",
              "      <td>0.288</td>\n",
              "      <td>1.000</td>\n",
              "      <td>0.504</td>\n",
              "      <td>0.586</td>\n",
              "      <td>0.193</td>\n",
              "      <td>0.152</td>\n",
              "      <td>0.792</td>\n",
              "      <td>0.254</td>\n",
              "      <td>0.077</td>\n",
              "      <td>0.434</td>\n",
              "      <td>0.265</td>\n",
              "      <td>0.013</td>\n",
              "      <td>0.000</td>\n",
              "      <td>0.000</td>\n",
              "    </tr>\n",
              "    <tr>\n",
              "      <th>1</th>\n",
              "      <td>2</td>\n",
              "      <td>0.189</td>\n",
              "      <td>0.000</td>\n",
              "      <td>0.000</td>\n",
              "      <td>0.424</td>\n",
              "      <td>0.000</td>\n",
              "      <td>0.068</td>\n",
              "      <td>0.659</td>\n",
              "      <td>0.576</td>\n",
              "      <td>0.561</td>\n",
              "      <td>0.121</td>\n",
              "      <td>0.045</td>\n",
              "      <td>1.000</td>\n",
              "      <td>0.068</td>\n",
              "      <td>0.053</td>\n",
              "      <td>0.235</td>\n",
              "      <td>0.000</td>\n",
              "      <td>0.000</td>\n",
              "      <td>0.227</td>\n",
              "      <td>0.197</td>\n",
              "    </tr>\n",
              "    <tr>\n",
              "      <th>2</th>\n",
              "      <td>3</td>\n",
              "      <td>0.476</td>\n",
              "      <td>0.032</td>\n",
              "      <td>0.040</td>\n",
              "      <td>0.143</td>\n",
              "      <td>0.214</td>\n",
              "      <td>0.040</td>\n",
              "      <td>0.794</td>\n",
              "      <td>0.016</td>\n",
              "      <td>0.460</td>\n",
              "      <td>0.079</td>\n",
              "      <td>0.595</td>\n",
              "      <td>0.190</td>\n",
              "      <td>0.040</td>\n",
              "      <td>0.000</td>\n",
              "      <td>1.000</td>\n",
              "      <td>0.008</td>\n",
              "      <td>0.000</td>\n",
              "      <td>0.000</td>\n",
              "      <td>0.000</td>\n",
              "    </tr>\n",
              "    <tr>\n",
              "      <th>3</th>\n",
              "      <td>4</td>\n",
              "      <td>0.248</td>\n",
              "      <td>0.051</td>\n",
              "      <td>0.084</td>\n",
              "      <td>0.872</td>\n",
              "      <td>0.161</td>\n",
              "      <td>0.465</td>\n",
              "      <td>0.193</td>\n",
              "      <td>0.241</td>\n",
              "      <td>0.318</td>\n",
              "      <td>0.186</td>\n",
              "      <td>0.034</td>\n",
              "      <td>1.000</td>\n",
              "      <td>0.053</td>\n",
              "      <td>0.084</td>\n",
              "      <td>0.075</td>\n",
              "      <td>0.147</td>\n",
              "      <td>0.031</td>\n",
              "      <td>0.000</td>\n",
              "      <td>0.012</td>\n",
              "    </tr>\n",
              "    <tr>\n",
              "      <th>4</th>\n",
              "      <td>5</td>\n",
              "      <td>0.274</td>\n",
              "      <td>0.274</td>\n",
              "      <td>0.389</td>\n",
              "      <td>0.547</td>\n",
              "      <td>0.305</td>\n",
              "      <td>0.358</td>\n",
              "      <td>0.295</td>\n",
              "      <td>0.484</td>\n",
              "      <td>0.337</td>\n",
              "      <td>0.042</td>\n",
              "      <td>0.032</td>\n",
              "      <td>1.000</td>\n",
              "      <td>0.105</td>\n",
              "      <td>0.063</td>\n",
              "      <td>0.053</td>\n",
              "      <td>0.232</td>\n",
              "      <td>0.000</td>\n",
              "      <td>0.116</td>\n",
              "      <td>0.000</td>\n",
              "    </tr>\n",
              "    <tr>\n",
              "      <th>...</th>\n",
              "      <td>...</td>\n",
              "      <td>...</td>\n",
              "      <td>...</td>\n",
              "      <td>...</td>\n",
              "      <td>...</td>\n",
              "      <td>...</td>\n",
              "      <td>...</td>\n",
              "      <td>...</td>\n",
              "      <td>...</td>\n",
              "      <td>...</td>\n",
              "      <td>...</td>\n",
              "      <td>...</td>\n",
              "      <td>...</td>\n",
              "      <td>...</td>\n",
              "      <td>...</td>\n",
              "      <td>...</td>\n",
              "      <td>...</td>\n",
              "      <td>...</td>\n",
              "      <td>...</td>\n",
              "      <td>...</td>\n",
              "    </tr>\n",
              "    <tr>\n",
              "      <th>605</th>\n",
              "      <td>606</td>\n",
              "      <td>0.189</td>\n",
              "      <td>0.052</td>\n",
              "      <td>0.057</td>\n",
              "      <td>0.565</td>\n",
              "      <td>0.126</td>\n",
              "      <td>0.499</td>\n",
              "      <td>0.176</td>\n",
              "      <td>0.178</td>\n",
              "      <td>0.260</td>\n",
              "      <td>0.124</td>\n",
              "      <td>0.059</td>\n",
              "      <td>1.000</td>\n",
              "      <td>0.087</td>\n",
              "      <td>0.015</td>\n",
              "      <td>0.100</td>\n",
              "      <td>0.055</td>\n",
              "      <td>0.004</td>\n",
              "      <td>0.011</td>\n",
              "      <td>0.000</td>\n",
              "    </tr>\n",
              "    <tr>\n",
              "      <th>606</th>\n",
              "      <td>607</td>\n",
              "      <td>0.474</td>\n",
              "      <td>0.061</td>\n",
              "      <td>0.198</td>\n",
              "      <td>0.556</td>\n",
              "      <td>0.228</td>\n",
              "      <td>0.310</td>\n",
              "      <td>0.815</td>\n",
              "      <td>0.313</td>\n",
              "      <td>0.763</td>\n",
              "      <td>0.240</td>\n",
              "      <td>0.438</td>\n",
              "      <td>1.000</td>\n",
              "      <td>0.076</td>\n",
              "      <td>0.024</td>\n",
              "      <td>0.356</td>\n",
              "      <td>0.055</td>\n",
              "      <td>0.000</td>\n",
              "      <td>0.015</td>\n",
              "      <td>0.000</td>\n",
              "    </tr>\n",
              "    <tr>\n",
              "      <th>607</th>\n",
              "      <td>608</td>\n",
              "      <td>0.594</td>\n",
              "      <td>0.164</td>\n",
              "      <td>0.211</td>\n",
              "      <td>1.000</td>\n",
              "      <td>0.332</td>\n",
              "      <td>0.304</td>\n",
              "      <td>0.949</td>\n",
              "      <td>0.536</td>\n",
              "      <td>0.942</td>\n",
              "      <td>0.240</td>\n",
              "      <td>0.321</td>\n",
              "      <td>0.991</td>\n",
              "      <td>0.055</td>\n",
              "      <td>0.015</td>\n",
              "      <td>0.560</td>\n",
              "      <td>0.079</td>\n",
              "      <td>0.000</td>\n",
              "      <td>0.035</td>\n",
              "      <td>0.003</td>\n",
              "    </tr>\n",
              "    <tr>\n",
              "      <th>608</th>\n",
              "      <td>609</td>\n",
              "      <td>0.500</td>\n",
              "      <td>0.047</td>\n",
              "      <td>0.094</td>\n",
              "      <td>0.359</td>\n",
              "      <td>0.047</td>\n",
              "      <td>0.250</td>\n",
              "      <td>0.531</td>\n",
              "      <td>0.328</td>\n",
              "      <td>0.719</td>\n",
              "      <td>0.000</td>\n",
              "      <td>0.109</td>\n",
              "      <td>1.000</td>\n",
              "      <td>0.219</td>\n",
              "      <td>0.062</td>\n",
              "      <td>0.234</td>\n",
              "      <td>0.000</td>\n",
              "      <td>0.000</td>\n",
              "      <td>0.047</td>\n",
              "      <td>0.094</td>\n",
              "    </tr>\n",
              "    <tr>\n",
              "      <th>609</th>\n",
              "      <td>610</td>\n",
              "      <td>0.526</td>\n",
              "      <td>0.128</td>\n",
              "      <td>0.100</td>\n",
              "      <td>0.822</td>\n",
              "      <td>0.283</td>\n",
              "      <td>0.230</td>\n",
              "      <td>1.000</td>\n",
              "      <td>0.552</td>\n",
              "      <td>0.979</td>\n",
              "      <td>0.234</td>\n",
              "      <td>0.566</td>\n",
              "      <td>0.997</td>\n",
              "      <td>0.085</td>\n",
              "      <td>0.056</td>\n",
              "      <td>0.488</td>\n",
              "      <td>0.018</td>\n",
              "      <td>0.012</td>\n",
              "      <td>0.150</td>\n",
              "      <td>0.000</td>\n",
              "    </tr>\n",
              "  </tbody>\n",
              "</table>\n",
              "<p>610 rows × 20 columns</p>\n",
              "</div>"
            ],
            "text/plain": [
              "     userId  Adventure  Animation  ...  Film-Noir   IMAX  Documentary\n",
              "0         1      0.959      0.350  ...      0.013  0.000        0.000\n",
              "1         2      0.189      0.000  ...      0.000  0.227        0.197\n",
              "2         3      0.476      0.032  ...      0.000  0.000        0.000\n",
              "3         4      0.248      0.051  ...      0.031  0.000        0.012\n",
              "4         5      0.274      0.274  ...      0.000  0.116        0.000\n",
              "..      ...        ...        ...  ...        ...    ...          ...\n",
              "605     606      0.189      0.052  ...      0.004  0.011        0.000\n",
              "606     607      0.474      0.061  ...      0.000  0.015        0.000\n",
              "607     608      0.594      0.164  ...      0.000  0.035        0.003\n",
              "608     609      0.500      0.047  ...      0.000  0.047        0.094\n",
              "609     610      0.526      0.128  ...      0.012  0.150        0.000\n",
              "\n",
              "[610 rows x 20 columns]"
            ]
          },
          "metadata": {
            "tags": []
          },
          "execution_count": 46
        }
      ]
    },
    {
      "cell_type": "code",
      "metadata": {
        "id": "7zT05c8YrdUa"
      },
      "source": [
        "#save user embedding dataframe\n",
        "norm_user_genres_pd.to_csv('/content/drive/MyDrive/Projects/MovieRecommendation/Tag_norm_user_gernes.csv', index=False)"
      ],
      "execution_count": null,
      "outputs": []
    },
    {
      "cell_type": "code",
      "metadata": {
        "colab": {
          "base_uri": "https://localhost:8080/",
          "height": 407
        },
        "id": "lM4F6rYyKPUD",
        "outputId": "7db4e777-82ae-4e86-9490-d780c302a55d"
      },
      "source": [
        "#merge all columns into one list\n",
        "norm_user_genres_pd['u2tag'] = norm_user_genres_pd[norm_user_genres_pd.columns[1:]].apply(lambda x: ','.join(x.astype(str)), axis=1)\n",
        "\n",
        "#Select only userId and u2tag columns\n",
        "u2tag = norm_user_genres_pd[['userId','u2tag']]\n",
        "u2tag"
      ],
      "execution_count": null,
      "outputs": [
        {
          "output_type": "execute_result",
          "data": {
            "text/html": [
              "<div>\n",
              "<style scoped>\n",
              "    .dataframe tbody tr th:only-of-type {\n",
              "        vertical-align: middle;\n",
              "    }\n",
              "\n",
              "    .dataframe tbody tr th {\n",
              "        vertical-align: top;\n",
              "    }\n",
              "\n",
              "    .dataframe thead th {\n",
              "        text-align: right;\n",
              "    }\n",
              "</style>\n",
              "<table border=\"1\" class=\"dataframe\">\n",
              "  <thead>\n",
              "    <tr style=\"text-align: right;\">\n",
              "      <th></th>\n",
              "      <th>userId</th>\n",
              "      <th>u2tag</th>\n",
              "    </tr>\n",
              "  </thead>\n",
              "  <tbody>\n",
              "    <tr>\n",
              "      <th>0</th>\n",
              "      <td>1</td>\n",
              "      <td>0.959,0.35,0.491,0.913,0.519,0.288,1.0,0.504,0...</td>\n",
              "    </tr>\n",
              "    <tr>\n",
              "      <th>1</th>\n",
              "      <td>2</td>\n",
              "      <td>0.189,0.0,0.0,0.424,0.0,0.068,0.659,0.576,0.56...</td>\n",
              "    </tr>\n",
              "    <tr>\n",
              "      <th>2</th>\n",
              "      <td>3</td>\n",
              "      <td>0.476,0.032,0.04,0.143,0.214,0.04,0.794,0.016,...</td>\n",
              "    </tr>\n",
              "    <tr>\n",
              "      <th>3</th>\n",
              "      <td>4</td>\n",
              "      <td>0.248,0.051,0.084,0.872,0.161,0.465,0.193,0.24...</td>\n",
              "    </tr>\n",
              "    <tr>\n",
              "      <th>4</th>\n",
              "      <td>5</td>\n",
              "      <td>0.274,0.274,0.389,0.547,0.305,0.358,0.295,0.48...</td>\n",
              "    </tr>\n",
              "    <tr>\n",
              "      <th>...</th>\n",
              "      <td>...</td>\n",
              "      <td>...</td>\n",
              "    </tr>\n",
              "    <tr>\n",
              "      <th>605</th>\n",
              "      <td>606</td>\n",
              "      <td>0.189,0.052,0.057,0.565,0.126,0.499,0.176,0.17...</td>\n",
              "    </tr>\n",
              "    <tr>\n",
              "      <th>606</th>\n",
              "      <td>607</td>\n",
              "      <td>0.474,0.061,0.198,0.556,0.228,0.31,0.815,0.313...</td>\n",
              "    </tr>\n",
              "    <tr>\n",
              "      <th>607</th>\n",
              "      <td>608</td>\n",
              "      <td>0.594,0.164,0.211,1.0,0.332,0.304,0.949,0.536,...</td>\n",
              "    </tr>\n",
              "    <tr>\n",
              "      <th>608</th>\n",
              "      <td>609</td>\n",
              "      <td>0.5,0.047,0.094,0.359,0.047,0.25,0.531,0.328,0...</td>\n",
              "    </tr>\n",
              "    <tr>\n",
              "      <th>609</th>\n",
              "      <td>610</td>\n",
              "      <td>0.526,0.128,0.1,0.822,0.283,0.23,1.0,0.552,0.9...</td>\n",
              "    </tr>\n",
              "  </tbody>\n",
              "</table>\n",
              "<p>610 rows × 2 columns</p>\n",
              "</div>"
            ],
            "text/plain": [
              "     userId                                              u2tag\n",
              "0         1  0.959,0.35,0.491,0.913,0.519,0.288,1.0,0.504,0...\n",
              "1         2  0.189,0.0,0.0,0.424,0.0,0.068,0.659,0.576,0.56...\n",
              "2         3  0.476,0.032,0.04,0.143,0.214,0.04,0.794,0.016,...\n",
              "3         4  0.248,0.051,0.084,0.872,0.161,0.465,0.193,0.24...\n",
              "4         5  0.274,0.274,0.389,0.547,0.305,0.358,0.295,0.48...\n",
              "..      ...                                                ...\n",
              "605     606  0.189,0.052,0.057,0.565,0.126,0.499,0.176,0.17...\n",
              "606     607  0.474,0.061,0.198,0.556,0.228,0.31,0.815,0.313...\n",
              "607     608  0.594,0.164,0.211,1.0,0.332,0.304,0.949,0.536,...\n",
              "608     609  0.5,0.047,0.094,0.359,0.047,0.25,0.531,0.328,0...\n",
              "609     610  0.526,0.128,0.1,0.822,0.283,0.23,1.0,0.552,0.9...\n",
              "\n",
              "[610 rows x 2 columns]"
            ]
          },
          "metadata": {
            "tags": []
          },
          "execution_count": 48
        }
      ]
    },
    {
      "cell_type": "code",
      "metadata": {
        "id": "xjVY4pVUbceu"
      },
      "source": [
        "#Save u2tag embedding\n",
        "u2tag.to_csv('/content/drive/MyDrive/Projects/MovieRecommendation/Tag_u2tag.csv', index=False)"
      ],
      "execution_count": null,
      "outputs": []
    },
    {
      "cell_type": "code",
      "metadata": {
        "id": "Ll342nPYbnvq"
      },
      "source": [
        "#Load u2tag data\n",
        "u2tag_df = spark.read.csv('/content/drive/MyDrive/Projects/MovieRecommendation/Tag_u2tag.csv', header=True)"
      ],
      "execution_count": null,
      "outputs": []
    },
    {
      "cell_type": "code",
      "metadata": {
        "id": "n1E_7IO1OHyw",
        "colab": {
          "base_uri": "https://localhost:8080/"
        },
        "outputId": "912690b6-1554-4af3-a8c6-6de91a12a51e"
      },
      "source": [
        "from pyspark.sql import functions as F\n",
        "from pyspark.sql import types as T\n",
        "\n",
        "#Convert u2tag into array by F.split()\n",
        "u2tag_df = u2tag_df.withColumn('u2tag_vector', F.split(u2tag_df.u2tag, ','))\n",
        "\n",
        "#Drop the original u2tag column\n",
        "u2tag_df = u2tag_df.drop('u2tag')\n",
        "u2tag_df.show(truncate=False)"
      ],
      "execution_count": null,
      "outputs": [
        {
          "output_type": "stream",
          "text": [
            "+------+---------------------------------------------------------------------------------------------------------------------------------+\n",
            "|userId|u2tag_vector                                                                                                                     |\n",
            "+------+---------------------------------------------------------------------------------------------------------------------------------+\n",
            "|1     |[0.959, 0.35, 0.491, 0.913, 0.519, 0.288, 1.0, 0.504, 0.586, 0.193, 0.152, 0.792, 0.254, 0.077, 0.434, 0.265, 0.013, 0.0, 0.0]   |\n",
            "|2     |[0.189, 0.0, 0.0, 0.424, 0.0, 0.068, 0.659, 0.576, 0.561, 0.121, 0.045, 1.0, 0.068, 0.053, 0.235, 0.0, 0.0, 0.227, 0.197]        |\n",
            "|3     |[0.476, 0.032, 0.04, 0.143, 0.214, 0.04, 0.794, 0.016, 0.46, 0.079, 0.595, 0.19, 0.04, 0.0, 1.0, 0.008, 0.0, 0.0, 0.0]           |\n",
            "|4     |[0.248, 0.051, 0.084, 0.872, 0.161, 0.465, 0.193, 0.241, 0.318, 0.186, 0.034, 1.0, 0.053, 0.084, 0.075, 0.147, 0.031, 0.0, 0.012]|\n",
            "|5     |[0.274, 0.274, 0.389, 0.547, 0.305, 0.358, 0.295, 0.484, 0.337, 0.042, 0.032, 1.0, 0.105, 0.063, 0.053, 0.232, 0.0, 0.116, 0.0]  |\n",
            "|6     |[0.362, 0.113, 0.336, 0.846, 0.182, 0.5, 0.457, 0.227, 0.476, 0.111, 0.123, 1.0, 0.085, 0.083, 0.144, 0.099, 0.01, 0.028, 0.0]   |\n",
            "|7     |[0.859, 0.228, 0.23, 0.743, 0.338, 0.381, 1.0, 0.412, 0.707, 0.213, 0.096, 0.856, 0.189, 0.007, 0.635, 0.158, 0.031, 0.129, 0.0] |\n",
            "|8     |[0.506, 0.065, 0.221, 1.0, 0.169, 0.636, 0.519, 0.455, 0.779, 0.156, 0.117, 0.935, 0.143, 0.078, 0.169, 0.065, 0.0, 0.117, 0.0]  |\n",
            "|9     |[0.528, 0.056, 0.056, 0.764, 0.139, 0.264, 0.347, 0.306, 0.389, 0.167, 0.125, 1.0, 0.097, 0.056, 0.333, 0.042, 0.056, 0.042, 0.0]|\n",
            "|10    |[0.427, 0.223, 0.194, 0.992, 0.225, 1.0, 0.35, 0.156, 0.154, 0.025, 0.013, 0.873, 0.058, 0.0, 0.038, 0.115, 0.0, 0.233, 0.0]     |\n",
            "|11    |[0.393, 0.0, 0.0, 0.252, 0.012, 0.337, 1.0, 0.294, 0.718, 0.08, 0.031, 0.613, 0.16, 0.049, 0.215, 0.0, 0.0, 0.031, 0.0]          |\n",
            "|12    |[0.062, 0.031, 0.0, 0.807, 0.177, 1.0, 0.083, 0.031, 0.125, 0.0, 0.0, 0.76, 0.047, 0.0, 0.141, 0.0, 0.0, 0.0, 0.0]               |\n",
            "|13    |[0.446, 0.0, 0.0, 0.643, 0.054, 0.393, 0.75, 0.196, 0.75, 0.161, 0.357, 1.0, 0.125, 0.071, 0.375, 0.0, 0.0, 0.0, 0.0]            |\n",
            "|14    |[0.348, 0.0, 0.067, 0.517, 0.011, 0.562, 0.449, 0.213, 0.506, 0.101, 0.045, 1.0, 0.191, 0.191, 0.079, 0.045, 0.0, 0.045, 0.0]    |\n",
            "|15    |[0.901, 0.307, 0.267, 0.444, 0.22, 0.239, 0.894, 0.322, 0.714, 0.194, 0.199, 0.955, 0.097, 0.024, 1.0, 0.064, 0.0, 0.281, 0.0]   |\n",
            "|16    |[0.422, 0.265, 0.179, 0.522, 0.352, 0.265, 0.492, 0.503, 0.615, 0.274, 0.098, 1.0, 0.226, 0.017, 0.33, 0.0, 0.112, 0.092, 0.022] |\n",
            "|17    |[0.698, 0.193, 0.124, 0.36, 0.333, 0.114, 0.769, 0.631, 0.533, 0.176, 0.043, 1.0, 0.174, 0.105, 0.402, 0.04, 0.019, 0.102, 0.0]  |\n",
            "|18    |[0.593, 0.105, 0.114, 0.597, 0.194, 0.16, 0.879, 0.626, 0.746, 0.238, 0.023, 1.0, 0.039, 0.018, 0.452, 0.017, 0.0, 0.128, 0.006] |\n",
            "|19    |[0.443, 0.141, 0.276, 1.0, 0.273, 0.36, 0.41, 0.209, 0.518, 0.172, 0.255, 0.395, 0.027, 0.028, 0.326, 0.105, 0.03, 0.003, 0.0]   |\n",
            "|20    |[0.681, 0.625, 1.0, 0.888, 0.425, 0.365, 0.296, 0.184, 0.23, 0.116, 0.083, 0.622, 0.029, 0.003, 0.161, 0.565, 0.0, 0.05, 0.014]  |\n",
            "+------+---------------------------------------------------------------------------------------------------------------------------------+\n",
            "only showing top 20 rows\n",
            "\n"
          ],
          "name": "stdout"
        }
      ]
    },
    {
      "cell_type": "markdown",
      "metadata": {
        "id": "KbZnJUukcRI5"
      },
      "source": [
        "###Part3_3_2: Movie To Tag: Calculate Popuparity Of Movies In Each Genre "
      ]
    },
    {
      "cell_type": "markdown",
      "metadata": {
        "id": "GVVg3V1Ld5sh"
      },
      "source": [
        "Build a dictionary like {genre: [movie, score]} where the score of movie in each genre is accumulated by ratings from users."
      ]
    },
    {
      "cell_type": "code",
      "metadata": {
        "id": "T3MIeoJvLl7a"
      },
      "source": [
        "from collections import defaultdict\n",
        "# Build a dictionary like {genre: [movie, score]}\n",
        "\n",
        "#Create an empty dictionary\n",
        "genre_hots = defaultdict(dict)\n",
        "\n",
        "#linear scan each rating and accumulate the rating to each genre\n",
        "for index, row in merge_kdf.iterrows():\n",
        "    movie_id = row[\"movieId\"]\n",
        "    for genre in row[\"genres\"].split(\"|\"):\n",
        "      if movie_id not in genre_hots[genre]:\n",
        "        genre_hots[genre][movie_id] = 0.0\n",
        "      genre_hots[genre][movie_id] += row[\"rating\"]"
      ],
      "execution_count": null,
      "outputs": []
    },
    {
      "cell_type": "code",
      "metadata": {
        "id": "eoBjZ8oKereL"
      },
      "source": [
        "#Nomalization\n",
        "for genre in genre_hots:\n",
        "  min_val = min(list(genre_hots[genre].values()))\n",
        "  max_val = max(list(genre_hots[genre].values()))\n",
        "  for movie_id, score in genre_hots[genre].items():\n",
        "    genre_hots[genre][movie_id] = round((score-min_val) / (max_val-min_val), 3)"
      ],
      "execution_count": null,
      "outputs": []
    },
    {
      "cell_type": "code",
      "metadata": {
        "colab": {
          "base_uri": "https://localhost:8080/"
        },
        "id": "NJ2cR9nfL0Jk",
        "outputId": "f7c9470c-84e5-465b-d59e-1c98edcda653"
      },
      "source": [
        "#Show the movie score in the tag of Adventure \n",
        "sorted(genre_hots[\"Mystery\"].items(), key=lambda x: x[1], reverse=True)[:10]"
      ],
      "execution_count": null,
      "outputs": [
        {
          "output_type": "execute_result",
          "data": {
            "text/plain": [
              "[(50, 1.0),\n",
              " (47, 0.933),\n",
              " (32, 0.815),\n",
              " (2762, 0.806),\n",
              " (4226, 0.758),\n",
              " (79132, 0.672),\n",
              " (648, 0.663),\n",
              " (1089, 0.637),\n",
              " (5445, 0.505),\n",
              " (4878, 0.502)]"
            ]
          },
          "metadata": {
            "tags": []
          },
          "execution_count": 43
        }
      ]
    },
    {
      "cell_type": "code",
      "metadata": {
        "colab": {
          "base_uri": "https://localhost:8080/",
          "height": 253
        },
        "id": "bW-vtdCWghrs",
        "outputId": "162e93f6-b589-4c52-b955-962ccda648cf"
      },
      "source": [
        "#Convert dictionary to movies\n",
        "genre_hots_df = pd.DataFrame.from_dict(genre_hots).fillna(0).reset_index().rename(columns={'index':'movieId'})\n",
        "genre_hots_df.head()"
      ],
      "execution_count": null,
      "outputs": [
        {
          "output_type": "execute_result",
          "data": {
            "text/html": [
              "<div>\n",
              "<style scoped>\n",
              "    .dataframe tbody tr th:only-of-type {\n",
              "        vertical-align: middle;\n",
              "    }\n",
              "\n",
              "    .dataframe tbody tr th {\n",
              "        vertical-align: top;\n",
              "    }\n",
              "\n",
              "    .dataframe thead th {\n",
              "        text-align: right;\n",
              "    }\n",
              "</style>\n",
              "<table border=\"1\" class=\"dataframe\">\n",
              "  <thead>\n",
              "    <tr style=\"text-align: right;\">\n",
              "      <th></th>\n",
              "      <th>movieId</th>\n",
              "      <th>Adventure</th>\n",
              "      <th>Animation</th>\n",
              "      <th>Children</th>\n",
              "      <th>Comedy</th>\n",
              "      <th>Fantasy</th>\n",
              "      <th>Romance</th>\n",
              "      <th>Action</th>\n",
              "      <th>Crime</th>\n",
              "      <th>Thriller</th>\n",
              "      <th>Mystery</th>\n",
              "      <th>Horror</th>\n",
              "      <th>Drama</th>\n",
              "      <th>War</th>\n",
              "      <th>Western</th>\n",
              "      <th>Sci-Fi</th>\n",
              "      <th>Musical</th>\n",
              "      <th>Film-Noir</th>\n",
              "      <th>IMAX</th>\n",
              "      <th>Documentary</th>\n",
              "      <th>(no genres listed)</th>\n",
              "    </tr>\n",
              "  </thead>\n",
              "  <tbody>\n",
              "    <tr>\n",
              "      <th>0</th>\n",
              "      <td>1</td>\n",
              "      <td>0.794</td>\n",
              "      <td>1.0</td>\n",
              "      <td>1.0</td>\n",
              "      <td>0.615</td>\n",
              "      <td>1.0</td>\n",
              "      <td>0.000</td>\n",
              "      <td>0.000</td>\n",
              "      <td>0.000</td>\n",
              "      <td>0.0</td>\n",
              "      <td>0.0</td>\n",
              "      <td>0.0</td>\n",
              "      <td>0.0</td>\n",
              "      <td>0.0</td>\n",
              "      <td>0.0</td>\n",
              "      <td>0.000</td>\n",
              "      <td>0.0</td>\n",
              "      <td>0.0</td>\n",
              "      <td>0.0</td>\n",
              "      <td>0.0</td>\n",
              "      <td>0.0</td>\n",
              "    </tr>\n",
              "    <tr>\n",
              "      <th>1</th>\n",
              "      <td>101</td>\n",
              "      <td>0.081</td>\n",
              "      <td>0.0</td>\n",
              "      <td>0.0</td>\n",
              "      <td>0.063</td>\n",
              "      <td>0.0</td>\n",
              "      <td>0.063</td>\n",
              "      <td>0.000</td>\n",
              "      <td>0.062</td>\n",
              "      <td>0.0</td>\n",
              "      <td>0.0</td>\n",
              "      <td>0.0</td>\n",
              "      <td>0.0</td>\n",
              "      <td>0.0</td>\n",
              "      <td>0.0</td>\n",
              "      <td>0.000</td>\n",
              "      <td>0.0</td>\n",
              "      <td>0.0</td>\n",
              "      <td>0.0</td>\n",
              "      <td>0.0</td>\n",
              "      <td>0.0</td>\n",
              "    </tr>\n",
              "    <tr>\n",
              "      <th>2</th>\n",
              "      <td>231</td>\n",
              "      <td>0.383</td>\n",
              "      <td>0.0</td>\n",
              "      <td>0.0</td>\n",
              "      <td>0.297</td>\n",
              "      <td>0.0</td>\n",
              "      <td>0.000</td>\n",
              "      <td>0.000</td>\n",
              "      <td>0.000</td>\n",
              "      <td>0.0</td>\n",
              "      <td>0.0</td>\n",
              "      <td>0.0</td>\n",
              "      <td>0.0</td>\n",
              "      <td>0.0</td>\n",
              "      <td>0.0</td>\n",
              "      <td>0.000</td>\n",
              "      <td>0.0</td>\n",
              "      <td>0.0</td>\n",
              "      <td>0.0</td>\n",
              "      <td>0.0</td>\n",
              "      <td>0.0</td>\n",
              "    </tr>\n",
              "    <tr>\n",
              "      <th>3</th>\n",
              "      <td>260</td>\n",
              "      <td>1.000</td>\n",
              "      <td>0.0</td>\n",
              "      <td>0.0</td>\n",
              "      <td>0.000</td>\n",
              "      <td>0.0</td>\n",
              "      <td>0.000</td>\n",
              "      <td>0.911</td>\n",
              "      <td>0.000</td>\n",
              "      <td>0.0</td>\n",
              "      <td>0.0</td>\n",
              "      <td>0.0</td>\n",
              "      <td>0.0</td>\n",
              "      <td>0.0</td>\n",
              "      <td>0.0</td>\n",
              "      <td>0.911</td>\n",
              "      <td>0.0</td>\n",
              "      <td>0.0</td>\n",
              "      <td>0.0</td>\n",
              "      <td>0.0</td>\n",
              "      <td>0.0</td>\n",
              "    </tr>\n",
              "    <tr>\n",
              "      <th>4</th>\n",
              "      <td>316</td>\n",
              "      <td>0.445</td>\n",
              "      <td>0.0</td>\n",
              "      <td>0.0</td>\n",
              "      <td>0.000</td>\n",
              "      <td>0.0</td>\n",
              "      <td>0.000</td>\n",
              "      <td>0.405</td>\n",
              "      <td>0.000</td>\n",
              "      <td>0.0</td>\n",
              "      <td>0.0</td>\n",
              "      <td>0.0</td>\n",
              "      <td>0.0</td>\n",
              "      <td>0.0</td>\n",
              "      <td>0.0</td>\n",
              "      <td>0.405</td>\n",
              "      <td>0.0</td>\n",
              "      <td>0.0</td>\n",
              "      <td>0.0</td>\n",
              "      <td>0.0</td>\n",
              "      <td>0.0</td>\n",
              "    </tr>\n",
              "  </tbody>\n",
              "</table>\n",
              "</div>"
            ],
            "text/plain": [
              "   movieId  Adventure  Animation  ...  IMAX  Documentary  (no genres listed)\n",
              "0        1      0.794        1.0  ...   0.0          0.0                 0.0\n",
              "1      101      0.081        0.0  ...   0.0          0.0                 0.0\n",
              "2      231      0.383        0.0  ...   0.0          0.0                 0.0\n",
              "3      260      1.000        0.0  ...   0.0          0.0                 0.0\n",
              "4      316      0.445        0.0  ...   0.0          0.0                 0.0\n",
              "\n",
              "[5 rows x 21 columns]"
            ]
          },
          "metadata": {
            "tags": []
          },
          "execution_count": 57
        }
      ]
    },
    {
      "cell_type": "code",
      "metadata": {
        "id": "uM4B-Xjxvoon"
      },
      "source": [
        "#save norm movie to tag embedding\n",
        "genre_hots_df.to_csv('/content/drive/MyDrive/Projects/MovieRecommendation/Tag_norm_movie_gernes.csv', index=False)"
      ],
      "execution_count": null,
      "outputs": []
    },
    {
      "cell_type": "code",
      "metadata": {
        "colab": {
          "base_uri": "https://localhost:8080/",
          "height": 253
        },
        "id": "cInkgiuT0jZT",
        "outputId": "4dd6c155-1951-4e23-a425-e6d5b7b113a3"
      },
      "source": [
        "#merge all genre columns into on array\n",
        "genre_hots_df['i2tag'] = genre_hots_df[genre_hots_df.columns[1:]].apply(lambda x: ','.join(x.astype(str)), axis=1)\n",
        "genre_hots_df.head()"
      ],
      "execution_count": null,
      "outputs": [
        {
          "output_type": "execute_result",
          "data": {
            "text/html": [
              "<div>\n",
              "<style scoped>\n",
              "    .dataframe tbody tr th:only-of-type {\n",
              "        vertical-align: middle;\n",
              "    }\n",
              "\n",
              "    .dataframe tbody tr th {\n",
              "        vertical-align: top;\n",
              "    }\n",
              "\n",
              "    .dataframe thead th {\n",
              "        text-align: right;\n",
              "    }\n",
              "</style>\n",
              "<table border=\"1\" class=\"dataframe\">\n",
              "  <thead>\n",
              "    <tr style=\"text-align: right;\">\n",
              "      <th></th>\n",
              "      <th>movieId</th>\n",
              "      <th>Adventure</th>\n",
              "      <th>Animation</th>\n",
              "      <th>Children</th>\n",
              "      <th>Comedy</th>\n",
              "      <th>Fantasy</th>\n",
              "      <th>Romance</th>\n",
              "      <th>Action</th>\n",
              "      <th>Crime</th>\n",
              "      <th>Thriller</th>\n",
              "      <th>Mystery</th>\n",
              "      <th>Horror</th>\n",
              "      <th>Drama</th>\n",
              "      <th>War</th>\n",
              "      <th>Western</th>\n",
              "      <th>Sci-Fi</th>\n",
              "      <th>Musical</th>\n",
              "      <th>Film-Noir</th>\n",
              "      <th>IMAX</th>\n",
              "      <th>Documentary</th>\n",
              "      <th>(no genres listed)</th>\n",
              "      <th>i2tag</th>\n",
              "    </tr>\n",
              "  </thead>\n",
              "  <tbody>\n",
              "    <tr>\n",
              "      <th>0</th>\n",
              "      <td>1</td>\n",
              "      <td>0.794</td>\n",
              "      <td>1.0</td>\n",
              "      <td>1.0</td>\n",
              "      <td>0.615</td>\n",
              "      <td>1.0</td>\n",
              "      <td>0.000</td>\n",
              "      <td>0.000</td>\n",
              "      <td>0.000</td>\n",
              "      <td>0.0</td>\n",
              "      <td>0.0</td>\n",
              "      <td>0.0</td>\n",
              "      <td>0.0</td>\n",
              "      <td>0.0</td>\n",
              "      <td>0.0</td>\n",
              "      <td>0.000</td>\n",
              "      <td>0.0</td>\n",
              "      <td>0.0</td>\n",
              "      <td>0.0</td>\n",
              "      <td>0.0</td>\n",
              "      <td>0.0</td>\n",
              "      <td>0.794,1.0,1.0,0.615,1.0,0.0,0.0,0.0,0.0,0.0,0....</td>\n",
              "    </tr>\n",
              "    <tr>\n",
              "      <th>1</th>\n",
              "      <td>101</td>\n",
              "      <td>0.081</td>\n",
              "      <td>0.0</td>\n",
              "      <td>0.0</td>\n",
              "      <td>0.063</td>\n",
              "      <td>0.0</td>\n",
              "      <td>0.063</td>\n",
              "      <td>0.000</td>\n",
              "      <td>0.062</td>\n",
              "      <td>0.0</td>\n",
              "      <td>0.0</td>\n",
              "      <td>0.0</td>\n",
              "      <td>0.0</td>\n",
              "      <td>0.0</td>\n",
              "      <td>0.0</td>\n",
              "      <td>0.000</td>\n",
              "      <td>0.0</td>\n",
              "      <td>0.0</td>\n",
              "      <td>0.0</td>\n",
              "      <td>0.0</td>\n",
              "      <td>0.0</td>\n",
              "      <td>0.081,0.0,0.0,0.063,0.0,0.063,0.0,0.062,0.0,0....</td>\n",
              "    </tr>\n",
              "    <tr>\n",
              "      <th>2</th>\n",
              "      <td>231</td>\n",
              "      <td>0.383</td>\n",
              "      <td>0.0</td>\n",
              "      <td>0.0</td>\n",
              "      <td>0.297</td>\n",
              "      <td>0.0</td>\n",
              "      <td>0.000</td>\n",
              "      <td>0.000</td>\n",
              "      <td>0.000</td>\n",
              "      <td>0.0</td>\n",
              "      <td>0.0</td>\n",
              "      <td>0.0</td>\n",
              "      <td>0.0</td>\n",
              "      <td>0.0</td>\n",
              "      <td>0.0</td>\n",
              "      <td>0.000</td>\n",
              "      <td>0.0</td>\n",
              "      <td>0.0</td>\n",
              "      <td>0.0</td>\n",
              "      <td>0.0</td>\n",
              "      <td>0.0</td>\n",
              "      <td>0.383,0.0,0.0,0.297,0.0,0.0,0.0,0.0,0.0,0.0,0....</td>\n",
              "    </tr>\n",
              "    <tr>\n",
              "      <th>3</th>\n",
              "      <td>260</td>\n",
              "      <td>1.000</td>\n",
              "      <td>0.0</td>\n",
              "      <td>0.0</td>\n",
              "      <td>0.000</td>\n",
              "      <td>0.0</td>\n",
              "      <td>0.000</td>\n",
              "      <td>0.911</td>\n",
              "      <td>0.000</td>\n",
              "      <td>0.0</td>\n",
              "      <td>0.0</td>\n",
              "      <td>0.0</td>\n",
              "      <td>0.0</td>\n",
              "      <td>0.0</td>\n",
              "      <td>0.0</td>\n",
              "      <td>0.911</td>\n",
              "      <td>0.0</td>\n",
              "      <td>0.0</td>\n",
              "      <td>0.0</td>\n",
              "      <td>0.0</td>\n",
              "      <td>0.0</td>\n",
              "      <td>1.0,0.0,0.0,0.0,0.0,0.0,0.911,0.0,0.0,0.0,0.0,...</td>\n",
              "    </tr>\n",
              "    <tr>\n",
              "      <th>4</th>\n",
              "      <td>316</td>\n",
              "      <td>0.445</td>\n",
              "      <td>0.0</td>\n",
              "      <td>0.0</td>\n",
              "      <td>0.000</td>\n",
              "      <td>0.0</td>\n",
              "      <td>0.000</td>\n",
              "      <td>0.405</td>\n",
              "      <td>0.000</td>\n",
              "      <td>0.0</td>\n",
              "      <td>0.0</td>\n",
              "      <td>0.0</td>\n",
              "      <td>0.0</td>\n",
              "      <td>0.0</td>\n",
              "      <td>0.0</td>\n",
              "      <td>0.405</td>\n",
              "      <td>0.0</td>\n",
              "      <td>0.0</td>\n",
              "      <td>0.0</td>\n",
              "      <td>0.0</td>\n",
              "      <td>0.0</td>\n",
              "      <td>0.445,0.0,0.0,0.0,0.0,0.0,0.405,0.0,0.0,0.0,0....</td>\n",
              "    </tr>\n",
              "  </tbody>\n",
              "</table>\n",
              "</div>"
            ],
            "text/plain": [
              "   movieId  ...                                              i2tag\n",
              "0        1  ...  0.794,1.0,1.0,0.615,1.0,0.0,0.0,0.0,0.0,0.0,0....\n",
              "1      101  ...  0.081,0.0,0.0,0.063,0.0,0.063,0.0,0.062,0.0,0....\n",
              "2      231  ...  0.383,0.0,0.0,0.297,0.0,0.0,0.0,0.0,0.0,0.0,0....\n",
              "3      260  ...  1.0,0.0,0.0,0.0,0.0,0.0,0.911,0.0,0.0,0.0,0.0,...\n",
              "4      316  ...  0.445,0.0,0.0,0.0,0.0,0.0,0.405,0.0,0.0,0.0,0....\n",
              "\n",
              "[5 rows x 22 columns]"
            ]
          },
          "metadata": {
            "tags": []
          },
          "execution_count": 59
        }
      ]
    },
    {
      "cell_type": "code",
      "metadata": {
        "id": "9HL9omWw2rwT"
      },
      "source": [
        "#select only movieId and i2tag columns\n",
        "movie2tag_df = genre_hots_df[['movieId','i2tag']]\n",
        "\n",
        "#Save dataframe\n",
        "movie2tag_df.to_csv('/content/drive/MyDrive/Projects/MovieRecommendation/Tag_movie2tag.csv', index=False)"
      ],
      "execution_count": null,
      "outputs": []
    },
    {
      "cell_type": "markdown",
      "metadata": {
        "id": "e8vw3scHlFvg"
      },
      "source": [
        "**Note:** The dataframe shows the popularity of each movie in each genre"
      ]
    },
    {
      "cell_type": "code",
      "metadata": {
        "id": "IMgfTD4gm3v8"
      },
      "source": [
        "#Read movie popularity embedding \n",
        "genre_hots_df = spark.read.csv('/content/drive/MyDrive/Projects/MovieRecommendation/Tag_movie2tag.csv', header=True)"
      ],
      "execution_count": null,
      "outputs": []
    },
    {
      "cell_type": "markdown",
      "metadata": {
        "id": "-QusMhBTpPjC"
      },
      "source": [
        "#Part4: Applications\n",
        "1. User Cold start issue: Give top 10 highest avg rated movies with at lease 50 reviews for new user.\n",
        "2. Recommend movies for existed user. (use function .recommendForUserSubset(user_list, # of recommendations)\n",
        "3. Update model(need to re-train model) for new user ratings. And give a recommendation after update."
      ]
    },
    {
      "cell_type": "markdown",
      "metadata": {
        "id": "-i_1el31psjj"
      },
      "source": [
        "##Part4_1: Recommend movies with ALS model"
      ]
    },
    {
      "cell_type": "markdown",
      "metadata": {
        "id": "uEFsZppypdHI"
      },
      "source": [
        "####Part4_1_1:Recommend movies for userid: 232 and 575"
      ]
    },
    {
      "cell_type": "code",
      "metadata": {
        "colab": {
          "base_uri": "https://localhost:8080/"
        },
        "id": "wn0KZ8AapZsn",
        "outputId": "dea80514-ca5f-42d7-d5c1-d37b3976e85d"
      },
      "source": [
        "from pyspark.sql.functions import *\n",
        "#build user dataframe\n",
        "user_list = spark.createDataFrame(pd.DataFrame({'userId':['232', '575']}))\n",
        "\n",
        "#return top 5 movies recommended for each user id in the input data set. {user 232: [[movieid1, rating] [movieid2, rating]...]}\n",
        "user_recommend = model_with_whole.recommendForUserSubset(user_list ,5)\n",
        "\n",
        "#explode the recommend dataframe. Explode=>本來recomendation list 橫的變豎的， recommendation\".*\" 會把[movieid, rating]分成兩個columns\n",
        "user_recommend_df = user_recommend.select('userId', explode('recommendations')\\\n",
        "                                  .alias('recommendation'))\\\n",
        "                                  .select('userId', 'recommendation.*')\n",
        "\n",
        "#map the recommended movieId with title\n",
        "recommendation_result = user_recommend_df.join(movies_df, on='movieId', how='left')\n",
        "recommendation_result.show()"
      ],
      "execution_count": null,
      "outputs": [
        {
          "output_type": "stream",
          "text": [
            "+-------+------+---------+--------------------+--------------------+\n",
            "|movieId|userId|   rating|               title|              genres|\n",
            "+-------+------+---------+--------------------+--------------------+\n",
            "|   5075|   232|4.9253697|  Waydowntown (2000)|              Comedy|\n",
            "|   3379|   232|4.8496833| On the Beach (1959)|               Drama|\n",
            "|  33649|   232|4.7099886|  Saving Face (2004)|Comedy|Drama|Romance|\n",
            "| 102217|   232|4.7005925|Bill Hicks: Revel...|              Comedy|\n",
            "|  92494|   232|4.7005925|Dylan Moran: Mons...|  Comedy|Documentary|\n",
            "|  92494|   575| 5.495878|Dylan Moran: Mons...|  Comedy|Documentary|\n",
            "| 102217|   575| 5.495878|Bill Hicks: Revel...|              Comedy|\n",
            "|   1696|   575|5.3302197|         Bent (1997)|           Drama|War|\n",
            "|  33779|   575|5.3098497|Eddie Izzard: Dre...|              Comedy|\n",
            "|  89118|   575| 5.292138|Skin I Live In, T...|               Drama|\n",
            "+-------+------+---------+--------------------+--------------------+\n",
            "\n"
          ],
          "name": "stdout"
        }
      ]
    },
    {
      "cell_type": "markdown",
      "metadata": {
        "id": "LAl2nRwOidAA"
      },
      "source": [
        "**List 5 recommend movies for user 232**"
      ]
    },
    {
      "cell_type": "code",
      "metadata": {
        "colab": {
          "base_uri": "https://localhost:8080/"
        },
        "id": "bAM8RdkRvG0Y",
        "outputId": "00942dcc-7082-4b7e-f4ea-8ce1a25ecbd7"
      },
      "source": [
        "res = recommendation_result.where('userId = 232')\n",
        "res.show()"
      ],
      "execution_count": null,
      "outputs": [
        {
          "output_type": "stream",
          "text": [
            "+-------+------+---------+--------------------+--------------------+\n",
            "|movieId|userId|   rating|               title|              genres|\n",
            "+-------+------+---------+--------------------+--------------------+\n",
            "|  33649|   232|4.9043913|  Saving Face (2004)|Comedy|Drama|Romance|\n",
            "|   3379|   232| 4.786348| On the Beach (1959)|               Drama|\n",
            "|  26073|   232| 4.727024|Human Condition I...|           Drama|War|\n",
            "| 117531|   232| 4.727024|    Watermark (2014)|         Documentary|\n",
            "|   7071|   232| 4.727024|Woman Under the I...|               Drama|\n",
            "+-------+------+---------+--------------------+--------------------+\n",
            "\n"
          ],
          "name": "stdout"
        }
      ]
    },
    {
      "cell_type": "code",
      "metadata": {
        "colab": {
          "base_uri": "https://localhost:8080/"
        },
        "id": "UQhdK3wrr3ub",
        "outputId": "c88ea3b7-2cf7-4c09-f226-8a2adbfe6d97"
      },
      "source": [
        "#compare with the top movies what user rated.\n",
        "res = ratings_df.join(movies_df, on='movieId', how='left').where('userId=232').orderBy(col('rating').desc())\n",
        "res.show(truncate=False)"
      ],
      "execution_count": null,
      "outputs": [
        {
          "output_type": "stream",
          "text": [
            "+-------+------+------+----------+-------------------------------------------------+------------------------------------------------+\n",
            "|movieId|userId|rating|timestamp |title                                            |genres                                          |\n",
            "+-------+------+------+----------+-------------------------------------------------+------------------------------------------------+\n",
            "|2762   |232   |5.0   |1218165016|Sixth Sense, The (1999)                          |Drama|Horror|Mystery                            |\n",
            "|1210   |232   |5.0   |1077235144|Star Wars: Episode VI - Return of the Jedi (1983)|Action|Adventure|Sci-Fi                         |\n",
            "|2028   |232   |5.0   |1241823312|Saving Private Ryan (1998)                       |Action|Drama|War                                |\n",
            "|7458   |232   |5.0   |1105237396|Troy (2004)                                      |Action|Adventure|Drama|War                      |\n",
            "|296    |232   |5.0   |1241823280|Pulp Fiction (1994)                              |Comedy|Crime|Drama|Thriller                     |\n",
            "|318    |232   |5.0   |1207513462|Shawshank Redemption, The (1994)                 |Crime|Drama                                     |\n",
            "|3147   |232   |5.0   |1218164903|Green Mile, The (1999)                           |Crime|Drama                                     |\n",
            "|3578   |232   |5.0   |1182908274|Gladiator (2000)                                 |Action|Adventure|Drama                          |\n",
            "|2329   |232   |5.0   |1278825006|American History X (1998)                        |Crime|Drama                                     |\n",
            "|5152   |232   |5.0   |1167944618|We Were Soldiers (2002)                          |Action|Drama|War                                |\n",
            "|8533   |232   |5.0   |1206994964|Notebook, The (2004)                             |Drama|Romance                                   |\n",
            "|44191  |232   |5.0   |1218164812|V for Vendetta (2006)                            |Action|Sci-Fi|Thriller|IMAX                     |\n",
            "|51662  |232   |5.0   |1174664622|300 (2007)                                       |Action|Fantasy|War|IMAX                         |\n",
            "|58559  |232   |5.0   |1217541078|Dark Knight, The (2008)                          |Action|Crime|Drama|IMAX                         |\n",
            "|68358  |232   |5.0   |1247190374|Star Trek (2009)                                 |Action|Adventure|Sci-Fi|IMAX                    |\n",
            "|69757  |232   |5.0   |1269465448|(500) Days of Summer (2009)                      |Comedy|Drama|Romance                            |\n",
            "|78499  |232   |5.0   |1283133814|Toy Story 3 (2010)                               |Adventure|Animation|Children|Comedy|Fantasy|IMAX|\n",
            "|79132  |232   |5.0   |1283133804|Inception (2010)                                 |Action|Crime|Drama|Mystery|Sci-Fi|Thriller|IMAX |\n",
            "|81591  |232   |5.0   |1294365918|Black Swan (2010)                                |Drama|Thriller                                  |\n",
            "|4226   |232   |5.0   |1194560461|Memento (2000)                                   |Mystery|Thriller                                |\n",
            "+-------+------+------+----------+-------------------------------------------------+------------------------------------------------+\n",
            "only showing top 20 rows\n",
            "\n"
          ],
          "name": "stdout"
        }
      ]
    },
    {
      "cell_type": "markdown",
      "metadata": {
        "id": "ryRKWaeDyMHy"
      },
      "source": [
        "**Note: The prediction is quite close to what user 232 like. the model recommend movies with Drama, Comedy, and Rmance genres,and the movies that user has rated with Drama, Romance and Comedy too.  "
      ]
    },
    {
      "cell_type": "markdown",
      "metadata": {
        "id": "ZP1zOf5ienEs"
      },
      "source": [
        "####Part4_1_2: Add new user into dataset and update model"
      ]
    },
    {
      "cell_type": "code",
      "metadata": {
        "colab": {
          "base_uri": "https://localhost:8080/"
        },
        "id": "d2EqVgN0Zjx8",
        "outputId": "28c2bb1e-cd72-4108-9567-b151e6adb1c5"
      },
      "source": [
        "#initial userId\n",
        "new_user_id = 0\n",
        "\n",
        "#creates new user revies dataframe\n",
        "# The format of each line is (my_user_id, movie ID, your rating)\n",
        "new_user_ratings = [\n",
        "     (new_user_id, 260,  5),\n",
        "     (new_user_id, 1196, 5),\n",
        "     (new_user_id, 480,  5),\n",
        "     (new_user_id, 1210, 5),\n",
        "     (new_user_id, 589,  5),\n",
        "     (new_user_id, 2028, 1),\n",
        "     (new_user_id, 1580, 5),\n",
        "     (new_user_id, 110,  1),\n",
        "     (new_user_id, 2571, 5),\n",
        "     (new_user_id, 1270, 5)\n",
        "]\n",
        "\n",
        "new_user_ratings_df = spark.createDataFrame(new_user_ratings, ['userId','movieId','rating'])\n",
        "print('New user movie ratings:')\n",
        "new_user_ratings_df.show()"
      ],
      "execution_count": null,
      "outputs": [
        {
          "output_type": "stream",
          "text": [
            "New user movie ratings:\n",
            "+------+-------+------+\n",
            "|userId|movieId|rating|\n",
            "+------+-------+------+\n",
            "|     0|    260|     5|\n",
            "|     0|   1196|     5|\n",
            "|     0|    480|     5|\n",
            "|     0|   1210|     5|\n",
            "|     0|    589|     5|\n",
            "|     0|   2028|     1|\n",
            "|     0|   1580|     5|\n",
            "|     0|    110|     1|\n",
            "|     0|   2571|     5|\n",
            "|     0|   1270|     5|\n",
            "+------+-------+------+\n",
            "\n"
          ],
          "name": "stdout"
        }
      ]
    },
    {
      "cell_type": "code",
      "metadata": {
        "colab": {
          "base_uri": "https://localhost:8080/"
        },
        "id": "eEUExLf3mPgb",
        "outputId": "7a890df0-516d-4951-bfba-252a9f772698"
      },
      "source": [
        "#Add new reviews to training data\n",
        "updated_ratings_df = training.unionAll(new_user_ratings_df)\n",
        "\n",
        "print ('The training dataset now has %s more entries than the original training dataset' %\n",
        "       (updated_ratings_df.count() - training.count()))"
      ],
      "execution_count": null,
      "outputs": [
        {
          "output_type": "stream",
          "text": [
            "The training dataset now has 10 more entries than the original training dataset\n"
          ],
          "name": "stdout"
        }
      ]
    },
    {
      "cell_type": "code",
      "metadata": {
        "colab": {
          "base_uri": "https://localhost:8080/"
        },
        "id": "sVSThB_S2P8j",
        "outputId": "688f0a3e-968e-4959-a80d-7149200849f9"
      },
      "source": [
        "#retrain the training model and gave prediction\n",
        "import time\n",
        "start = time.time()\n",
        "\n",
        "estimator = ALS(rank=5, maxIter=9, regParam=0.1, userCol='userId', itemCol='movieId', ratingCol='rating', coldStartStrategy='drop')\n",
        "model_with_whole = estimator.fit(updated_ratings_df)\n",
        "predictions = model_with_whole.transform(test)\n",
        "rmse_whole_data = RMSE_evaluator.evaluate(predictions)\n",
        "print('**The Best Model with whole data set**')\n",
        "print('Root-mean-suare-error for test data: ', rmse_whole_data)\n",
        "\n",
        "end = time.time()\n",
        "print('Training model costs %.3f second.' %(end-start))"
      ],
      "execution_count": null,
      "outputs": [
        {
          "output_type": "stream",
          "text": [
            "**The Best Model with whole data set**\n",
            "Root-mean-suare-error for test data:  0.8740665130806501\n",
            "Training model costs 11.430 second.\n"
          ],
          "name": "stdout"
        }
      ]
    },
    {
      "cell_type": "markdown",
      "metadata": {
        "id": "QgqyH1aS29_d"
      },
      "source": [
        "**Note: the RMSE is much higher which make sense since our data set is not very large and some movies may only have few ratings. "
      ]
    },
    {
      "cell_type": "markdown",
      "metadata": {
        "id": "Zltw02mp3dGV"
      },
      "source": [
        "**Recommendations for new user with updated model.**"
      ]
    },
    {
      "cell_type": "code",
      "metadata": {
        "colab": {
          "base_uri": "https://localhost:8080/"
        },
        "id": "1bTgNZ5B3rL3",
        "outputId": "a2cfe356-538a-4abe-8c6a-fbb49a5110c1"
      },
      "source": [
        "#build user dataframe\n",
        "user_list = spark.createDataFrame(pd.DataFrame({'userId':['0']}))\n",
        "\n",
        "#return top 5 movies recommended for each user id in the input data set.\n",
        "user_recommend = model_with_whole.recommendForUserSubset(user_list ,5)\n",
        "\n",
        "#explode the recommend dataframe\n",
        "user_recommend_df = user_recommend.select('userId', explode('recommendations')\\\n",
        "                                  .alias('recommendation'))\\\n",
        "                                  .select('userId', 'recommendation.*')\n",
        "\n",
        "#map the recommended movieId with title\n",
        "recommendation_result = user_recommend_df.join(movies_df, on='movieId', how='left')\n",
        "recommendation_result.show()"
      ],
      "execution_count": null,
      "outputs": [
        {
          "output_type": "stream",
          "text": [
            "+-------+------+---------+--------------------+------------------+\n",
            "|movieId|userId|   rating|               title|            genres|\n",
            "+-------+------+---------+--------------------+------------------+\n",
            "|     82|     0|  8.40531|Antonia's Line (A...|      Comedy|Drama|\n",
            "|  86290|     0|7.6047983|American: The Bil...|Comedy|Documentary|\n",
            "|   1658|     0|7.3245893|Life Less Ordinar...|  Romance|Thriller|\n",
            "|   3436|     0|7.1730304|  Dying Young (1991)|     Drama|Romance|\n",
            "|   3061|     0| 7.087485|  Holiday Inn (1942)|    Comedy|Musical|\n",
            "+-------+------+---------+--------------------+------------------+\n",
            "\n"
          ],
          "name": "stdout"
        }
      ]
    },
    {
      "cell_type": "code",
      "metadata": {
        "colab": {
          "base_uri": "https://localhost:8080/"
        },
        "id": "FFISu4HQ3-s-",
        "outputId": "0319e4d4-912c-489d-a50b-3f4da885e491"
      },
      "source": [
        "#compare with the top movies what user rated.\n",
        "res = updated_ratings_df.join(movies_df, on='movieId', how='left').where('userId=0').orderBy(col('rating').desc())\n",
        "res.show(truncate=False)"
      ],
      "execution_count": null,
      "outputs": [
        {
          "output_type": "stream",
          "text": [
            "+-------+------+------+-----------------------------------------------------+--------------------------------+\n",
            "|movieId|userId|rating|title                                                |genres                          |\n",
            "+-------+------+------+-----------------------------------------------------+--------------------------------+\n",
            "|1196   |0     |5.0   |Star Wars: Episode V - The Empire Strikes Back (1980)|Action|Adventure|Sci-Fi         |\n",
            "|1210   |0     |5.0   |Star Wars: Episode VI - Return of the Jedi (1983)    |Action|Adventure|Sci-Fi         |\n",
            "|589    |0     |5.0   |Terminator 2: Judgment Day (1991)                    |Action|Sci-Fi                   |\n",
            "|480    |0     |5.0   |Jurassic Park (1993)                                 |Action|Adventure|Sci-Fi|Thriller|\n",
            "|260    |0     |5.0   |Star Wars: Episode IV - A New Hope (1977)            |Action|Adventure|Sci-Fi         |\n",
            "|1270   |0     |5.0   |Back to the Future (1985)                            |Adventure|Comedy|Sci-Fi         |\n",
            "|2571   |0     |5.0   |Matrix, The (1999)                                   |Action|Sci-Fi|Thriller          |\n",
            "|1580   |0     |5.0   |Men in Black (a.k.a. MIB) (1997)                     |Action|Comedy|Sci-Fi            |\n",
            "|2028   |0     |1.0   |Saving Private Ryan (1998)                           |Action|Drama|War                |\n",
            "|110    |0     |1.0   |Braveheart (1995)                                    |Action|Drama|War                |\n",
            "+-------+------+------+-----------------------------------------------------+--------------------------------+\n",
            "\n"
          ],
          "name": "stdout"
        }
      ]
    },
    {
      "cell_type": "code",
      "metadata": {
        "colab": {
          "base_uri": "https://localhost:8080/"
        },
        "id": "sZeogI9hlOyn",
        "outputId": "2496dcdc-5478-4049-bb4d-9517218e6d18"
      },
      "source": [
        "len(ratings_kdf[ratings_kdf['movieId']=='1196'])"
      ],
      "execution_count": null,
      "outputs": [
        {
          "output_type": "execute_result",
          "data": {
            "text/plain": [
              "211"
            ]
          },
          "metadata": {
            "tags": []
          },
          "execution_count": 52
        }
      ]
    },
    {
      "cell_type": "code",
      "metadata": {
        "colab": {
          "base_uri": "https://localhost:8080/"
        },
        "id": "Rei_FnZxm9zo",
        "outputId": "45068837-7d87-44f8-b3ec-4a7d9a7906d3"
      },
      "source": [
        "len(ratings_kdf[ratings_kdf['movieId']=='1210'])"
      ],
      "execution_count": null,
      "outputs": [
        {
          "output_type": "execute_result",
          "data": {
            "text/plain": [
              "196"
            ]
          },
          "metadata": {
            "tags": []
          },
          "execution_count": 53
        }
      ]
    },
    {
      "cell_type": "code",
      "metadata": {
        "colab": {
          "base_uri": "https://localhost:8080/"
        },
        "id": "pHnDGWU7nBha",
        "outputId": "4a2383ab-699e-4122-8fb9-ab36fdf6bea6"
      },
      "source": [
        "len(ratings_kdf[ratings_kdf['movieId']=='589'])"
      ],
      "execution_count": null,
      "outputs": [
        {
          "output_type": "execute_result",
          "data": {
            "text/plain": [
              "224"
            ]
          },
          "metadata": {
            "tags": []
          },
          "execution_count": 54
        }
      ]
    },
    {
      "cell_type": "code",
      "metadata": {
        "colab": {
          "base_uri": "https://localhost:8080/"
        },
        "id": "7yYy17tYnEsQ",
        "outputId": "c4d5d972-f801-426e-c215-dec414dd306a"
      },
      "source": [
        "len(ratings_kdf[ratings_kdf['movieId']=='480'])"
      ],
      "execution_count": null,
      "outputs": [
        {
          "output_type": "execute_result",
          "data": {
            "text/plain": [
              "238"
            ]
          },
          "metadata": {
            "tags": []
          },
          "execution_count": 55
        }
      ]
    },
    {
      "cell_type": "code",
      "metadata": {
        "colab": {
          "base_uri": "https://localhost:8080/"
        },
        "id": "hacjl_ZynK4W",
        "outputId": "8dd4086e-bb12-4d4e-9524-55607cf51c8e"
      },
      "source": [
        "len(ratings_kdf[ratings_kdf['movieId']=='260'])"
      ],
      "execution_count": null,
      "outputs": [
        {
          "output_type": "execute_result",
          "data": {
            "text/plain": [
              "251"
            ]
          },
          "metadata": {
            "tags": []
          },
          "execution_count": 56
        }
      ]
    },
    {
      "cell_type": "code",
      "metadata": {
        "colab": {
          "base_uri": "https://localhost:8080/"
        },
        "id": "2halGWbsnPvd",
        "outputId": "2382adcf-ea09-4e1b-c2f6-9ce3be817099"
      },
      "source": [
        "len(ratings_kdf[ratings_kdf['movieId']=='1270'])"
      ],
      "execution_count": null,
      "outputs": [
        {
          "output_type": "execute_result",
          "data": {
            "text/plain": [
              "171"
            ]
          },
          "metadata": {
            "tags": []
          },
          "execution_count": 57
        }
      ]
    },
    {
      "cell_type": "code",
      "metadata": {
        "colab": {
          "base_uri": "https://localhost:8080/"
        },
        "id": "XpbJTKy3nVOR",
        "outputId": "38219abd-e76b-40aa-b80c-3ada76ca05c9"
      },
      "source": [
        "len(ratings_kdf[ratings_kdf['movieId']=='1580'])"
      ],
      "execution_count": null,
      "outputs": [
        {
          "output_type": "execute_result",
          "data": {
            "text/plain": [
              "165"
            ]
          },
          "metadata": {
            "tags": []
          },
          "execution_count": 58
        }
      ]
    },
    {
      "cell_type": "code",
      "metadata": {
        "colab": {
          "base_uri": "https://localhost:8080/"
        },
        "id": "fdPycXpbnYS6",
        "outputId": "62607474-68c0-465a-80ba-5b6bc6d37883"
      },
      "source": [
        "len(ratings_kdf[ratings_kdf['movieId']=='2028'])"
      ],
      "execution_count": null,
      "outputs": [
        {
          "output_type": "execute_result",
          "data": {
            "text/plain": [
              "188"
            ]
          },
          "metadata": {
            "tags": []
          },
          "execution_count": 59
        }
      ]
    },
    {
      "cell_type": "code",
      "metadata": {
        "colab": {
          "base_uri": "https://localhost:8080/"
        },
        "id": "eaUOriZaniFI",
        "outputId": "109d1602-8ae9-4c15-d5bc-1c4395303af9"
      },
      "source": [
        "len(ratings_kdf[ratings_kdf['movieId']=='232'])"
      ],
      "execution_count": null,
      "outputs": [
        {
          "output_type": "execute_result",
          "data": {
            "text/plain": [
              "14"
            ]
          },
          "metadata": {
            "tags": []
          },
          "execution_count": 59
        }
      ]
    },
    {
      "cell_type": "markdown",
      "metadata": {
        "id": "vdrCKvH14Xvh"
      },
      "source": [
        "**Notes: the recommendation is very close what user like. User rated movie with Action, Comedy in 5 rating score. "
      ]
    },
    {
      "cell_type": "markdown",
      "metadata": {
        "id": "HwYnvgjcpdN_"
      },
      "source": [
        "##Part4_2: Recommendation with item2vect"
      ]
    },
    {
      "cell_type": "markdown",
      "metadata": {
        "id": "8DkIaRz5qwuB"
      },
      "source": [
        "####Part4_2_1: Recommend movies for userid:232"
      ]
    },
    {
      "cell_type": "code",
      "metadata": {
        "id": "KueqOa-ZBwFR"
      },
      "source": [
        "from scipy.spatial import distance\n",
        "import numpy as np\n",
        "import json\n",
        "\n",
        "\n",
        "def rec_u2i(movie_embeddings_pdf, user_embeddings_pdf, ratings_pdf, user_id, num_of_rec):\n",
        "  '''input: movie_embedding_pdf = movie embedding dataframe in Pandas formate\n",
        "            user_embedding := user's embedding vector\n",
        "            num_od_rec: number of movie recommendations''' \n",
        "  #get target user embedding\n",
        "  target_user_embedding_str = user_embeddings_pdf.loc[user_embeddings_pdf['userId']==user_id].iloc[0]['user2vec']\n",
        "\n",
        "  #convert user and movie embedding formate from string to numpy array \n",
        "  target_user_embedding =  np.array(json.loads(target_user_embedding_str))\n",
        "  movie_embeddings_pdf['vector'] = movie_embeddings_pdf['vector'].map(lambda x: np.array(json.loads(x)))\n",
        "\n",
        "  #calculate similarity between user and movie with coisin diatance\n",
        "  movie_embeddings_pdf['similarity'] = movie_embeddings_pdf['vector'].map(lambda x: 1 - distance.cosine(target_user_embedding, x))\n",
        "  res = movie_embeddings_pdf.merge(movies_pdf, on='movieId', how='left').sort_values(by='similarity', ascending=False)\n",
        "  return res[:num_of_rec]"
      ],
      "execution_count": null,
      "outputs": []
    },
    {
      "cell_type": "code",
      "metadata": {
        "id": "Xbf6ScXSCawy"
      },
      "source": [
        "#load user embedding file\n",
        "user_embeddings = spark.read.csv('/content/drive/MyDrive/Projects/MovieRecommendation/user_embedding.csv', header=True)\n",
        "user_embeddings.cache()\n",
        "\n",
        "movie_embeddings = spark.read.csv('/content/drive/MyDrive/Projects/MovieRecommendation/movies_embedding.csv', header=True)\n",
        "movie_embeddings.cache()\n",
        "\n",
        "#convert to pandas dataframe\n",
        "user_embeddings_pdf=user_embeddings.toPandas()\n",
        "movie_embeddings_pdf=movie_embeddings.toPandas()\n",
        "movies_pdf = movies_df.toPandas()"
      ],
      "execution_count": null,
      "outputs": []
    },
    {
      "cell_type": "code",
      "metadata": {
        "colab": {
          "base_uri": "https://localhost:8080/",
          "height": 538
        },
        "id": "2RBSDgqPHIKP",
        "outputId": "abd42593-7dee-4658-92f9-968c9654ab22"
      },
      "source": [
        "#recommend 10 movies for user 232\n",
        "rec_u2i(movie_embeddings_pdf, user_embeddings_pdf, movies_pdf, '232', 10)"
      ],
      "execution_count": null,
      "outputs": [
        {
          "output_type": "execute_result",
          "data": {
            "text/html": [
              "<div>\n",
              "<style scoped>\n",
              "    .dataframe tbody tr th:only-of-type {\n",
              "        vertical-align: middle;\n",
              "    }\n",
              "\n",
              "    .dataframe tbody tr th {\n",
              "        vertical-align: top;\n",
              "    }\n",
              "\n",
              "    .dataframe thead th {\n",
              "        text-align: right;\n",
              "    }\n",
              "</style>\n",
              "<table border=\"1\" class=\"dataframe\">\n",
              "  <thead>\n",
              "    <tr style=\"text-align: right;\">\n",
              "      <th></th>\n",
              "      <th>movieId</th>\n",
              "      <th>vector</th>\n",
              "      <th>similarity</th>\n",
              "      <th>title</th>\n",
              "      <th>genres</th>\n",
              "    </tr>\n",
              "  </thead>\n",
              "  <tbody>\n",
              "    <tr>\n",
              "      <th>2150</th>\n",
              "      <td>166534</td>\n",
              "      <td>[0.04013635218143463, -0.23429596424102783, -0...</td>\n",
              "      <td>0.997375</td>\n",
              "      <td>Split (2017)</td>\n",
              "      <td>Drama|Horror|Thriller</td>\n",
              "    </tr>\n",
              "    <tr>\n",
              "      <th>3313</th>\n",
              "      <td>65216</td>\n",
              "      <td>[0.006009471602737904, -0.13057750463485718, -...</td>\n",
              "      <td>0.995810</td>\n",
              "      <td>Defiance (2008)</td>\n",
              "      <td>Drama|Thriller|War</td>\n",
              "    </tr>\n",
              "    <tr>\n",
              "      <th>3195</th>\n",
              "      <td>3062</td>\n",
              "      <td>[0.032002102583646774, -0.14794921875, -0.1329...</td>\n",
              "      <td>0.994162</td>\n",
              "      <td>Longest Day, The (1962)</td>\n",
              "      <td>Action|Drama|War</td>\n",
              "    </tr>\n",
              "    <tr>\n",
              "      <th>3694</th>\n",
              "      <td>2144</td>\n",
              "      <td>[0.0005465345457196236, -0.17883643507957458, ...</td>\n",
              "      <td>0.993673</td>\n",
              "      <td>Sixteen Candles (1984)</td>\n",
              "      <td>Comedy|Romance</td>\n",
              "    </tr>\n",
              "    <tr>\n",
              "      <th>4004</th>\n",
              "      <td>97306</td>\n",
              "      <td>[0.04584101587533951, -0.22129590809345245, -0...</td>\n",
              "      <td>0.992546</td>\n",
              "      <td>Seven Psychopaths (2012)</td>\n",
              "      <td>Comedy|Crime</td>\n",
              "    </tr>\n",
              "    <tr>\n",
              "      <th>4606</th>\n",
              "      <td>5791</td>\n",
              "      <td>[0.060974229127168655, -0.3579452931880951, -0...</td>\n",
              "      <td>0.991934</td>\n",
              "      <td>Frida (2002)</td>\n",
              "      <td>Drama|Romance</td>\n",
              "    </tr>\n",
              "    <tr>\n",
              "      <th>5674</th>\n",
              "      <td>144478</td>\n",
              "      <td>[0.04206379875540733, -0.24501216411590576, -0...</td>\n",
              "      <td>0.991283</td>\n",
              "      <td>Sex, Drugs &amp; Taxation (2013)</td>\n",
              "      <td>Comedy|Drama</td>\n",
              "    </tr>\n",
              "    <tr>\n",
              "      <th>46</th>\n",
              "      <td>2728</td>\n",
              "      <td>[0.0250712800770998, -0.15138621628284454, -0....</td>\n",
              "      <td>0.989984</td>\n",
              "      <td>Spartacus (1960)</td>\n",
              "      <td>Action|Drama|Romance|War</td>\n",
              "    </tr>\n",
              "    <tr>\n",
              "      <th>3085</th>\n",
              "      <td>5959</td>\n",
              "      <td>[0.03504616394639015, -0.13100659847259521, -0...</td>\n",
              "      <td>0.989620</td>\n",
              "      <td>Narc (2002)</td>\n",
              "      <td>Crime|Drama|Thriller</td>\n",
              "    </tr>\n",
              "    <tr>\n",
              "      <th>6162</th>\n",
              "      <td>2872</td>\n",
              "      <td>[0.01501871831715107, -0.11487151682376862, -0...</td>\n",
              "      <td>0.988273</td>\n",
              "      <td>Excalibur (1981)</td>\n",
              "      <td>Adventure|Fantasy</td>\n",
              "    </tr>\n",
              "  </tbody>\n",
              "</table>\n",
              "</div>"
            ],
            "text/plain": [
              "     movieId  ...                    genres\n",
              "2150  166534  ...     Drama|Horror|Thriller\n",
              "3313   65216  ...        Drama|Thriller|War\n",
              "3195    3062  ...          Action|Drama|War\n",
              "3694    2144  ...            Comedy|Romance\n",
              "4004   97306  ...              Comedy|Crime\n",
              "4606    5791  ...             Drama|Romance\n",
              "5674  144478  ...              Comedy|Drama\n",
              "46      2728  ...  Action|Drama|Romance|War\n",
              "3085    5959  ...      Crime|Drama|Thriller\n",
              "6162    2872  ...         Adventure|Fantasy\n",
              "\n",
              "[10 rows x 5 columns]"
            ]
          },
          "metadata": {
            "tags": []
          },
          "execution_count": 95
        }
      ]
    },
    {
      "cell_type": "code",
      "metadata": {
        "colab": {
          "base_uri": "https://localhost:8080/"
        },
        "id": "8D9vvnpTVMEp",
        "outputId": "1ab949b4-d692-4dfe-da8f-d73ba99c8eed"
      },
      "source": [
        "#Compare with the movies that userid=232 has rated\n",
        "rating_232 = ratings_df[ratings_df['userId']==232]\n",
        "rating_232 = rating_232.join(movies_df, on='movieId').sort(col('rating').desc())\n",
        "rating_232.show(truncate=False)"
      ],
      "execution_count": null,
      "outputs": [
        {
          "output_type": "stream",
          "text": [
            "+-------+------+------+----------+-------------------------------------------------+------------------------------------------------+\n",
            "|movieId|userId|rating|timestamp |title                                            |genres                                          |\n",
            "+-------+------+------+----------+-------------------------------------------------+------------------------------------------------+\n",
            "|2762   |232   |5.0   |1218165016|Sixth Sense, The (1999)                          |Drama|Horror|Mystery                            |\n",
            "|1210   |232   |5.0   |1077235144|Star Wars: Episode VI - Return of the Jedi (1983)|Action|Adventure|Sci-Fi                         |\n",
            "|2028   |232   |5.0   |1241823312|Saving Private Ryan (1998)                       |Action|Drama|War                                |\n",
            "|7458   |232   |5.0   |1105237396|Troy (2004)                                      |Action|Adventure|Drama|War                      |\n",
            "|296    |232   |5.0   |1241823280|Pulp Fiction (1994)                              |Comedy|Crime|Drama|Thriller                     |\n",
            "|318    |232   |5.0   |1207513462|Shawshank Redemption, The (1994)                 |Crime|Drama                                     |\n",
            "|3147   |232   |5.0   |1218164903|Green Mile, The (1999)                           |Crime|Drama                                     |\n",
            "|3578   |232   |5.0   |1182908274|Gladiator (2000)                                 |Action|Adventure|Drama                          |\n",
            "|2329   |232   |5.0   |1278825006|American History X (1998)                        |Crime|Drama                                     |\n",
            "|5152   |232   |5.0   |1167944618|We Were Soldiers (2002)                          |Action|Drama|War                                |\n",
            "|8533   |232   |5.0   |1206994964|Notebook, The (2004)                             |Drama|Romance                                   |\n",
            "|44191  |232   |5.0   |1218164812|V for Vendetta (2006)                            |Action|Sci-Fi|Thriller|IMAX                     |\n",
            "|51662  |232   |5.0   |1174664622|300 (2007)                                       |Action|Fantasy|War|IMAX                         |\n",
            "|58559  |232   |5.0   |1217541078|Dark Knight, The (2008)                          |Action|Crime|Drama|IMAX                         |\n",
            "|68358  |232   |5.0   |1247190374|Star Trek (2009)                                 |Action|Adventure|Sci-Fi|IMAX                    |\n",
            "|69757  |232   |5.0   |1269465448|(500) Days of Summer (2009)                      |Comedy|Drama|Romance                            |\n",
            "|78499  |232   |5.0   |1283133814|Toy Story 3 (2010)                               |Adventure|Animation|Children|Comedy|Fantasy|IMAX|\n",
            "|79132  |232   |5.0   |1283133804|Inception (2010)                                 |Action|Crime|Drama|Mystery|Sci-Fi|Thriller|IMAX |\n",
            "|81591  |232   |5.0   |1294365918|Black Swan (2010)                                |Drama|Thriller                                  |\n",
            "|4226   |232   |5.0   |1194560461|Memento (2000)                                   |Mystery|Thriller                                |\n",
            "+-------+------+------+----------+-------------------------------------------------+------------------------------------------------+\n",
            "only showing top 20 rows\n",
            "\n"
          ],
          "name": "stdout"
        }
      ]
    },
    {
      "cell_type": "markdown",
      "metadata": {
        "id": "epX_UURmdclZ"
      },
      "source": [
        "**Note:** The recommendations are very close to the movies what user 232 has rated!! eventhoug the training data is only 100k."
      ]
    },
    {
      "cell_type": "markdown",
      "metadata": {
        "id": "j-wJk6CleKZP"
      },
      "source": [
        "####Part4_2_2: Find Similar movies for movieid:471"
      ]
    },
    {
      "cell_type": "code",
      "metadata": {
        "colab": {
          "base_uri": "https://localhost:8080/",
          "height": 78
        },
        "id": "aCpBtj4sqvJ7",
        "outputId": "aac12e8a-79c5-4388-f072-383357724807"
      },
      "source": [
        "#get the embedding vector for movieId:232\n",
        "movieid_2vec_kdf = movieid_2vec.to_koalas()\n",
        "movie_embedding_232 = movieid_2vec_kdf[movieid_2vec_kdf['movieId']=='232']\n",
        "movie_embedding_232.head()"
      ],
      "execution_count": null,
      "outputs": [
        {
          "output_type": "execute_result",
          "data": {
            "text/html": [
              "<div>\n",
              "<style scoped>\n",
              "    .dataframe tbody tr th:only-of-type {\n",
              "        vertical-align: middle;\n",
              "    }\n",
              "\n",
              "    .dataframe tbody tr th {\n",
              "        vertical-align: top;\n",
              "    }\n",
              "\n",
              "    .dataframe thead th {\n",
              "        text-align: right;\n",
              "    }\n",
              "</style>\n",
              "<table border=\"1\" class=\"dataframe\">\n",
              "  <thead>\n",
              "    <tr style=\"text-align: right;\">\n",
              "      <th></th>\n",
              "      <th>movieId</th>\n",
              "      <th>vector</th>\n",
              "    </tr>\n",
              "  </thead>\n",
              "  <tbody>\n",
              "    <tr>\n",
              "      <th>5562</th>\n",
              "      <td>232</td>\n",
              "      <td>[0.062241263687610626,0.11272577941417694,0.14...</td>\n",
              "    </tr>\n",
              "  </tbody>\n",
              "</table>\n",
              "</div>"
            ],
            "text/plain": [
              "     movieId                                                                                                  vector\n",
              "5562     232  [0.062241263687610626,0.11272577941417694,0.14804062247276306,0.11710585653781891,0.07701728492975235]"
            ]
          },
          "metadata": {
            "tags": []
          },
          "execution_count": 37
        }
      ]
    },
    {
      "cell_type": "code",
      "metadata": {
        "colab": {
          "base_uri": "https://localhost:8080/",
          "height": 198
        },
        "id": "djdvhPthvhwE",
        "outputId": "81209a18-9a95-43cc-e55e-c59b499f31a0"
      },
      "source": [
        "#convert vector in string to np array\n",
        "#first convert to pandas formate\n",
        "movieid_2vec_pdf = movieid_2vec.toPandas()\n",
        "\n",
        "#preprocessing the string of movie embedding to numpy\n",
        "#remove '[' and ']' and split with ',' and putin list formate\n",
        "movieid_2vec_pdf['vector'] = movieid_2vec_pdf.vector.apply(lambda x: [float(m) for m in x[1:-2].split(',')])\n",
        "\n",
        "#convert list to numy array for array operation\n",
        "movieid_2vec_pdf['vector'] = movieid_2vec_pdf.vector.apply(lambda x: np.array(x))\n",
        "\n",
        "movieid_2vec_pdf.head()"
      ],
      "execution_count": null,
      "outputs": [
        {
          "output_type": "execute_result",
          "data": {
            "text/html": [
              "<div>\n",
              "<style scoped>\n",
              "    .dataframe tbody tr th:only-of-type {\n",
              "        vertical-align: middle;\n",
              "    }\n",
              "\n",
              "    .dataframe tbody tr th {\n",
              "        vertical-align: top;\n",
              "    }\n",
              "\n",
              "    .dataframe thead th {\n",
              "        text-align: right;\n",
              "    }\n",
              "</style>\n",
              "<table border=\"1\" class=\"dataframe\">\n",
              "  <thead>\n",
              "    <tr style=\"text-align: right;\">\n",
              "      <th></th>\n",
              "      <th>movieId</th>\n",
              "      <th>vector</th>\n",
              "    </tr>\n",
              "  </thead>\n",
              "  <tbody>\n",
              "    <tr>\n",
              "      <th>0</th>\n",
              "      <td>26985</td>\n",
              "      <td>[-0.005693458952009678, 0.011207448318600655, ...</td>\n",
              "    </tr>\n",
              "    <tr>\n",
              "      <th>1</th>\n",
              "      <td>5451</td>\n",
              "      <td>[-0.051304496824741364, -0.08262942731380463, ...</td>\n",
              "    </tr>\n",
              "    <tr>\n",
              "      <th>2</th>\n",
              "      <td>4018</td>\n",
              "      <td>[-0.08676673471927643, -0.12443593144416809, -...</td>\n",
              "    </tr>\n",
              "    <tr>\n",
              "      <th>3</th>\n",
              "      <td>4056</td>\n",
              "      <td>[-0.06413149833679199, -0.07012783735990524, -...</td>\n",
              "    </tr>\n",
              "    <tr>\n",
              "      <th>4</th>\n",
              "      <td>32584</td>\n",
              "      <td>[0.0955715999007225, -0.07193352282047272, 0.0...</td>\n",
              "    </tr>\n",
              "  </tbody>\n",
              "</table>\n",
              "</div>"
            ],
            "text/plain": [
              "  movieId                                             vector\n",
              "0   26985  [-0.005693458952009678, 0.011207448318600655, ...\n",
              "1    5451  [-0.051304496824741364, -0.08262942731380463, ...\n",
              "2    4018  [-0.08676673471927643, -0.12443593144416809, -...\n",
              "3    4056  [-0.06413149833679199, -0.07012783735990524, -...\n",
              "4   32584  [0.0955715999007225, -0.07193352282047272, 0.0..."
            ]
          },
          "metadata": {
            "tags": []
          },
          "execution_count": 41
        }
      ]
    },
    {
      "cell_type": "code",
      "metadata": {
        "id": "gdr-URfhxsfa"
      },
      "source": [
        "movieid_2vec_pdf = movieid_2vec.toPandas()"
      ],
      "execution_count": null,
      "outputs": []
    },
    {
      "cell_type": "code",
      "metadata": {
        "colab": {
          "base_uri": "https://localhost:8080/"
        },
        "id": "TC4mQIpdx7Z6",
        "outputId": "17b33e86-73d3-4847-f1d2-3d552162e440"
      },
      "source": [
        "movie_embedding_232 = movieid_2vec_pdf.loc[movieid_2vec_pdf['movieId']=='232', 'vector'].iloc[0]\n",
        "movie_embedding_232"
      ],
      "execution_count": null,
      "outputs": [
        {
          "output_type": "execute_result",
          "data": {
            "text/plain": [
              "array([0.06224126, 0.11272578, 0.14804062, 0.11710586, 0.07701728])"
            ]
          },
          "metadata": {
            "tags": []
          },
          "execution_count": 47
        }
      ]
    },
    {
      "cell_type": "code",
      "metadata": {
        "id": "DQYUjXmvqWV-"
      },
      "source": [
        "#find similar movies by calculating the cosine similarity \n",
        "from scipy.spatial import distance\n",
        "import json\n",
        "import numpy as np\n",
        "movieid_2vec_pdf['vector'] = movieid_2vec_pdf['vector'].map(lambda x: np.array(json.loads(x)))\n",
        "movieid_2vec_pdf['sim_val'] = movieid_2vec_pdf['vector'].map(lambda x: 1-distance.cosine(movie_embedding_232, x))"
      ],
      "execution_count": null,
      "outputs": []
    },
    {
      "cell_type": "code",
      "metadata": {
        "colab": {
          "base_uri": "https://localhost:8080/",
          "height": 198
        },
        "id": "mdTHT4Qqybw3",
        "outputId": "9d12c307-31ce-4585-ab53-96b5070a710b"
      },
      "source": [
        "movieid_2vec_pdf.head(5)"
      ],
      "execution_count": null,
      "outputs": [
        {
          "output_type": "execute_result",
          "data": {
            "text/html": [
              "<div>\n",
              "<style scoped>\n",
              "    .dataframe tbody tr th:only-of-type {\n",
              "        vertical-align: middle;\n",
              "    }\n",
              "\n",
              "    .dataframe tbody tr th {\n",
              "        vertical-align: top;\n",
              "    }\n",
              "\n",
              "    .dataframe thead th {\n",
              "        text-align: right;\n",
              "    }\n",
              "</style>\n",
              "<table border=\"1\" class=\"dataframe\">\n",
              "  <thead>\n",
              "    <tr style=\"text-align: right;\">\n",
              "      <th></th>\n",
              "      <th>movieId</th>\n",
              "      <th>vector</th>\n",
              "      <th>sim_val</th>\n",
              "    </tr>\n",
              "  </thead>\n",
              "  <tbody>\n",
              "    <tr>\n",
              "      <th>0</th>\n",
              "      <td>26985</td>\n",
              "      <td>[-0.005693458952009678, 0.011207448318600655, ...</td>\n",
              "      <td>0.025026</td>\n",
              "    </tr>\n",
              "    <tr>\n",
              "      <th>1</th>\n",
              "      <td>5451</td>\n",
              "      <td>[-0.051304496824741364, -0.08262942731380463, ...</td>\n",
              "      <td>-0.556879</td>\n",
              "    </tr>\n",
              "    <tr>\n",
              "      <th>2</th>\n",
              "      <td>4018</td>\n",
              "      <td>[-0.08676673471927643, -0.12443593144416809, -...</td>\n",
              "      <td>-0.916965</td>\n",
              "    </tr>\n",
              "    <tr>\n",
              "      <th>3</th>\n",
              "      <td>4056</td>\n",
              "      <td>[-0.06413149833679199, -0.07012783735990524, -...</td>\n",
              "      <td>-0.565710</td>\n",
              "    </tr>\n",
              "    <tr>\n",
              "      <th>4</th>\n",
              "      <td>32584</td>\n",
              "      <td>[0.0955715999007225, -0.07193352282047272, 0.0...</td>\n",
              "      <td>-0.448862</td>\n",
              "    </tr>\n",
              "  </tbody>\n",
              "</table>\n",
              "</div>"
            ],
            "text/plain": [
              "  movieId                                             vector   sim_val\n",
              "0   26985  [-0.005693458952009678, 0.011207448318600655, ...  0.025026\n",
              "1    5451  [-0.051304496824741364, -0.08262942731380463, ... -0.556879\n",
              "2    4018  [-0.08676673471927643, -0.12443593144416809, -... -0.916965\n",
              "3    4056  [-0.06413149833679199, -0.07012783735990524, -... -0.565710\n",
              "4   32584  [0.0955715999007225, -0.07193352282047272, 0.0... -0.448862"
            ]
          },
          "metadata": {
            "tags": []
          },
          "execution_count": 51
        }
      ]
    },
    {
      "cell_type": "code",
      "metadata": {
        "id": "_BQ_FY9U0QNs"
      },
      "source": [
        "movies_pdf = movies_df.toPandas()"
      ],
      "execution_count": null,
      "outputs": []
    },
    {
      "cell_type": "code",
      "metadata": {
        "colab": {
          "base_uri": "https://localhost:8080/",
          "height": 198
        },
        "id": "Wp4gxoxsyr-R",
        "outputId": "cc9ec95c-5d8e-4ae1-b57c-b34d1e064736"
      },
      "source": [
        "#join movieId with movie metadata\n",
        "movie_merge = pd.merge(left=movieid_2vec_pdf,\n",
        "                      right=movies_pdf, \n",
        "                      left_on='movieId',\n",
        "                      right_on='movieId')\n",
        "movie_merge.sort_values(by='sim_val', ascending=False).head()"
      ],
      "execution_count": null,
      "outputs": [
        {
          "output_type": "execute_result",
          "data": {
            "text/html": [
              "<div>\n",
              "<style scoped>\n",
              "    .dataframe tbody tr th:only-of-type {\n",
              "        vertical-align: middle;\n",
              "    }\n",
              "\n",
              "    .dataframe tbody tr th {\n",
              "        vertical-align: top;\n",
              "    }\n",
              "\n",
              "    .dataframe thead th {\n",
              "        text-align: right;\n",
              "    }\n",
              "</style>\n",
              "<table border=\"1\" class=\"dataframe\">\n",
              "  <thead>\n",
              "    <tr style=\"text-align: right;\">\n",
              "      <th></th>\n",
              "      <th>movieId</th>\n",
              "      <th>vector</th>\n",
              "      <th>sim_val</th>\n",
              "      <th>title</th>\n",
              "      <th>genres</th>\n",
              "    </tr>\n",
              "  </thead>\n",
              "  <tbody>\n",
              "    <tr>\n",
              "      <th>5562</th>\n",
              "      <td>232</td>\n",
              "      <td>[0.062241263687610626, 0.11272577941417694, 0....</td>\n",
              "      <td>1.000000</td>\n",
              "      <td>Eat Drink Man Woman (Yin shi nan nu) (1994)</td>\n",
              "      <td>Comedy|Drama|Romance</td>\n",
              "    </tr>\n",
              "    <tr>\n",
              "      <th>5084</th>\n",
              "      <td>18</td>\n",
              "      <td>[0.08197536319494247, 0.11581863462924957, 0.1...</td>\n",
              "      <td>0.993196</td>\n",
              "      <td>Four Rooms (1995)</td>\n",
              "      <td>Comedy</td>\n",
              "    </tr>\n",
              "    <tr>\n",
              "      <th>5188</th>\n",
              "      <td>154</td>\n",
              "      <td>[0.08247482776641846, 0.10832800716161728, 0.1...</td>\n",
              "      <td>0.981957</td>\n",
              "      <td>Beauty of the Day (Belle de jour) (1967)</td>\n",
              "      <td>Drama</td>\n",
              "    </tr>\n",
              "    <tr>\n",
              "      <th>1249</th>\n",
              "      <td>44</td>\n",
              "      <td>[0.0698385015130043, 0.21564367413520813, 0.18...</td>\n",
              "      <td>0.980877</td>\n",
              "      <td>Mortal Kombat (1995)</td>\n",
              "      <td>Action|Adventure|Fantasy</td>\n",
              "    </tr>\n",
              "    <tr>\n",
              "      <th>5987</th>\n",
              "      <td>229</td>\n",
              "      <td>[0.06318800151348114, 0.08486676216125488, 0.1...</td>\n",
              "      <td>0.977822</td>\n",
              "      <td>Death and the Maiden (1994)</td>\n",
              "      <td>Drama|Thriller</td>\n",
              "    </tr>\n",
              "  </tbody>\n",
              "</table>\n",
              "</div>"
            ],
            "text/plain": [
              "     movieId  ...                    genres\n",
              "5562     232  ...      Comedy|Drama|Romance\n",
              "5084      18  ...                    Comedy\n",
              "5188     154  ...                     Drama\n",
              "1249      44  ...  Action|Adventure|Fantasy\n",
              "5987     229  ...            Drama|Thriller\n",
              "\n",
              "[5 rows x 5 columns]"
            ]
          },
          "metadata": {
            "tags": []
          },
          "execution_count": 66
        }
      ]
    },
    {
      "cell_type": "code",
      "metadata": {
        "colab": {
          "base_uri": "https://localhost:8080/",
          "height": 78
        },
        "id": "DkpZpWJb2pCZ",
        "outputId": "205a1b75-12cf-45e8-f076-db2c932a22f3"
      },
      "source": [
        "res = movie_merge.loc[movie_merge['movieId']=='232']\n",
        "res"
      ],
      "execution_count": null,
      "outputs": [
        {
          "output_type": "execute_result",
          "data": {
            "text/html": [
              "<div>\n",
              "<style scoped>\n",
              "    .dataframe tbody tr th:only-of-type {\n",
              "        vertical-align: middle;\n",
              "    }\n",
              "\n",
              "    .dataframe tbody tr th {\n",
              "        vertical-align: top;\n",
              "    }\n",
              "\n",
              "    .dataframe thead th {\n",
              "        text-align: right;\n",
              "    }\n",
              "</style>\n",
              "<table border=\"1\" class=\"dataframe\">\n",
              "  <thead>\n",
              "    <tr style=\"text-align: right;\">\n",
              "      <th></th>\n",
              "      <th>movieId</th>\n",
              "      <th>vector</th>\n",
              "      <th>sim_val</th>\n",
              "      <th>title</th>\n",
              "      <th>genres</th>\n",
              "    </tr>\n",
              "  </thead>\n",
              "  <tbody>\n",
              "    <tr>\n",
              "      <th>5562</th>\n",
              "      <td>232</td>\n",
              "      <td>[0.062241263687610626, 0.11272577941417694, 0....</td>\n",
              "      <td>1.0</td>\n",
              "      <td>Eat Drink Man Woman (Yin shi nan nu) (1994)</td>\n",
              "      <td>Comedy|Drama|Romance</td>\n",
              "    </tr>\n",
              "  </tbody>\n",
              "</table>\n",
              "</div>"
            ],
            "text/plain": [
              "     movieId  ...                genres\n",
              "5562     232  ...  Comedy|Drama|Romance\n",
              "\n",
              "[1 rows x 5 columns]"
            ]
          },
          "metadata": {
            "tags": []
          },
          "execution_count": 63
        }
      ]
    },
    {
      "cell_type": "markdown",
      "metadata": {
        "id": "PqF2r9Cbyioo"
      },
      "source": [
        "##Part4_3: Recommend Movie to User:232 With Tag Embedding"
      ]
    },
    {
      "cell_type": "markdown",
      "metadata": {
        "id": "Cd226bpKyyZa"
      },
      "source": [
        "**Step1:** Calulate each movie score to user.\n",
        "\n",
        "**Step2:** Rank all the movie score and select top 20."
      ]
    },
    {
      "cell_type": "code",
      "metadata": {
        "id": "M-xY5sJGzlvr"
      },
      "source": [
        "#load u2taf embedding\n",
        "u2tag_df = spark.read.csv('/content/drive/MyDrive/Projects/MovieRecommendation/Tag_u2tag.csv', header=True)\n",
        "\n",
        "#load movie2tag embedding\n",
        "norm_movie2genres_df = spark.read.csv('/content/drive/MyDrive/Projects/MovieRecommendation/Tag_norm_movie_gernes.csv', header=True )"
      ],
      "execution_count": null,
      "outputs": []
    },
    {
      "cell_type": "code",
      "metadata": {
        "colab": {
          "base_uri": "https://localhost:8080/"
        },
        "id": "raxR9rRvpWAg",
        "outputId": "eb5ea6a3-890b-43bb-b2e9-4fe26fe69c6b"
      },
      "source": [
        "#remove (no geres listed) column to match the matix size of user genre for computaion.\n",
        "norm_movie2genres_df = norm_movie2genres_df.drop('(no genres listed)')\n",
        "norm_movie2genres_df.show()"
      ],
      "execution_count": null,
      "outputs": [
        {
          "output_type": "stream",
          "text": [
            "+-------+---------+---------+--------+------+-------+-------+------+-----+--------+-------+------+-----+---+-------+------+-------+---------+----+-----------+\n",
            "|movieId|Adventure|Animation|Children|Comedy|Fantasy|Romance|Action|Crime|Thriller|Mystery|Horror|Drama|War|Western|Sci-Fi|Musical|Film-Noir|IMAX|Documentary|\n",
            "+-------+---------+---------+--------+------+-------+-------+------+-----+--------+-------+------+-----+---+-------+------+-------+---------+----+-----------+\n",
            "|      1|    0.794|      1.0|     1.0| 0.615|    1.0|    0.0|   0.0|  0.0|     0.0|    0.0|   0.0|  0.0|0.0|    0.0|   0.0|    0.0|      0.0| 0.0|        0.0|\n",
            "|    101|    0.081|      0.0|     0.0| 0.063|    0.0|  0.063|   0.0|0.062|     0.0|    0.0|   0.0|  0.0|0.0|    0.0|   0.0|    0.0|      0.0| 0.0|        0.0|\n",
            "|    231|    0.383|      0.0|     0.0| 0.297|    0.0|    0.0|   0.0|  0.0|     0.0|    0.0|   0.0|  0.0|0.0|    0.0|   0.0|    0.0|      0.0| 0.0|        0.0|\n",
            "|    260|      1.0|      0.0|     0.0|   0.0|    0.0|    0.0| 0.911|  0.0|     0.0|    0.0|   0.0|  0.0|0.0|    0.0| 0.911|    0.0|      0.0| 0.0|        0.0|\n",
            "|    316|    0.445|      0.0|     0.0|   0.0|    0.0|    0.0| 0.405|  0.0|     0.0|    0.0|   0.0|  0.0|0.0|    0.0| 0.405|    0.0|      0.0| 0.0|        0.0|\n",
            "|    362|    0.113|      0.0|   0.142|   0.0|    0.0|  0.087|   0.0|  0.0|     0.0|    0.0|   0.0|  0.0|0.0|    0.0|   0.0|    0.0|      0.0| 0.0|        0.0|\n",
            "|    480|     0.84|      0.0|     0.0|   0.0|    0.0|    0.0| 0.766|  0.0|   0.693|    0.0|   0.0|  0.0|0.0|    0.0| 0.766|    0.0|      0.0| 0.0|        0.0|\n",
            "|    552|    0.187|      0.0|     0.0| 0.145|    0.0|  0.145|  0.17|  0.0|     0.0|    0.0|   0.0|  0.0|0.0|    0.0|   0.0|    0.0|      0.0| 0.0|        0.0|\n",
            "|    590|    0.592|      0.0|     0.0|   0.0|    0.0|    0.0|   0.0|  0.0|     0.0|    0.0|   0.0|0.448|0.0|    1.0|   0.0|    0.0|      0.0| 0.0|        0.0|\n",
            "|    648|    0.539|      0.0|     0.0|   0.0|    0.0|    0.0| 0.491|  0.0|   0.444|  0.663|   0.0|  0.0|0.0|    0.0|   0.0|    0.0|      0.0| 0.0|        0.0|\n",
            "|    661|    0.159|      0.2|     0.2|   0.0|    0.2|    0.0|   0.0|  0.0|     0.0|    0.0|   0.0|  0.0|0.0|    0.0|   0.0|  0.243|      0.0| 0.0|        0.0|\n",
            "|    673|    0.135|     0.17|    0.17| 0.104|   0.17|    0.0|   0.0|  0.0|     0.0|    0.0|   0.0|  0.0|0.0|    0.0| 0.123|    0.0|      0.0| 0.0|        0.0|\n",
            "|    733|    0.415|      0.0|     0.0|   0.0|    0.0|    0.0| 0.378|  0.0|   0.342|    0.0|   0.0|  0.0|0.0|    0.0|   0.0|    0.0|      0.0| 0.0|        0.0|\n",
            "|    736|    0.384|      0.0|     0.0|   0.0|    0.0|  0.298|  0.35|  0.0|   0.317|    0.0|   0.0|  0.0|0.0|    0.0|   0.0|    0.0|      0.0| 0.0|        0.0|\n",
            "|    780|    0.655|      0.0|     0.0|   0.0|    0.0|    0.0| 0.597|  0.0|    0.54|    0.0|   0.0|  0.0|0.0|    0.0| 0.597|    0.0|      0.0| 0.0|        0.0|\n",
            "|    919|    0.336|      0.0|   0.423|   0.0|  0.423|    0.0|   0.0|  0.0|     0.0|    0.0|   0.0|  0.0|0.0|    0.0|   0.0|  0.514|      0.0| 0.0|        0.0|\n",
            "|    940|     0.03|      0.0|     0.0|   0.0|    0.0|  0.023| 0.027|  0.0|     0.0|    0.0|   0.0|  0.0|0.0|    0.0|   0.0|    0.0|      0.0| 0.0|        0.0|\n",
            "|   1009|    0.025|      0.0|   0.032|   0.0|  0.032|    0.0|   0.0|  0.0|     0.0|    0.0|   0.0|  0.0|0.0|    0.0|   0.0|    0.0|      0.0| 0.0|        0.0|\n",
            "|   1030|    0.039|    0.049|   0.049|   0.0|    0.0|    0.0|   0.0|  0.0|     0.0|    0.0|   0.0|  0.0|0.0|    0.0|   0.0|  0.059|      0.0| 0.0|        0.0|\n",
            "|   1031|    0.078|      0.0|   0.099|   0.0|    0.0|    0.0|   0.0|  0.0|     0.0|    0.0|   0.0|  0.0|0.0|    0.0|   0.0|   0.12|      0.0| 0.0|        0.0|\n",
            "+-------+---------+---------+--------+------+-------+-------+------+-----+--------+-------+------+-----+---+-------+------+-------+---------+----+-----------+\n",
            "only showing top 20 rows\n",
            "\n"
          ],
          "name": "stdout"
        }
      ]
    },
    {
      "cell_type": "code",
      "metadata": {
        "colab": {
          "base_uri": "https://localhost:8080/"
        },
        "id": "7CHVqM_99Uvj",
        "outputId": "3f03564c-bd53-413c-de7d-5898c5602eb5"
      },
      "source": [
        "from pyspark.sql import functions as F\n",
        "from pyspark.sql import types as T\n",
        "\n",
        "#Convert u2tag into array by F.split()\n",
        "u2tag_df = u2tag_df.withColumn('u2tag_vector', F.split(u2tag_df.u2tag, ','))\n",
        "\n",
        "#Drop the original u2tag column\n",
        "u2tag_df = u2tag_df.drop('u2tag')\n",
        "u2tag_df.show(truncate=False)"
      ],
      "execution_count": null,
      "outputs": [
        {
          "output_type": "stream",
          "text": [
            "+------+---------------------------------------------------------------------------------------------------------------------------------+\n",
            "|userId|u2tag_vector                                                                                                                     |\n",
            "+------+---------------------------------------------------------------------------------------------------------------------------------+\n",
            "|1     |[0.959, 0.35, 0.491, 0.913, 0.519, 0.288, 1.0, 0.504, 0.586, 0.193, 0.152, 0.792, 0.254, 0.077, 0.434, 0.265, 0.013, 0.0, 0.0]   |\n",
            "|2     |[0.189, 0.0, 0.0, 0.424, 0.0, 0.068, 0.659, 0.576, 0.561, 0.121, 0.045, 1.0, 0.068, 0.053, 0.235, 0.0, 0.0, 0.227, 0.197]        |\n",
            "|3     |[0.476, 0.032, 0.04, 0.143, 0.214, 0.04, 0.794, 0.016, 0.46, 0.079, 0.595, 0.19, 0.04, 0.0, 1.0, 0.008, 0.0, 0.0, 0.0]           |\n",
            "|4     |[0.248, 0.051, 0.084, 0.872, 0.161, 0.465, 0.193, 0.241, 0.318, 0.186, 0.034, 1.0, 0.053, 0.084, 0.075, 0.147, 0.031, 0.0, 0.012]|\n",
            "|5     |[0.274, 0.274, 0.389, 0.547, 0.305, 0.358, 0.295, 0.484, 0.337, 0.042, 0.032, 1.0, 0.105, 0.063, 0.053, 0.232, 0.0, 0.116, 0.0]  |\n",
            "|6     |[0.362, 0.113, 0.336, 0.846, 0.182, 0.5, 0.457, 0.227, 0.476, 0.111, 0.123, 1.0, 0.085, 0.083, 0.144, 0.099, 0.01, 0.028, 0.0]   |\n",
            "|7     |[0.859, 0.228, 0.23, 0.743, 0.338, 0.381, 1.0, 0.412, 0.707, 0.213, 0.096, 0.856, 0.189, 0.007, 0.635, 0.158, 0.031, 0.129, 0.0] |\n",
            "|8     |[0.506, 0.065, 0.221, 1.0, 0.169, 0.636, 0.519, 0.455, 0.779, 0.156, 0.117, 0.935, 0.143, 0.078, 0.169, 0.065, 0.0, 0.117, 0.0]  |\n",
            "|9     |[0.528, 0.056, 0.056, 0.764, 0.139, 0.264, 0.347, 0.306, 0.389, 0.167, 0.125, 1.0, 0.097, 0.056, 0.333, 0.042, 0.056, 0.042, 0.0]|\n",
            "|10    |[0.427, 0.223, 0.194, 0.992, 0.225, 1.0, 0.35, 0.156, 0.154, 0.025, 0.013, 0.873, 0.058, 0.0, 0.038, 0.115, 0.0, 0.233, 0.0]     |\n",
            "|11    |[0.393, 0.0, 0.0, 0.252, 0.012, 0.337, 1.0, 0.294, 0.718, 0.08, 0.031, 0.613, 0.16, 0.049, 0.215, 0.0, 0.0, 0.031, 0.0]          |\n",
            "|12    |[0.062, 0.031, 0.0, 0.807, 0.177, 1.0, 0.083, 0.031, 0.125, 0.0, 0.0, 0.76, 0.047, 0.0, 0.141, 0.0, 0.0, 0.0, 0.0]               |\n",
            "|13    |[0.446, 0.0, 0.0, 0.643, 0.054, 0.393, 0.75, 0.196, 0.75, 0.161, 0.357, 1.0, 0.125, 0.071, 0.375, 0.0, 0.0, 0.0, 0.0]            |\n",
            "|14    |[0.348, 0.0, 0.067, 0.517, 0.011, 0.562, 0.449, 0.213, 0.506, 0.101, 0.045, 1.0, 0.191, 0.191, 0.079, 0.045, 0.0, 0.045, 0.0]    |\n",
            "|15    |[0.901, 0.307, 0.267, 0.444, 0.22, 0.239, 0.894, 0.322, 0.714, 0.194, 0.199, 0.955, 0.097, 0.024, 1.0, 0.064, 0.0, 0.281, 0.0]   |\n",
            "|16    |[0.422, 0.265, 0.179, 0.522, 0.352, 0.265, 0.492, 0.503, 0.615, 0.274, 0.098, 1.0, 0.226, 0.017, 0.33, 0.0, 0.112, 0.092, 0.022] |\n",
            "|17    |[0.698, 0.193, 0.124, 0.36, 0.333, 0.114, 0.769, 0.631, 0.533, 0.176, 0.043, 1.0, 0.174, 0.105, 0.402, 0.04, 0.019, 0.102, 0.0]  |\n",
            "|18    |[0.593, 0.105, 0.114, 0.597, 0.194, 0.16, 0.879, 0.626, 0.746, 0.238, 0.023, 1.0, 0.039, 0.018, 0.452, 0.017, 0.0, 0.128, 0.006] |\n",
            "|19    |[0.443, 0.141, 0.276, 1.0, 0.273, 0.36, 0.41, 0.209, 0.518, 0.172, 0.255, 0.395, 0.027, 0.028, 0.326, 0.105, 0.03, 0.003, 0.0]   |\n",
            "|20    |[0.681, 0.625, 1.0, 0.888, 0.425, 0.365, 0.296, 0.184, 0.23, 0.116, 0.083, 0.622, 0.029, 0.003, 0.161, 0.565, 0.0, 0.05, 0.014]  |\n",
            "+------+---------------------------------------------------------------------------------------------------------------------------------+\n",
            "only showing top 20 rows\n",
            "\n"
          ],
          "name": "stdout"
        }
      ]
    },
    {
      "cell_type": "code",
      "metadata": {
        "id": "zqVYwGgZweIP"
      },
      "source": [
        "#convert spark dataframe to koala dataframe\n",
        "u2tag_pdf = u2tag_df.toPandas()\n",
        "norm_movie2genres_pdf = norm_movie2genres_df.toPandas()"
      ],
      "execution_count": null,
      "outputs": []
    },
    {
      "cell_type": "code",
      "metadata": {
        "colab": {
          "base_uri": "https://localhost:8080/",
          "height": 235
        },
        "id": "M_u6zSDQ-EIh",
        "outputId": "fc5451de-790a-4dbd-a1b7-6da66bee1db8"
      },
      "source": [
        "norm_movie2genres_pdf.head()"
      ],
      "execution_count": null,
      "outputs": [
        {
          "output_type": "execute_result",
          "data": {
            "text/html": [
              "<div>\n",
              "<style scoped>\n",
              "    .dataframe tbody tr th:only-of-type {\n",
              "        vertical-align: middle;\n",
              "    }\n",
              "\n",
              "    .dataframe tbody tr th {\n",
              "        vertical-align: top;\n",
              "    }\n",
              "\n",
              "    .dataframe thead th {\n",
              "        text-align: right;\n",
              "    }\n",
              "</style>\n",
              "<table border=\"1\" class=\"dataframe\">\n",
              "  <thead>\n",
              "    <tr style=\"text-align: right;\">\n",
              "      <th></th>\n",
              "      <th>movieId</th>\n",
              "      <th>Adventure</th>\n",
              "      <th>Animation</th>\n",
              "      <th>Children</th>\n",
              "      <th>Comedy</th>\n",
              "      <th>Fantasy</th>\n",
              "      <th>Romance</th>\n",
              "      <th>Action</th>\n",
              "      <th>Crime</th>\n",
              "      <th>Thriller</th>\n",
              "      <th>Mystery</th>\n",
              "      <th>Horror</th>\n",
              "      <th>Drama</th>\n",
              "      <th>War</th>\n",
              "      <th>Western</th>\n",
              "      <th>Sci-Fi</th>\n",
              "      <th>Musical</th>\n",
              "      <th>Film-Noir</th>\n",
              "      <th>IMAX</th>\n",
              "      <th>Documentary</th>\n",
              "    </tr>\n",
              "  </thead>\n",
              "  <tbody>\n",
              "    <tr>\n",
              "      <th>0</th>\n",
              "      <td>1</td>\n",
              "      <td>0.794</td>\n",
              "      <td>1.0</td>\n",
              "      <td>1.0</td>\n",
              "      <td>0.615</td>\n",
              "      <td>1.0</td>\n",
              "      <td>0.0</td>\n",
              "      <td>0.0</td>\n",
              "      <td>0.0</td>\n",
              "      <td>0.0</td>\n",
              "      <td>0.0</td>\n",
              "      <td>0.0</td>\n",
              "      <td>0.0</td>\n",
              "      <td>0.0</td>\n",
              "      <td>0.0</td>\n",
              "      <td>0.0</td>\n",
              "      <td>0.0</td>\n",
              "      <td>0.0</td>\n",
              "      <td>0.0</td>\n",
              "      <td>0.0</td>\n",
              "    </tr>\n",
              "    <tr>\n",
              "      <th>1</th>\n",
              "      <td>101</td>\n",
              "      <td>0.081</td>\n",
              "      <td>0.0</td>\n",
              "      <td>0.0</td>\n",
              "      <td>0.063</td>\n",
              "      <td>0.0</td>\n",
              "      <td>0.063</td>\n",
              "      <td>0.0</td>\n",
              "      <td>0.062</td>\n",
              "      <td>0.0</td>\n",
              "      <td>0.0</td>\n",
              "      <td>0.0</td>\n",
              "      <td>0.0</td>\n",
              "      <td>0.0</td>\n",
              "      <td>0.0</td>\n",
              "      <td>0.0</td>\n",
              "      <td>0.0</td>\n",
              "      <td>0.0</td>\n",
              "      <td>0.0</td>\n",
              "      <td>0.0</td>\n",
              "    </tr>\n",
              "    <tr>\n",
              "      <th>2</th>\n",
              "      <td>231</td>\n",
              "      <td>0.383</td>\n",
              "      <td>0.0</td>\n",
              "      <td>0.0</td>\n",
              "      <td>0.297</td>\n",
              "      <td>0.0</td>\n",
              "      <td>0.0</td>\n",
              "      <td>0.0</td>\n",
              "      <td>0.0</td>\n",
              "      <td>0.0</td>\n",
              "      <td>0.0</td>\n",
              "      <td>0.0</td>\n",
              "      <td>0.0</td>\n",
              "      <td>0.0</td>\n",
              "      <td>0.0</td>\n",
              "      <td>0.0</td>\n",
              "      <td>0.0</td>\n",
              "      <td>0.0</td>\n",
              "      <td>0.0</td>\n",
              "      <td>0.0</td>\n",
              "    </tr>\n",
              "    <tr>\n",
              "      <th>3</th>\n",
              "      <td>260</td>\n",
              "      <td>1.0</td>\n",
              "      <td>0.0</td>\n",
              "      <td>0.0</td>\n",
              "      <td>0.0</td>\n",
              "      <td>0.0</td>\n",
              "      <td>0.0</td>\n",
              "      <td>0.911</td>\n",
              "      <td>0.0</td>\n",
              "      <td>0.0</td>\n",
              "      <td>0.0</td>\n",
              "      <td>0.0</td>\n",
              "      <td>0.0</td>\n",
              "      <td>0.0</td>\n",
              "      <td>0.0</td>\n",
              "      <td>0.911</td>\n",
              "      <td>0.0</td>\n",
              "      <td>0.0</td>\n",
              "      <td>0.0</td>\n",
              "      <td>0.0</td>\n",
              "    </tr>\n",
              "    <tr>\n",
              "      <th>4</th>\n",
              "      <td>316</td>\n",
              "      <td>0.445</td>\n",
              "      <td>0.0</td>\n",
              "      <td>0.0</td>\n",
              "      <td>0.0</td>\n",
              "      <td>0.0</td>\n",
              "      <td>0.0</td>\n",
              "      <td>0.405</td>\n",
              "      <td>0.0</td>\n",
              "      <td>0.0</td>\n",
              "      <td>0.0</td>\n",
              "      <td>0.0</td>\n",
              "      <td>0.0</td>\n",
              "      <td>0.0</td>\n",
              "      <td>0.0</td>\n",
              "      <td>0.405</td>\n",
              "      <td>0.0</td>\n",
              "      <td>0.0</td>\n",
              "      <td>0.0</td>\n",
              "      <td>0.0</td>\n",
              "    </tr>\n",
              "  </tbody>\n",
              "</table>\n",
              "</div>"
            ],
            "text/plain": [
              "  movieId Adventure Animation Children  ... Musical Film-Noir IMAX Documentary\n",
              "0       1     0.794       1.0      1.0  ...     0.0       0.0  0.0         0.0\n",
              "1     101     0.081       0.0      0.0  ...     0.0       0.0  0.0         0.0\n",
              "2     231     0.383       0.0      0.0  ...     0.0       0.0  0.0         0.0\n",
              "3     260       1.0       0.0      0.0  ...     0.0       0.0  0.0         0.0\n",
              "4     316     0.445       0.0      0.0  ...     0.0       0.0  0.0         0.0\n",
              "\n",
              "[5 rows x 20 columns]"
            ]
          },
          "metadata": {
            "tags": []
          },
          "execution_count": 117
        }
      ]
    },
    {
      "cell_type": "code",
      "metadata": {
        "colab": {
          "base_uri": "https://localhost:8080/"
        },
        "id": "m-PDveHVvISs",
        "outputId": "763e1601-7cbf-46a0-d00c-1be019297efb"
      },
      "source": [
        "#get the user 232 tag embedding vector\n",
        "u2tag_232 = u2tag_pdf[u2tag_pdf['userId']=='232']['u2tag_vector']\n",
        "u2tag_232 = [float(x) for x in u2tag_232.item()]\n",
        "\n",
        "#convert to numpy array and convert str to float for operation\n",
        "u2tag_232_np = np.array(u2tag_232).astype(float)\n",
        "u2tag_232_np"
      ],
      "execution_count": null,
      "outputs": [
        {
          "output_type": "execute_result",
          "data": {
            "text/plain": [
              "array([0.547, 0.178, 0.298, 1.   , 0.31 , 0.432, 0.788, 0.388, 0.703,\n",
              "       0.178, 0.199, 0.99 , 0.105, 0.016, 0.344, 0.124, 0.   , 0.113,\n",
              "       0.039])"
            ]
          },
          "metadata": {
            "tags": []
          },
          "execution_count": 118
        }
      ]
    },
    {
      "cell_type": "code",
      "metadata": {
        "colab": {
          "base_uri": "https://localhost:8080/"
        },
        "id": "J3eBAbde9afI",
        "outputId": "5f3c0f5f-24f1-4f5f-8e84-57bcc9f49d4f"
      },
      "source": [
        "#drop movieId in movie2tag dataframe to match matrix size for computation\n",
        "#convert to numpy array for matix multiplication \n",
        "norm_movie2genres_np = np.array(norm_movie2genres_pdf.drop(['movieId'], axis=1))\n",
        "\n",
        "#change type from str to float\n",
        "norm_movie2genres_np = norm_movie2genres_np.astype(float)\n",
        "norm_movie2genres_np"
      ],
      "execution_count": null,
      "outputs": [
        {
          "output_type": "execute_result",
          "data": {
            "text/plain": [
              "array([[0.794, 1.   , 1.   , ..., 0.   , 0.   , 0.   ],\n",
              "       [0.081, 0.   , 0.   , ..., 0.   , 0.   , 0.   ],\n",
              "       [0.383, 0.   , 0.   , ..., 0.   , 0.   , 0.   ],\n",
              "       ...,\n",
              "       [0.   , 0.   , 0.   , ..., 0.   , 0.   , 0.   ],\n",
              "       [0.   , 0.   , 0.   , ..., 0.   , 0.   , 0.   ],\n",
              "       [0.   , 0.   , 0.   , ..., 0.   , 0.   , 0.   ]])"
            ]
          },
          "metadata": {
            "tags": []
          },
          "execution_count": 119
        }
      ]
    },
    {
      "cell_type": "code",
      "metadata": {
        "colab": {
          "base_uri": "https://localhost:8080/"
        },
        "id": "IGZm0Vu4-uu2",
        "outputId": "34da7422-7b43-488b-9aa9-7b37984b4c80"
      },
      "source": [
        "#calculate score by operating dot product\n",
        "score = np.round(np.dot(norm_movie2genres_np, u2tag_232_np), 3)\n",
        "score"
      ],
      "execution_count": null,
      "outputs": [
        {
          "output_type": "execute_result",
          "data": {
            "text/plain": [
              "array([1.835, 0.159, 0.507, ..., 0.   , 0.   , 0.   ])"
            ]
          },
          "metadata": {
            "tags": []
          },
          "execution_count": 120
        }
      ]
    },
    {
      "cell_type": "code",
      "metadata": {
        "colab": {
          "base_uri": "https://localhost:8080/",
          "height": 235
        },
        "id": "euKmQqs92wXS",
        "outputId": "ec0a530b-7192-48ea-a5a2-ee27a2b20637"
      },
      "source": [
        "#create new column for score\n",
        "norm_movie2genres_pdf['u2tag2i_score'] = score\n",
        "norm_movie2genres_pdf.head()"
      ],
      "execution_count": null,
      "outputs": [
        {
          "output_type": "execute_result",
          "data": {
            "text/html": [
              "<div>\n",
              "<style scoped>\n",
              "    .dataframe tbody tr th:only-of-type {\n",
              "        vertical-align: middle;\n",
              "    }\n",
              "\n",
              "    .dataframe tbody tr th {\n",
              "        vertical-align: top;\n",
              "    }\n",
              "\n",
              "    .dataframe thead th {\n",
              "        text-align: right;\n",
              "    }\n",
              "</style>\n",
              "<table border=\"1\" class=\"dataframe\">\n",
              "  <thead>\n",
              "    <tr style=\"text-align: right;\">\n",
              "      <th></th>\n",
              "      <th>movieId</th>\n",
              "      <th>Adventure</th>\n",
              "      <th>Animation</th>\n",
              "      <th>Children</th>\n",
              "      <th>Comedy</th>\n",
              "      <th>Fantasy</th>\n",
              "      <th>Romance</th>\n",
              "      <th>Action</th>\n",
              "      <th>Crime</th>\n",
              "      <th>Thriller</th>\n",
              "      <th>Mystery</th>\n",
              "      <th>Horror</th>\n",
              "      <th>Drama</th>\n",
              "      <th>War</th>\n",
              "      <th>Western</th>\n",
              "      <th>Sci-Fi</th>\n",
              "      <th>Musical</th>\n",
              "      <th>Film-Noir</th>\n",
              "      <th>IMAX</th>\n",
              "      <th>Documentary</th>\n",
              "      <th>u2tag2i_score</th>\n",
              "    </tr>\n",
              "  </thead>\n",
              "  <tbody>\n",
              "    <tr>\n",
              "      <th>0</th>\n",
              "      <td>1</td>\n",
              "      <td>0.794</td>\n",
              "      <td>1.0</td>\n",
              "      <td>1.0</td>\n",
              "      <td>0.615</td>\n",
              "      <td>1.0</td>\n",
              "      <td>0.0</td>\n",
              "      <td>0.0</td>\n",
              "      <td>0.0</td>\n",
              "      <td>0.0</td>\n",
              "      <td>0.0</td>\n",
              "      <td>0.0</td>\n",
              "      <td>0.0</td>\n",
              "      <td>0.0</td>\n",
              "      <td>0.0</td>\n",
              "      <td>0.0</td>\n",
              "      <td>0.0</td>\n",
              "      <td>0.0</td>\n",
              "      <td>0.0</td>\n",
              "      <td>0.0</td>\n",
              "      <td>1.835</td>\n",
              "    </tr>\n",
              "    <tr>\n",
              "      <th>1</th>\n",
              "      <td>101</td>\n",
              "      <td>0.081</td>\n",
              "      <td>0.0</td>\n",
              "      <td>0.0</td>\n",
              "      <td>0.063</td>\n",
              "      <td>0.0</td>\n",
              "      <td>0.063</td>\n",
              "      <td>0.0</td>\n",
              "      <td>0.062</td>\n",
              "      <td>0.0</td>\n",
              "      <td>0.0</td>\n",
              "      <td>0.0</td>\n",
              "      <td>0.0</td>\n",
              "      <td>0.0</td>\n",
              "      <td>0.0</td>\n",
              "      <td>0.0</td>\n",
              "      <td>0.0</td>\n",
              "      <td>0.0</td>\n",
              "      <td>0.0</td>\n",
              "      <td>0.0</td>\n",
              "      <td>0.159</td>\n",
              "    </tr>\n",
              "    <tr>\n",
              "      <th>2</th>\n",
              "      <td>231</td>\n",
              "      <td>0.383</td>\n",
              "      <td>0.0</td>\n",
              "      <td>0.0</td>\n",
              "      <td>0.297</td>\n",
              "      <td>0.0</td>\n",
              "      <td>0.0</td>\n",
              "      <td>0.0</td>\n",
              "      <td>0.0</td>\n",
              "      <td>0.0</td>\n",
              "      <td>0.0</td>\n",
              "      <td>0.0</td>\n",
              "      <td>0.0</td>\n",
              "      <td>0.0</td>\n",
              "      <td>0.0</td>\n",
              "      <td>0.0</td>\n",
              "      <td>0.0</td>\n",
              "      <td>0.0</td>\n",
              "      <td>0.0</td>\n",
              "      <td>0.0</td>\n",
              "      <td>0.507</td>\n",
              "    </tr>\n",
              "    <tr>\n",
              "      <th>3</th>\n",
              "      <td>260</td>\n",
              "      <td>1.0</td>\n",
              "      <td>0.0</td>\n",
              "      <td>0.0</td>\n",
              "      <td>0.0</td>\n",
              "      <td>0.0</td>\n",
              "      <td>0.0</td>\n",
              "      <td>0.911</td>\n",
              "      <td>0.0</td>\n",
              "      <td>0.0</td>\n",
              "      <td>0.0</td>\n",
              "      <td>0.0</td>\n",
              "      <td>0.0</td>\n",
              "      <td>0.0</td>\n",
              "      <td>0.0</td>\n",
              "      <td>0.911</td>\n",
              "      <td>0.0</td>\n",
              "      <td>0.0</td>\n",
              "      <td>0.0</td>\n",
              "      <td>0.0</td>\n",
              "      <td>1.578</td>\n",
              "    </tr>\n",
              "    <tr>\n",
              "      <th>4</th>\n",
              "      <td>316</td>\n",
              "      <td>0.445</td>\n",
              "      <td>0.0</td>\n",
              "      <td>0.0</td>\n",
              "      <td>0.0</td>\n",
              "      <td>0.0</td>\n",
              "      <td>0.0</td>\n",
              "      <td>0.405</td>\n",
              "      <td>0.0</td>\n",
              "      <td>0.0</td>\n",
              "      <td>0.0</td>\n",
              "      <td>0.0</td>\n",
              "      <td>0.0</td>\n",
              "      <td>0.0</td>\n",
              "      <td>0.0</td>\n",
              "      <td>0.405</td>\n",
              "      <td>0.0</td>\n",
              "      <td>0.0</td>\n",
              "      <td>0.0</td>\n",
              "      <td>0.0</td>\n",
              "      <td>0.702</td>\n",
              "    </tr>\n",
              "  </tbody>\n",
              "</table>\n",
              "</div>"
            ],
            "text/plain": [
              "  movieId Adventure Animation  ... IMAX Documentary u2tag2i_score\n",
              "0       1     0.794       1.0  ...  0.0         0.0         1.835\n",
              "1     101     0.081       0.0  ...  0.0         0.0         0.159\n",
              "2     231     0.383       0.0  ...  0.0         0.0         0.507\n",
              "3     260       1.0       0.0  ...  0.0         0.0         1.578\n",
              "4     316     0.445       0.0  ...  0.0         0.0         0.702\n",
              "\n",
              "[5 rows x 21 columns]"
            ]
          },
          "metadata": {
            "tags": []
          },
          "execution_count": 121
        }
      ]
    },
    {
      "cell_type": "markdown",
      "metadata": {
        "id": "TEgAI8iLB4Eh"
      },
      "source": [
        "**Note:**Score that shows how user like each movie."
      ]
    },
    {
      "cell_type": "code",
      "metadata": {
        "colab": {
          "base_uri": "https://localhost:8080/"
        },
        "id": "UWA-HcGYCS2H",
        "outputId": "a03d2fca-9087-4828-a7a2-5bb7f1105a51"
      },
      "source": [
        "#Recommend top 20 movies\n",
        "norm_movie2genres_df = spark.createDataFrame(norm_movie2genres_pdf)\n",
        "\n",
        "#Select only movieId and score columns and sort by score\n",
        "res_232 = norm_movie2genres_df[['movieId','u2tag2i_score']].join(movies_df, on='movieId').orderBy(norm_movie2genres_df.u2tag2i_score.desc())\n",
        "res_232.show(truncate=False)"
      ],
      "execution_count": null,
      "outputs": [
        {
          "output_type": "stream",
          "text": [
            "+-------+-------------+-------------------------------------------------------------+---------------------------------------------------+\n",
            "|movieId|u2tag2i_score|title                                                        |genres                                             |\n",
            "+-------+-------------+-------------------------------------------------------------+---------------------------------------------------+\n",
            "|296    |2.908        |Pulp Fiction (1994)                                          |Comedy|Crime|Drama|Thriller                        |\n",
            "|356    |2.503        |Forrest Gump (1994)                                          |Comedy|Drama|Romance|War                           |\n",
            "|2959   |2.051        |Fight Club (1999)                                            |Action|Crime|Drama|Thriller                        |\n",
            "|1      |1.835        |Toy Story (1995)                                             |Adventure|Animation|Children|Comedy|Fantasy        |\n",
            "|480    |1.814        |Jurassic Park (1993)                                         |Action|Adventure|Sci-Fi|Thriller                   |\n",
            "|2571   |1.768        |Matrix, The (1999)                                           |Action|Sci-Fi|Thriller                             |\n",
            "|380    |1.731        |True Lies (1994)                                             |Action|Adventure|Comedy|Romance|Thriller           |\n",
            "|7153   |1.725        |Lord of the Rings: The Return of the King, The (2003)        |Action|Adventure|Drama|Fantasy                     |\n",
            "|608    |1.681        |Fargo (1996)                                                 |Comedy|Crime|Drama|Thriller                        |\n",
            "|79132  |1.657        |Inception (2010)                                             |Action|Crime|Drama|Mystery|Sci-Fi|Thriller|IMAX    |\n",
            "|4306   |1.639        |Shrek (2001)                                                 |Adventure|Animation|Children|Comedy|Fantasy|Romance|\n",
            "|260    |1.578        |Star Wars: Episode IV - A New Hope (1977)                    |Action|Adventure|Sci-Fi                            |\n",
            "|1197   |1.564        |Princess Bride, The (1987)                                   |Action|Adventure|Comedy|Fantasy|Romance            |\n",
            "|364    |1.43         |Lion King, The (1994)                                        |Adventure|Animation|Children|Drama|Musical|IMAX    |\n",
            "|780    |1.414        |Independence Day (a.k.a. ID4) (1996)                         |Action|Adventure|Sci-Fi|Thriller                   |\n",
            "|110    |1.393        |Braveheart (1995)                                            |Action|Drama|War                                   |\n",
            "|588    |1.379        |Aladdin (1992)                                               |Adventure|Animation|Children|Comedy|Musical        |\n",
            "|318    |1.378        |Shawshank Redemption, The (1994)                             |Crime|Drama                                        |\n",
            "|1196   |1.322        |Star Wars: Episode V - The Empire Strikes Back (1980)        |Action|Adventure|Sci-Fi                            |\n",
            "|6539   |1.289        |Pirates of the Caribbean: The Curse of the Black Pearl (2003)|Action|Adventure|Comedy|Fantasy                    |\n",
            "+-------+-------------+-------------------------------------------------------------+---------------------------------------------------+\n",
            "only showing top 20 rows\n",
            "\n"
          ],
          "name": "stdout"
        }
      ]
    },
    {
      "cell_type": "markdown",
      "metadata": {
        "id": "P4cKZJlS4xMQ"
      },
      "source": [
        "##Part4_4: Resolve User Cold Start Issue  \n",
        "\n",
        "Find the most popupar/top rate movies in each geren from movie tag embedding to recommend."
      ]
    },
    {
      "cell_type": "markdown",
      "metadata": {
        "id": "I-4tEav1dKKQ"
      },
      "source": [
        "###Return Top 10 Most Popular Moviex for Each Genre"
      ]
    },
    {
      "cell_type": "code",
      "metadata": {
        "id": "jzWAlL9bI-Pi"
      },
      "source": [
        "#build a function to return top 10 most popular movie for genre\n",
        "def hot_genre(hot_genre_dic, movies_kdf, genre, top_num):\n",
        "  #find the top movies in the genre and sort in descending order\n",
        "  res = sorted(genre_hots[genre].items(), key=lambda x: x[1], reverse=True)[:top_num]\n",
        " \n",
        "  #convert result from tuple to dictionary format then to dataframe\n",
        "  top_pd = pd.DataFrame.from_dict(dict(res), orient='index', columns=['popularity_score']).reset_index().rename(columns={'index':'movieId'})\n",
        "  top_kdf = ks.from_pandas(top_pd)\n",
        "  \n",
        "  #merge result dataframe with movie metadata\n",
        "  top_movies_genre_pd = ks.merge(top_kdf, movies_kdf, on='movieId')\n",
        "  return top_movies_genre_pd"
      ],
      "execution_count": null,
      "outputs": []
    },
    {
      "cell_type": "code",
      "metadata": {
        "colab": {
          "base_uri": "https://localhost:8080/",
          "height": 789
        },
        "id": "M1iH-wigiITh",
        "outputId": "925ec8ff-533b-486c-9d7d-0b5c4a5a6d9b"
      },
      "source": [
        "#Show most popular movie in Mystery \n",
        " hot_genre(hot_genre, movies_kdf, 'Mystery', 20)"
      ],
      "execution_count": null,
      "outputs": [
        {
          "output_type": "stream",
          "text": [
            "[(50, 1.0), (47, 0.933), (32, 0.815), (2762, 0.806), (4226, 0.758), (79132, 0.672), (648, 0.663), (1089, 0.637), (5445, 0.505), (4878, 0.502), (5418, 0.494), (1617, 0.455), (48780, 0.417), (904, 0.414), (2987, 0.4), (32587, 0.374), (1625, 0.329), (923, 0.322), (74458, 0.311), (1252, 0.287)]\n",
            "   movieId  popularity_score\n",
            "0       50             1.000\n",
            "1       47             0.933\n",
            "2       32             0.815\n",
            "3     2762             0.806\n",
            "4     4226             0.758\n"
          ],
          "name": "stdout"
        },
        {
          "output_type": "execute_result",
          "data": {
            "text/html": [
              "<div>\n",
              "<style scoped>\n",
              "    .dataframe tbody tr th:only-of-type {\n",
              "        vertical-align: middle;\n",
              "    }\n",
              "\n",
              "    .dataframe tbody tr th {\n",
              "        vertical-align: top;\n",
              "    }\n",
              "\n",
              "    .dataframe thead th {\n",
              "        text-align: right;\n",
              "    }\n",
              "</style>\n",
              "<table border=\"1\" class=\"dataframe\">\n",
              "  <thead>\n",
              "    <tr style=\"text-align: right;\">\n",
              "      <th></th>\n",
              "      <th>movieId</th>\n",
              "      <th>popularity_score</th>\n",
              "      <th>title</th>\n",
              "      <th>genres</th>\n",
              "    </tr>\n",
              "  </thead>\n",
              "  <tbody>\n",
              "    <tr>\n",
              "      <th>0</th>\n",
              "      <td>50</td>\n",
              "      <td>1.000</td>\n",
              "      <td>Usual Suspects, The (1995)</td>\n",
              "      <td>Crime|Mystery|Thriller</td>\n",
              "    </tr>\n",
              "    <tr>\n",
              "      <th>1</th>\n",
              "      <td>47</td>\n",
              "      <td>0.933</td>\n",
              "      <td>Seven (a.k.a. Se7en) (1995)</td>\n",
              "      <td>Mystery|Thriller</td>\n",
              "    </tr>\n",
              "    <tr>\n",
              "      <th>2</th>\n",
              "      <td>32</td>\n",
              "      <td>0.815</td>\n",
              "      <td>Twelve Monkeys (a.k.a. 12 Monkeys) (1995)</td>\n",
              "      <td>Mystery|Sci-Fi|Thriller</td>\n",
              "    </tr>\n",
              "    <tr>\n",
              "      <th>3</th>\n",
              "      <td>2762</td>\n",
              "      <td>0.806</td>\n",
              "      <td>Sixth Sense, The (1999)</td>\n",
              "      <td>Drama|Horror|Mystery</td>\n",
              "    </tr>\n",
              "    <tr>\n",
              "      <th>4</th>\n",
              "      <td>4226</td>\n",
              "      <td>0.758</td>\n",
              "      <td>Memento (2000)</td>\n",
              "      <td>Mystery|Thriller</td>\n",
              "    </tr>\n",
              "    <tr>\n",
              "      <th>5</th>\n",
              "      <td>79132</td>\n",
              "      <td>0.672</td>\n",
              "      <td>Inception (2010)</td>\n",
              "      <td>Action|Crime|Drama|Mystery|Sci-Fi|Thriller|IMAX</td>\n",
              "    </tr>\n",
              "    <tr>\n",
              "      <th>6</th>\n",
              "      <td>648</td>\n",
              "      <td>0.663</td>\n",
              "      <td>Mission: Impossible (1996)</td>\n",
              "      <td>Action|Adventure|Mystery|Thriller</td>\n",
              "    </tr>\n",
              "    <tr>\n",
              "      <th>7</th>\n",
              "      <td>1089</td>\n",
              "      <td>0.637</td>\n",
              "      <td>Reservoir Dogs (1992)</td>\n",
              "      <td>Crime|Mystery|Thriller</td>\n",
              "    </tr>\n",
              "    <tr>\n",
              "      <th>8</th>\n",
              "      <td>5445</td>\n",
              "      <td>0.505</td>\n",
              "      <td>Minority Report (2002)</td>\n",
              "      <td>Action|Crime|Mystery|Sci-Fi|Thriller</td>\n",
              "    </tr>\n",
              "    <tr>\n",
              "      <th>9</th>\n",
              "      <td>4878</td>\n",
              "      <td>0.502</td>\n",
              "      <td>Donnie Darko (2001)</td>\n",
              "      <td>Drama|Mystery|Sci-Fi|Thriller</td>\n",
              "    </tr>\n",
              "    <tr>\n",
              "      <th>10</th>\n",
              "      <td>5418</td>\n",
              "      <td>0.494</td>\n",
              "      <td>Bourne Identity, The (2002)</td>\n",
              "      <td>Action|Mystery|Thriller</td>\n",
              "    </tr>\n",
              "    <tr>\n",
              "      <th>11</th>\n",
              "      <td>1617</td>\n",
              "      <td>0.455</td>\n",
              "      <td>L.A. Confidential (1997)</td>\n",
              "      <td>Crime|Film-Noir|Mystery|Thriller</td>\n",
              "    </tr>\n",
              "    <tr>\n",
              "      <th>12</th>\n",
              "      <td>48780</td>\n",
              "      <td>0.417</td>\n",
              "      <td>Prestige, The (2006)</td>\n",
              "      <td>Drama|Mystery|Sci-Fi|Thriller</td>\n",
              "    </tr>\n",
              "    <tr>\n",
              "      <th>13</th>\n",
              "      <td>904</td>\n",
              "      <td>0.414</td>\n",
              "      <td>Rear Window (1954)</td>\n",
              "      <td>Mystery|Thriller</td>\n",
              "    </tr>\n",
              "    <tr>\n",
              "      <th>14</th>\n",
              "      <td>2987</td>\n",
              "      <td>0.400</td>\n",
              "      <td>Who Framed Roger Rabbit? (1988)</td>\n",
              "      <td>Adventure|Animation|Children|Comedy|Crime|Fant...</td>\n",
              "    </tr>\n",
              "    <tr>\n",
              "      <th>15</th>\n",
              "      <td>32587</td>\n",
              "      <td>0.374</td>\n",
              "      <td>Sin City (2005)</td>\n",
              "      <td>Action|Crime|Film-Noir|Mystery|Thriller</td>\n",
              "    </tr>\n",
              "    <tr>\n",
              "      <th>16</th>\n",
              "      <td>1625</td>\n",
              "      <td>0.329</td>\n",
              "      <td>Game, The (1997)</td>\n",
              "      <td>Drama|Mystery|Thriller</td>\n",
              "    </tr>\n",
              "    <tr>\n",
              "      <th>17</th>\n",
              "      <td>923</td>\n",
              "      <td>0.322</td>\n",
              "      <td>Citizen Kane (1941)</td>\n",
              "      <td>Drama|Mystery</td>\n",
              "    </tr>\n",
              "    <tr>\n",
              "      <th>18</th>\n",
              "      <td>74458</td>\n",
              "      <td>0.311</td>\n",
              "      <td>Shutter Island (2010)</td>\n",
              "      <td>Drama|Mystery|Thriller</td>\n",
              "    </tr>\n",
              "    <tr>\n",
              "      <th>19</th>\n",
              "      <td>1252</td>\n",
              "      <td>0.287</td>\n",
              "      <td>Chinatown (1974)</td>\n",
              "      <td>Crime|Film-Noir|Mystery|Thriller</td>\n",
              "    </tr>\n",
              "  </tbody>\n",
              "</table>\n",
              "</div>"
            ],
            "text/plain": [
              "    movieId  popularity_score                                      title                                                     genres\n",
              "0        50             1.000                 Usual Suspects, The (1995)                                     Crime|Mystery|Thriller\n",
              "1        47             0.933                Seven (a.k.a. Se7en) (1995)                                           Mystery|Thriller\n",
              "2        32             0.815  Twelve Monkeys (a.k.a. 12 Monkeys) (1995)                                    Mystery|Sci-Fi|Thriller\n",
              "3      2762             0.806                    Sixth Sense, The (1999)                                       Drama|Horror|Mystery\n",
              "4      4226             0.758                             Memento (2000)                                           Mystery|Thriller\n",
              "5     79132             0.672                           Inception (2010)            Action|Crime|Drama|Mystery|Sci-Fi|Thriller|IMAX\n",
              "6       648             0.663                 Mission: Impossible (1996)                          Action|Adventure|Mystery|Thriller\n",
              "7      1089             0.637                      Reservoir Dogs (1992)                                     Crime|Mystery|Thriller\n",
              "8      5445             0.505                     Minority Report (2002)                       Action|Crime|Mystery|Sci-Fi|Thriller\n",
              "9      4878             0.502                        Donnie Darko (2001)                              Drama|Mystery|Sci-Fi|Thriller\n",
              "10     5418             0.494                Bourne Identity, The (2002)                                    Action|Mystery|Thriller\n",
              "11     1617             0.455                   L.A. Confidential (1997)                           Crime|Film-Noir|Mystery|Thriller\n",
              "12    48780             0.417                       Prestige, The (2006)                              Drama|Mystery|Sci-Fi|Thriller\n",
              "13      904             0.414                         Rear Window (1954)                                           Mystery|Thriller\n",
              "14     2987             0.400            Who Framed Roger Rabbit? (1988)  Adventure|Animation|Children|Comedy|Crime|Fantasy|Mystery\n",
              "15    32587             0.374                            Sin City (2005)                    Action|Crime|Film-Noir|Mystery|Thriller\n",
              "16     1625             0.329                           Game, The (1997)                                     Drama|Mystery|Thriller\n",
              "17      923             0.322                        Citizen Kane (1941)                                              Drama|Mystery\n",
              "18    74458             0.311                      Shutter Island (2010)                                     Drama|Mystery|Thriller\n",
              "19     1252             0.287                           Chinatown (1974)                           Crime|Film-Noir|Mystery|Thriller"
            ]
          },
          "metadata": {
            "tags": []
          },
          "execution_count": 54
        }
      ]
    },
    {
      "cell_type": "markdown",
      "metadata": {
        "id": "07tsCjERmtWM"
      },
      "source": [
        "#Part5: Faiss"
      ]
    },
    {
      "cell_type": "markdown",
      "metadata": {
        "id": "WH0JBsyxb2kx"
      },
      "source": [
        "Fullfill the type to use Faiss:\n",
        "index = int64, val=float32"
      ]
    },
    {
      "cell_type": "code",
      "metadata": {
        "colab": {
          "base_uri": "https://localhost:8080/"
        },
        "id": "dPLA7dwkXMq9",
        "outputId": "2568188e-10e3-43a5-8225-5939f7a48f6b"
      },
      "source": [
        "!pip install faiss-gpu"
      ],
      "execution_count": null,
      "outputs": [
        {
          "output_type": "stream",
          "text": [
            "Collecting faiss-gpu\n",
            "  Using cached https://files.pythonhosted.org/packages/5d/36/383911b8edf8c29cb7e9e8aee4e6b69b0f36c52237e3a06ce64a9551ef22/faiss_gpu-1.7.0-cp37-cp37m-manylinux2014_x86_64.whl\n",
            "Installing collected packages: faiss-gpu\n",
            "Successfully installed faiss-gpu-1.7.0\n"
          ],
          "name": "stdout"
        }
      ]
    },
    {
      "cell_type": "code",
      "metadata": {
        "id": "3HtPpnIysMoK"
      },
      "source": [
        "import faiss"
      ],
      "execution_count": null,
      "outputs": []
    },
    {
      "cell_type": "code",
      "metadata": {
        "colab": {
          "base_uri": "https://localhost:8080/",
          "height": 198
        },
        "id": "O3N1jmPXXykZ",
        "outputId": "d62230f3-3ce7-4fa4-e3f7-60e2608161cc"
      },
      "source": [
        "#load movie embedding by item2vec\n",
        "item2vec_df = spark.read.csv('/content/drive/MyDrive/Projects/MovieRecommendation/movies_embedding.csv', header=True)\n",
        "item2vec_pdf = item2vec_df.toPandas()\n",
        "item2vec_pdf.head()"
      ],
      "execution_count": null,
      "outputs": [
        {
          "output_type": "execute_result",
          "data": {
            "text/html": [
              "<div>\n",
              "<style scoped>\n",
              "    .dataframe tbody tr th:only-of-type {\n",
              "        vertical-align: middle;\n",
              "    }\n",
              "\n",
              "    .dataframe tbody tr th {\n",
              "        vertical-align: top;\n",
              "    }\n",
              "\n",
              "    .dataframe thead th {\n",
              "        text-align: right;\n",
              "    }\n",
              "</style>\n",
              "<table border=\"1\" class=\"dataframe\">\n",
              "  <thead>\n",
              "    <tr style=\"text-align: right;\">\n",
              "      <th></th>\n",
              "      <th>movieId</th>\n",
              "      <th>vector</th>\n",
              "    </tr>\n",
              "  </thead>\n",
              "  <tbody>\n",
              "    <tr>\n",
              "      <th>0</th>\n",
              "      <td>26985</td>\n",
              "      <td>[-0.005693458952009678,0.011207448318600655,0....</td>\n",
              "    </tr>\n",
              "    <tr>\n",
              "      <th>1</th>\n",
              "      <td>5451</td>\n",
              "      <td>[-0.051304496824741364,-0.08262942731380463,-0...</td>\n",
              "    </tr>\n",
              "    <tr>\n",
              "      <th>2</th>\n",
              "      <td>4018</td>\n",
              "      <td>[-0.08676673471927643,-0.12443593144416809,-0....</td>\n",
              "    </tr>\n",
              "    <tr>\n",
              "      <th>3</th>\n",
              "      <td>4056</td>\n",
              "      <td>[-0.06413149833679199,-0.07012783735990524,-0....</td>\n",
              "    </tr>\n",
              "    <tr>\n",
              "      <th>4</th>\n",
              "      <td>32584</td>\n",
              "      <td>[0.0955715999007225,-0.07193352282047272,0.010...</td>\n",
              "    </tr>\n",
              "  </tbody>\n",
              "</table>\n",
              "</div>"
            ],
            "text/plain": [
              "  movieId                                             vector\n",
              "0   26985  [-0.005693458952009678,0.011207448318600655,0....\n",
              "1    5451  [-0.051304496824741364,-0.08262942731380463,-0...\n",
              "2    4018  [-0.08676673471927643,-0.12443593144416809,-0....\n",
              "3    4056  [-0.06413149833679199,-0.07012783735990524,-0....\n",
              "4   32584  [0.0955715999007225,-0.07193352282047272,0.010..."
            ]
          },
          "metadata": {
            "tags": []
          },
          "execution_count": 70
        }
      ]
    },
    {
      "cell_type": "code",
      "metadata": {
        "colab": {
          "base_uri": "https://localhost:8080/"
        },
        "id": "Lq9FeF51ZHjU",
        "outputId": "660dffe6-d538-440b-8bd6-98110bda6685"
      },
      "source": [
        "#convert movieid into numpy array with type of int64\n",
        "ids = item2vec_pdf['movieId'].values.astype(np.int64)\n",
        "type(ids), ids.shape, ids.dtype"
      ],
      "execution_count": null,
      "outputs": [
        {
          "output_type": "execute_result",
          "data": {
            "text/plain": [
              "(numpy.ndarray, (6298,), dtype('int64'))"
            ]
          },
          "metadata": {
            "tags": []
          },
          "execution_count": 76
        }
      ]
    },
    {
      "cell_type": "code",
      "metadata": {
        "colab": {
          "base_uri": "https://localhost:8080/"
        },
        "id": "b1xnZh0uapwF",
        "outputId": "b181ef4f-cd19-4157-ac7f-6bd0e063996d"
      },
      "source": [
        "#build a list inorder to convert vector to type numpy float32\n",
        "import json\n",
        "datas = np.array([json.loads(x) for x in item2vec_pdf['vector']]).astype(np.float32)\n",
        "datas.dtype, datas.shape, datas[0]"
      ],
      "execution_count": null,
      "outputs": [
        {
          "output_type": "execute_result",
          "data": {
            "text/plain": [
              "(dtype('float32'),\n",
              " (6298, 5),\n",
              " array([-0.00569346,  0.01120745,  0.07502368, -0.00878271, -0.13078259],\n",
              "       dtype=float32))"
            ]
          },
          "metadata": {
            "tags": []
          },
          "execution_count": 101
        }
      ]
    },
    {
      "cell_type": "code",
      "metadata": {
        "colab": {
          "base_uri": "https://localhost:8080/"
        },
        "id": "ev-eJwQ7cNUK",
        "outputId": "130f4c5d-dc1a-4257-bb2d-bf902e4793fa"
      },
      "source": [
        "#dimension of our embedding\n",
        "dimension = datas.shape[1]\n",
        "print('dimension of embedding:', dimension)"
      ],
      "execution_count": null,
      "outputs": [
        {
          "output_type": "stream",
          "text": [
            "dimension of embedding: 5\n"
          ],
          "name": "stdout"
        }
      ]
    },
    {
      "cell_type": "markdown",
      "metadata": {
        "id": "qOFOYCCldJqH"
      },
      "source": [
        "###Part5_2: Create Index in Faiss"
      ]
    },
    {
      "cell_type": "code",
      "metadata": {
        "id": "N-Q0B98FdFov"
      },
      "source": [
        "#set up index dimension\n",
        "index = faiss.IndexFlatL2(dimension)\n",
        "\n",
        "#map index with id\n",
        "index2 = faiss.IndexIDMap(index)"
      ],
      "execution_count": null,
      "outputs": []
    },
    {
      "cell_type": "code",
      "metadata": {
        "id": "IR-KKN3hd462"
      },
      "source": [
        "#load embedding as index and ids and ID into faiss\n",
        "index2.add_with_ids(datas, ids)"
      ],
      "execution_count": null,
      "outputs": []
    },
    {
      "cell_type": "code",
      "metadata": {
        "colab": {
          "base_uri": "https://localhost:8080/"
        },
        "id": "2277HLWueKaI",
        "outputId": "01b87274-8986-4c18-d07a-f23bdb3acea4"
      },
      "source": [
        "#check number of embedding(index) we have in faiss\n",
        "index.ntotal"
      ],
      "execution_count": null,
      "outputs": [
        {
          "output_type": "execute_result",
          "data": {
            "text/plain": [
              "6298"
            ]
          },
          "metadata": {
            "tags": []
          },
          "execution_count": 90
        }
      ]
    },
    {
      "cell_type": "markdown",
      "metadata": {
        "id": "PaRT1iBtfH9r"
      },
      "source": [
        "###Part5_3: Search Neareast Neighbors (movies) For User"
      ]
    },
    {
      "cell_type": "code",
      "metadata": {
        "id": "vVPHfZpXeZ_T"
      },
      "source": [
        "user_embeddings_df=pd.read_csv('/content/drive/MyDrive/Projects/MovieRecommendation/user_embedding.csv')\n",
        "user_embeddings_df.head()"
      ],
      "execution_count": null,
      "outputs": []
    },
    {
      "cell_type": "code",
      "metadata": {
        "colab": {
          "base_uri": "https://localhost:8080/"
        },
        "id": "YmHWoyhIfEAm",
        "outputId": "859fa316-da12-4936-93a7-b61ee52c0db2"
      },
      "source": [
        "#get the user embedding vector\n",
        "user_232 = np.array(json.loads(user_embeddings_df[user_embeddings_df['userId']== 232]['user2vec'].iloc[0]))\n",
        "\n",
        "#convert to numpy array with type float32 and expand dimension to (1, dim of embedding)\n",
        "user_232 = np.expand_dims(user_232, axis=0).astype(np.float32)\n",
        "user_232.shape, user_232"
      ],
      "execution_count": null,
      "outputs": [
        {
          "output_type": "execute_result",
          "data": {
            "text/plain": [
              "((1, 5),\n",
              " array([[ 0.01666504, -0.12019113, -0.09015986, -0.00806278, -0.05396172]],\n",
              "       dtype=float32))"
            ]
          },
          "metadata": {
            "tags": []
          },
          "execution_count": 102
        }
      ]
    },
    {
      "cell_type": "code",
      "metadata": {
        "id": "ZZwz7MiZl3GN"
      },
      "source": [
        "#Seach for neareast embedding\n",
        "\n",
        "#set # of near neighbor\n",
        "topk=20\n",
        "\n",
        "#search \n",
        "distance, indices  = index2.search(user_232, topk)"
      ],
      "execution_count": null,
      "outputs": []
    },
    {
      "cell_type": "code",
      "metadata": {
        "colab": {
          "base_uri": "https://localhost:8080/"
        },
        "id": "zbB9cAumnz6t",
        "outputId": "7ca59a52-fcf6-48ef-addd-f1fc05281df5"
      },
      "source": [
        "#show distance to each indices\n",
        "distance.shape, distance"
      ],
      "execution_count": null,
      "outputs": [
        {
          "output_type": "execute_result",
          "data": {
            "text/plain": [
              "((1, 20), array([[0.00058942, 0.00071249, 0.00078165, 0.00103911, 0.0013156 ,\n",
              "         0.00141819, 0.00146052, 0.00152511, 0.00171519, 0.00187067,\n",
              "         0.00203172, 0.00205761, 0.00211652, 0.00212567, 0.00217989,\n",
              "         0.00220857, 0.00235677, 0.00243884, 0.00243946, 0.00247651]],\n",
              "       dtype=float32))"
            ]
          },
          "metadata": {
            "tags": []
          },
          "execution_count": 110
        }
      ]
    },
    {
      "cell_type": "code",
      "metadata": {
        "colab": {
          "base_uri": "https://localhost:8080/"
        },
        "id": "PWe4ZLGEn5U1",
        "outputId": "51abf81b-1259-4e4d-d108-80986ec93b79"
      },
      "source": [
        "indices.shape, indices"
      ],
      "execution_count": null,
      "outputs": [
        {
          "output_type": "execute_result",
          "data": {
            "text/plain": [
              "((1, 20),\n",
              " array([[ 65216,   2872, 106839,  42761,   5959,   1785, 104906,  66544,\n",
              "         130087,   2557,   8577,   7584,   3061, 173355,   2100,   3035,\n",
              "           2728, 149354,  26308,   4439]]))"
            ]
          },
          "metadata": {
            "tags": []
          },
          "execution_count": 111
        }
      ]
    },
    {
      "cell_type": "code",
      "metadata": {
        "colab": {
          "base_uri": "https://localhost:8080/",
          "height": 648
        },
        "id": "KQYCCvg-pbHN",
        "outputId": "c90bffe6-19d9-46f9-9151-90291ced2006"
      },
      "source": [
        "#convert movie dataframe to pandas\n",
        "movies_pdf = movies_df.toPandas()\n",
        "#bild a series and convert to type str to match movieid in movie dataframe\n",
        "target_ids = pd.Series(indices[0], name='movieId').astype(str)\n",
        "\n",
        "df_result = pd.merge(target_ids, movies_pdf)\n",
        "df_result"
      ],
      "execution_count": null,
      "outputs": [
        {
          "output_type": "execute_result",
          "data": {
            "text/html": [
              "<div>\n",
              "<style scoped>\n",
              "    .dataframe tbody tr th:only-of-type {\n",
              "        vertical-align: middle;\n",
              "    }\n",
              "\n",
              "    .dataframe tbody tr th {\n",
              "        vertical-align: top;\n",
              "    }\n",
              "\n",
              "    .dataframe thead th {\n",
              "        text-align: right;\n",
              "    }\n",
              "</style>\n",
              "<table border=\"1\" class=\"dataframe\">\n",
              "  <thead>\n",
              "    <tr style=\"text-align: right;\">\n",
              "      <th></th>\n",
              "      <th>movieId</th>\n",
              "      <th>title</th>\n",
              "      <th>genres</th>\n",
              "    </tr>\n",
              "  </thead>\n",
              "  <tbody>\n",
              "    <tr>\n",
              "      <th>0</th>\n",
              "      <td>65216</td>\n",
              "      <td>Defiance (2008)</td>\n",
              "      <td>Drama|Thriller|War</td>\n",
              "    </tr>\n",
              "    <tr>\n",
              "      <th>1</th>\n",
              "      <td>2872</td>\n",
              "      <td>Excalibur (1981)</td>\n",
              "      <td>Adventure|Fantasy</td>\n",
              "    </tr>\n",
              "    <tr>\n",
              "      <th>2</th>\n",
              "      <td>106839</td>\n",
              "      <td>Mandela: Long Walk to Freedom (2013)</td>\n",
              "      <td>Drama</td>\n",
              "    </tr>\n",
              "    <tr>\n",
              "      <th>3</th>\n",
              "      <td>42761</td>\n",
              "      <td>Casper Meets Wendy (1998)</td>\n",
              "      <td>Adventure|Children|Comedy|Fantasy</td>\n",
              "    </tr>\n",
              "    <tr>\n",
              "      <th>4</th>\n",
              "      <td>5959</td>\n",
              "      <td>Narc (2002)</td>\n",
              "      <td>Crime|Drama|Thriller</td>\n",
              "    </tr>\n",
              "    <tr>\n",
              "      <th>5</th>\n",
              "      <td>1785</td>\n",
              "      <td>King of New York (1990)</td>\n",
              "      <td>Crime|Thriller</td>\n",
              "    </tr>\n",
              "    <tr>\n",
              "      <th>6</th>\n",
              "      <td>104906</td>\n",
              "      <td>Austenland (2013)</td>\n",
              "      <td>Comedy|Romance</td>\n",
              "    </tr>\n",
              "    <tr>\n",
              "      <th>7</th>\n",
              "      <td>66544</td>\n",
              "      <td>Nuremberg (2000)</td>\n",
              "      <td>Drama|War</td>\n",
              "    </tr>\n",
              "    <tr>\n",
              "      <th>8</th>\n",
              "      <td>130087</td>\n",
              "      <td>The Cobbler (2015)</td>\n",
              "      <td>Comedy|Drama|Fantasy</td>\n",
              "    </tr>\n",
              "    <tr>\n",
              "      <th>9</th>\n",
              "      <td>2557</td>\n",
              "      <td>I Stand Alone (Seul contre tous) (1998)</td>\n",
              "      <td>Drama|Thriller</td>\n",
              "    </tr>\n",
              "    <tr>\n",
              "      <th>10</th>\n",
              "      <td>8577</td>\n",
              "      <td>Comandante (2003)</td>\n",
              "      <td>Documentary</td>\n",
              "    </tr>\n",
              "    <tr>\n",
              "      <th>11</th>\n",
              "      <td>7584</td>\n",
              "      <td>Woman of the Year (1942)</td>\n",
              "      <td>Comedy|Romance</td>\n",
              "    </tr>\n",
              "    <tr>\n",
              "      <th>12</th>\n",
              "      <td>3061</td>\n",
              "      <td>Holiday Inn (1942)</td>\n",
              "      <td>Comedy|Musical</td>\n",
              "    </tr>\n",
              "    <tr>\n",
              "      <th>13</th>\n",
              "      <td>173355</td>\n",
              "      <td>Travels of an Ant (1983)</td>\n",
              "      <td>Animation</td>\n",
              "    </tr>\n",
              "    <tr>\n",
              "      <th>14</th>\n",
              "      <td>2100</td>\n",
              "      <td>Splash (1984)</td>\n",
              "      <td>Comedy|Fantasy|Romance</td>\n",
              "    </tr>\n",
              "    <tr>\n",
              "      <th>15</th>\n",
              "      <td>3035</td>\n",
              "      <td>Mister Roberts (1955)</td>\n",
              "      <td>Comedy|Drama|War</td>\n",
              "    </tr>\n",
              "    <tr>\n",
              "      <th>16</th>\n",
              "      <td>2728</td>\n",
              "      <td>Spartacus (1960)</td>\n",
              "      <td>Action|Drama|Romance|War</td>\n",
              "    </tr>\n",
              "    <tr>\n",
              "      <th>17</th>\n",
              "      <td>149354</td>\n",
              "      <td>Sisters (2015)</td>\n",
              "      <td>Children|Comedy</td>\n",
              "    </tr>\n",
              "    <tr>\n",
              "      <th>18</th>\n",
              "      <td>26308</td>\n",
              "      <td>Turkish Delight (Turks fruit) (1973)</td>\n",
              "      <td>Drama|Romance</td>\n",
              "    </tr>\n",
              "    <tr>\n",
              "      <th>19</th>\n",
              "      <td>4439</td>\n",
              "      <td>Christiane F. (a.k.a. We Children from Bahnhof...</td>\n",
              "      <td>Drama</td>\n",
              "    </tr>\n",
              "  </tbody>\n",
              "</table>\n",
              "</div>"
            ],
            "text/plain": [
              "   movieId  ...                             genres\n",
              "0    65216  ...                 Drama|Thriller|War\n",
              "1     2872  ...                  Adventure|Fantasy\n",
              "2   106839  ...                              Drama\n",
              "3    42761  ...  Adventure|Children|Comedy|Fantasy\n",
              "4     5959  ...               Crime|Drama|Thriller\n",
              "5     1785  ...                     Crime|Thriller\n",
              "6   104906  ...                     Comedy|Romance\n",
              "7    66544  ...                          Drama|War\n",
              "8   130087  ...               Comedy|Drama|Fantasy\n",
              "9     2557  ...                     Drama|Thriller\n",
              "10    8577  ...                        Documentary\n",
              "11    7584  ...                     Comedy|Romance\n",
              "12    3061  ...                     Comedy|Musical\n",
              "13  173355  ...                          Animation\n",
              "14    2100  ...             Comedy|Fantasy|Romance\n",
              "15    3035  ...                   Comedy|Drama|War\n",
              "16    2728  ...           Action|Drama|Romance|War\n",
              "17  149354  ...                    Children|Comedy\n",
              "18   26308  ...                      Drama|Romance\n",
              "19    4439  ...                              Drama\n",
              "\n",
              "[20 rows x 3 columns]"
            ]
          },
          "metadata": {
            "tags": []
          },
          "execution_count": 122
        }
      ]
    },
    {
      "cell_type": "markdown",
      "metadata": {
        "id": "5PW1TQ4jt8C1"
      },
      "source": [
        "#Summary:"
      ]
    },
    {
      "cell_type": "code",
      "metadata": {
        "colab": {
          "base_uri": "https://localhost:8080/"
        },
        "id": "XPR1vrNUmpNC",
        "outputId": "186b20bd-f0e4-419c-e790-101c1428e9af"
      },
      "source": [
        "item_factors = model_with_whole.itemFactors\n",
        "item_factors_kdf =item_factors.to_koalas()\n",
        "item_factors_kdf['features'][:10]"
      ],
      "execution_count": null,
      "outputs": [
        {
          "output_type": "execute_result",
          "data": {
            "text/plain": [
              "0    [1.4648919105529785, 0.0718386098742485, 0.424...\n",
              "1    [1.2322094440460205, -0.2863774001598358, -0.1...\n",
              "2    [0.0037283485289663076, -1.0100698471069336, -...\n",
              "3    [1.94633948802948, 0.18103338778018951, -0.175...\n",
              "4    [1.187429666519165, -0.20298191905021667, -0.1...\n",
              "5    [0.9518542885780334, 0.6288241744041443, 0.301...\n",
              "6    [1.562170386314392, -0.3827778995037079, 0.213...\n",
              "7    [0.980122447013855, -0.335527241230011, -0.331...\n",
              "8    [0.6450062990188599, 0.5166376233100891, -0.01...\n",
              "9    [1.4461170434951782, -0.15179967880249023, 0.4...\n",
              "Name: features, dtype: object"
            ]
          },
          "metadata": {
            "tags": []
          },
          "execution_count": 131
        }
      ]
    },
    {
      "cell_type": "code",
      "metadata": {
        "id": "-ilPrDvX4o1T"
      },
      "source": [
        "#define an udf function for finding a similar movie\n",
        "def similar_movies(features, movieId):\n",
        "\n",
        "  try: \n",
        "    target_id_feature = item_factors_kdf.loc[item_factors_kdf.id == movieId].features.to_numpy()[0]\n",
        "  except:\n",
        "    return 'There is no movie with id ' + str(movieId)\n",
        "\n",
        "  similarities = []\n",
        "  for feature in item_factors_kdf['features'].to_numpy():\n",
        "    similarity = np.dot(target_id_feature,feature)/(np.linalg.norm(target_id_feature) * np.linalg.norm(feature))\n",
        "    similarities.append(similarity)\n",
        "    \n",
        "  ks_similarity = ks.DataFrame({'similarity' : similarities}, index = item_factors_kdf.id.to_numpy())\n",
        "  # top 11 similar movies contain the movie itself with similarity = 1, so I need to remove it. \n",
        "  top_11 = ks_similarity.sort_values(by = ['similarity'], ascending = False).head(11)\n",
        "  joint = top_11.merge(movies_kdf, left_index=True, right_on = 'movieId', how = 'inner')\n",
        "  joint.sort_values(by = ['similarity'], ascending = False,inplace = True)\n",
        "  joint.reset_index(inplace = True)\n",
        "  # take top 10 similar movies\n",
        "  return joint.loc[1:,['movieId','title','genres']]"
      ],
      "execution_count": null,
      "outputs": []
    },
    {
      "cell_type": "code",
      "metadata": {
        "colab": {
          "base_uri": "https://localhost:8080/"
        },
        "id": "WyD2fKgvj9zP",
        "outputId": "11b11fae-5c59-463f-d8e0-98608b3f06cb"
      },
      "source": [
        "res = updated_ratings_df.join(movies_df, on='movieId', how='left').where('userId=471').orderBy(col('rating').desc())\n",
        "res.show()"
      ],
      "execution_count": null,
      "outputs": [
        {
          "output_type": "stream",
          "text": [
            "+-------+------+------+--------------------+--------------------+\n",
            "|movieId|userId|rating|               title|              genres|\n",
            "+-------+------+------+--------------------+--------------------+\n",
            "|      1|   471|   5.0|    Toy Story (1995)|Adventure|Animati...|\n",
            "|   2324|   471|   5.0|Life Is Beautiful...|Comedy|Drama|Roma...|\n",
            "| 158966|   471|   4.5|Captain Fantastic...|               Drama|\n",
            "| 168252|   471|   4.5|        Logan (2017)|       Action|Sci-Fi|\n",
            "|    527|   471|   4.5|Schindler's List ...|           Drama|War|\n",
            "|  60069|   471|   4.5|       WALL·E (2008)|Adventure|Animati...|\n",
            "|  78499|   471|   4.5|  Toy Story 3 (2010)|Adventure|Animati...|\n",
            "|    296|   471|   4.0| Pulp Fiction (1994)|Comedy|Crime|Dram...|\n",
            "|   7147|   471|   4.0|     Big Fish (2003)|Drama|Fantasy|Rom...|\n",
            "|   6377|   471|   4.0| Finding Nemo (2003)|Adventure|Animati...|\n",
            "|   2959|   471|   4.0|   Fight Club (1999)|Action|Crime|Dram...|\n",
            "|   4973|   471|   4.0|Amelie (Fabuleux ...|      Comedy|Romance|\n",
            "|  68157|   471|   4.0|Inglourious Baste...|    Action|Drama|War|\n",
            "|   4886|   471|   4.0|Monsters, Inc. (2...|Adventure|Animati...|\n",
            "|   8874|   471|   3.5|Shaun of the Dead...|       Comedy|Horror|\n",
            "|   2571|   471|   3.5|  Matrix, The (1999)|Action|Sci-Fi|Thr...|\n",
            "|   8961|   471|   3.5|Incredibles, The ...|Action|Adventure|...|\n",
            "|   6539|   471|   3.5|Pirates of the Ca...|Action|Adventure|...|\n",
            "|  44191|   471|   3.5|V for Vendetta (2...|Action|Sci-Fi|Thr...|\n",
            "|    356|   471|   3.0| Forrest Gump (1994)|Comedy|Drama|Roma...|\n",
            "+-------+------+------+--------------------+--------------------+\n",
            "only showing top 20 rows\n",
            "\n"
          ],
          "name": "stdout"
        }
      ]
    },
    {
      "cell_type": "code",
      "metadata": {
        "colab": {
          "base_uri": "https://localhost:8080/",
          "height": 348
        },
        "id": "A6yWEbCg5wd0",
        "outputId": "299e7b36-e86e-4a52-b04f-9701f2ef672c"
      },
      "source": [
        "similar_movies(features = item_factors_kdf['features'], movieId = 471)"
      ],
      "execution_count": null,
      "outputs": [
        {
          "output_type": "execute_result",
          "data": {
            "text/html": [
              "<div>\n",
              "<style scoped>\n",
              "    .dataframe tbody tr th:only-of-type {\n",
              "        vertical-align: middle;\n",
              "    }\n",
              "\n",
              "    .dataframe tbody tr th {\n",
              "        vertical-align: top;\n",
              "    }\n",
              "\n",
              "    .dataframe thead th {\n",
              "        text-align: right;\n",
              "    }\n",
              "</style>\n",
              "<table border=\"1\" class=\"dataframe\">\n",
              "  <thead>\n",
              "    <tr style=\"text-align: right;\">\n",
              "      <th></th>\n",
              "      <th>movieId</th>\n",
              "      <th>title</th>\n",
              "      <th>genres</th>\n",
              "    </tr>\n",
              "  </thead>\n",
              "  <tbody>\n",
              "    <tr>\n",
              "      <th>1</th>\n",
              "      <td>66934</td>\n",
              "      <td>Dr. Horrible's Sing-Along Blog (2008)</td>\n",
              "      <td>Comedy|Drama|Musical|Sci-Fi</td>\n",
              "    </tr>\n",
              "    <tr>\n",
              "      <th>2</th>\n",
              "      <td>27731</td>\n",
              "      <td>Cat Returns, The (Neko no ongaeshi) (2002)</td>\n",
              "      <td>Adventure|Animation|Children|Fantasy</td>\n",
              "    </tr>\n",
              "    <tr>\n",
              "      <th>3</th>\n",
              "      <td>56921</td>\n",
              "      <td>Battlestar Galactica: Razor (2007)</td>\n",
              "      <td>Action|Drama|Sci-Fi|Thriller</td>\n",
              "    </tr>\n",
              "    <tr>\n",
              "      <th>4</th>\n",
              "      <td>14</td>\n",
              "      <td>Nixon (1995)</td>\n",
              "      <td>Drama</td>\n",
              "    </tr>\n",
              "    <tr>\n",
              "      <th>5</th>\n",
              "      <td>3181</td>\n",
              "      <td>Titus (1999)</td>\n",
              "      <td>Drama</td>\n",
              "    </tr>\n",
              "    <tr>\n",
              "      <th>6</th>\n",
              "      <td>8261</td>\n",
              "      <td>3 Women (Three Women) (1977)</td>\n",
              "      <td>Drama</td>\n",
              "    </tr>\n",
              "    <tr>\n",
              "      <th>7</th>\n",
              "      <td>745</td>\n",
              "      <td>Wallace &amp; Gromit: A Close Shave (1995)</td>\n",
              "      <td>Animation|Children|Comedy</td>\n",
              "    </tr>\n",
              "    <tr>\n",
              "      <th>8</th>\n",
              "      <td>80454</td>\n",
              "      <td>Princess (Prinsessa) (2010)</td>\n",
              "      <td>Drama</td>\n",
              "    </tr>\n",
              "    <tr>\n",
              "      <th>9</th>\n",
              "      <td>73501</td>\n",
              "      <td>Pekka ja Pätkä Suezilla (1958)</td>\n",
              "      <td>Comedy</td>\n",
              "    </tr>\n",
              "    <tr>\n",
              "      <th>10</th>\n",
              "      <td>77881</td>\n",
              "      <td>Lovers &amp; Leavers (Kuutamolla) (2002)</td>\n",
              "      <td>Drama|Romance</td>\n",
              "    </tr>\n",
              "  </tbody>\n",
              "</table>\n",
              "</div>"
            ],
            "text/plain": [
              "    movieId                                       title                                genres\n",
              "1     66934       Dr. Horrible's Sing-Along Blog (2008)           Comedy|Drama|Musical|Sci-Fi\n",
              "2     27731  Cat Returns, The (Neko no ongaeshi) (2002)  Adventure|Animation|Children|Fantasy\n",
              "3     56921          Battlestar Galactica: Razor (2007)          Action|Drama|Sci-Fi|Thriller\n",
              "4        14                                Nixon (1995)                                 Drama\n",
              "5      3181                                Titus (1999)                                 Drama\n",
              "6      8261                3 Women (Three Women) (1977)                                 Drama\n",
              "7       745      Wallace & Gromit: A Close Shave (1995)             Animation|Children|Comedy\n",
              "8     80454                 Princess (Prinsessa) (2010)                                 Drama\n",
              "9     73501              Pekka ja Pätkä Suezilla (1958)                                Comedy\n",
              "10    77881        Lovers & Leavers (Kuutamolla) (2002)                         Drama|Romance"
            ]
          },
          "metadata": {
            "tags": []
          },
          "execution_count": 138
        }
      ]
    },
    {
      "cell_type": "markdown",
      "metadata": {
        "id": "ldVEJRbG947l"
      },
      "source": [
        "*Find* similar movies for movieId 463 and 471."
      ]
    },
    {
      "cell_type": "code",
      "metadata": {
        "colab": {
          "base_uri": "https://localhost:8080/",
          "height": 80
        },
        "id": "Ou5VbmKl8CGw",
        "outputId": "753269e0-3d6c-4adc-b4a7-e45e30c9047e"
      },
      "source": [
        "movies_df.where('movieId=471').toPandas()"
      ],
      "execution_count": null,
      "outputs": [
        {
          "output_type": "execute_result",
          "data": {
            "text/html": [
              "<div>\n",
              "<style scoped>\n",
              "    .dataframe tbody tr th:only-of-type {\n",
              "        vertical-align: middle;\n",
              "    }\n",
              "\n",
              "    .dataframe tbody tr th {\n",
              "        vertical-align: top;\n",
              "    }\n",
              "\n",
              "    .dataframe thead th {\n",
              "        text-align: right;\n",
              "    }\n",
              "</style>\n",
              "<table border=\"1\" class=\"dataframe\">\n",
              "  <thead>\n",
              "    <tr style=\"text-align: right;\">\n",
              "      <th></th>\n",
              "      <th>movieId</th>\n",
              "      <th>title</th>\n",
              "      <th>genres</th>\n",
              "    </tr>\n",
              "  </thead>\n",
              "  <tbody>\n",
              "    <tr>\n",
              "      <th>0</th>\n",
              "      <td>471</td>\n",
              "      <td>Hudsucker Proxy, The (1994)</td>\n",
              "      <td>Comedy</td>\n",
              "    </tr>\n",
              "  </tbody>\n",
              "</table>\n",
              "</div>"
            ],
            "text/plain": [
              "  movieId                        title  genres\n",
              "0     471  Hudsucker Proxy, The (1994)  Comedy"
            ]
          },
          "metadata": {
            "tags": []
          },
          "execution_count": 52
        }
      ]
    },
    {
      "cell_type": "code",
      "metadata": {
        "colab": {
          "base_uri": "https://localhost:8080/",
          "height": 359
        },
        "id": "N1wlR9ay5ujR",
        "outputId": "31b7cf4f-bae9-45b3-fd8a-632f05d5a32f"
      },
      "source": [
        "similar_movies(features = item_factors_kf['features'], movieId = 471)"
      ],
      "execution_count": null,
      "outputs": [
        {
          "output_type": "execute_result",
          "data": {
            "text/html": [
              "<div>\n",
              "<style scoped>\n",
              "    .dataframe tbody tr th:only-of-type {\n",
              "        vertical-align: middle;\n",
              "    }\n",
              "\n",
              "    .dataframe tbody tr th {\n",
              "        vertical-align: top;\n",
              "    }\n",
              "\n",
              "    .dataframe thead th {\n",
              "        text-align: right;\n",
              "    }\n",
              "</style>\n",
              "<table border=\"1\" class=\"dataframe\">\n",
              "  <thead>\n",
              "    <tr style=\"text-align: right;\">\n",
              "      <th></th>\n",
              "      <th>movieId</th>\n",
              "      <th>title</th>\n",
              "      <th>genres</th>\n",
              "    </tr>\n",
              "  </thead>\n",
              "  <tbody>\n",
              "    <tr>\n",
              "      <th>1</th>\n",
              "      <td>6650</td>\n",
              "      <td>Kind Hearts and Coronets (1949)</td>\n",
              "      <td>Comedy|Drama</td>\n",
              "    </tr>\n",
              "    <tr>\n",
              "      <th>2</th>\n",
              "      <td>3088</td>\n",
              "      <td>Harvey (1950)</td>\n",
              "      <td>Comedy|Fantasy</td>\n",
              "    </tr>\n",
              "    <tr>\n",
              "      <th>3</th>\n",
              "      <td>3479</td>\n",
              "      <td>Ladyhawke (1985)</td>\n",
              "      <td>Adventure|Fantasy|Romance</td>\n",
              "    </tr>\n",
              "    <tr>\n",
              "      <th>4</th>\n",
              "      <td>1296</td>\n",
              "      <td>Room with a View, A (1986)</td>\n",
              "      <td>Drama|Romance</td>\n",
              "    </tr>\n",
              "    <tr>\n",
              "      <th>5</th>\n",
              "      <td>3732</td>\n",
              "      <td>Fury, The (1978)</td>\n",
              "      <td>Horror</td>\n",
              "    </tr>\n",
              "    <tr>\n",
              "      <th>6</th>\n",
              "      <td>2730</td>\n",
              "      <td>Barry Lyndon (1975)</td>\n",
              "      <td>Drama|Romance|War</td>\n",
              "    </tr>\n",
              "    <tr>\n",
              "      <th>7</th>\n",
              "      <td>5556</td>\n",
              "      <td>FearDotCom (a.k.a. Fear.com) (a.k.a. Fear Dot ...</td>\n",
              "      <td>Crime|Horror|Thriller</td>\n",
              "    </tr>\n",
              "    <tr>\n",
              "      <th>8</th>\n",
              "      <td>1212</td>\n",
              "      <td>Third Man, The (1949)</td>\n",
              "      <td>Film-Noir|Mystery|Thriller</td>\n",
              "    </tr>\n",
              "    <tr>\n",
              "      <th>9</th>\n",
              "      <td>2322</td>\n",
              "      <td>Soldier (1998)</td>\n",
              "      <td>Action|Sci-Fi|War</td>\n",
              "    </tr>\n",
              "    <tr>\n",
              "      <th>10</th>\n",
              "      <td>1094</td>\n",
              "      <td>Crying Game, The (1992)</td>\n",
              "      <td>Drama|Romance|Thriller</td>\n",
              "    </tr>\n",
              "  </tbody>\n",
              "</table>\n",
              "</div>"
            ],
            "text/plain": [
              "    movieId                                                      title                      genres\n",
              "1      6650                            Kind Hearts and Coronets (1949)                Comedy|Drama\n",
              "2      3088                                              Harvey (1950)              Comedy|Fantasy\n",
              "3      3479                                           Ladyhawke (1985)   Adventure|Fantasy|Romance\n",
              "4      1296                                 Room with a View, A (1986)               Drama|Romance\n",
              "5      3732                                           Fury, The (1978)                      Horror\n",
              "6      2730                                        Barry Lyndon (1975)           Drama|Romance|War\n",
              "7      5556  FearDotCom (a.k.a. Fear.com) (a.k.a. Fear Dot Com) (2002)       Crime|Horror|Thriller\n",
              "8      1212                                      Third Man, The (1949)  Film-Noir|Mystery|Thriller\n",
              "9      2322                                             Soldier (1998)           Action|Sci-Fi|War\n",
              "10     1094                                    Crying Game, The (1992)      Drama|Romance|Thriller"
            ]
          },
          "metadata": {
            "tags": []
          },
          "execution_count": 53
        }
      ]
    }
  ]
}